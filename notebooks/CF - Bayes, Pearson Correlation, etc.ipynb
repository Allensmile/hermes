{
 "cells": [
  {
   "cell_type": "markdown",
   "metadata": {},
   "source": [
    "# Comparing Collaborative Filtering Systems\n",
    "\n",
    "According to studies done by the article \"Comparing State-of-the-Art Collaborative Filtering Systems\" by Laurent Candillier, Frank Meyer, and Marc Boulle, the __best user based approach__ is based on __pearson similarity and 1500 neighbors__. \n",
    "\n",
    "The __best item based approach__ is based on __probabilistic similarity and 400 neighbors__. \n",
    "\n",
    "The __best model based approach__ is using __K-means with euclidean distance, 4 clusters and prediction scheme based on the nearest cluster and Bayes model minimizing MAE__.  \n",
    "\n",
    "Lastly, the __best default approach__ is based on __Bayes rule minimizing MAE__. \n",
    "\n",
    "We will try to implement the studies done by this article and see if we will achieve the same results. \n",
    "\n",
    "What we have implemented so far:\n",
    "* Bayes\n",
    "  * Bayes MAP\n",
    "  * Bayes MSE\n",
    "  * Bayes MAE\n",
    "* Pearson Correlation (partially)"
   ]
  },
  {
   "cell_type": "markdown",
   "metadata": {},
   "source": [
    "Table of Contents:\n",
    "```\n",
    "0. Last updated\n",
    "1. Install and import libraries\n",
    "2. Load dataset\n",
    "3. Convert dataset to DataFrame (optional) \n",
    "4. Determine characteristics of data (optional)\n",
    "5. Splitting the data (optional)\n",
    "6. Calculate similarities and find nearest neighbors\n",
    "7. Develop Model\n",
    "8. Evaluate Metrics\n",
    "9. Compare different CF systems\n",
    "```"
   ]
  },
  {
   "cell_type": "markdown",
   "metadata": {},
   "source": [
    "Explanation of Bayes:\n",
    "* https://www.countbayesie.com/blog/2015/2/18/bayes-theorem-with-lego\n",
    "* http://www.analyticsvidhya.com/blog/2015/09/naive-bayes-explained/"
   ]
  },
  {
   "cell_type": "markdown",
   "metadata": {},
   "source": [
    "## 0. Last updated"
   ]
  },
  {
   "cell_type": "code",
   "execution_count": 1,
   "metadata": {
    "collapsed": false
   },
   "outputs": [
    {
     "name": "stdout",
     "output_type": "stream",
     "text": [
      "2016-02-22 09:34:57\n"
     ]
    }
   ],
   "source": [
    "import datetime, time\n",
    "\n",
    "# timestamp is not correct; it is 8 hours ahead\n",
    "print (datetime.datetime.now() - datetime.timedelta(hours=8)).strftime('%Y-%m-%d %H:%M:%S')"
   ]
  },
  {
   "cell_type": "markdown",
   "metadata": {},
   "source": [
    "## 1. Install and import libraries"
   ]
  },
  {
   "cell_type": "code",
   "execution_count": 2,
   "metadata": {
    "collapsed": false
   },
   "outputs": [
    {
     "name": "stdout",
     "output_type": "stream",
     "text": [
      "Collecting git+git://github.com/pymc-devs/pymc.git\n",
      "  Cloning git://github.com/pymc-devs/pymc.git to /tmp/pip-cguRXH-build\n",
      "  Requirement already satisfied (use --upgrade to upgrade): pymc==2.3.6 from git+git://github.com/pymc-devs/pymc.git in /home/cdh_data/anaconda/lib/python2.7/site-packages\n"
     ]
    },
    {
     "name": "stderr",
     "output_type": "stream",
     "text": [
      "You are using pip version 7.1.2, however version 8.0.2 is available.\n",
      "You should consider upgrading via the 'pip install --upgrade pip' command.\n"
     ]
    }
   ],
   "source": [
    "import importlib\n",
    "import pip\n",
    "\n",
    "def _install(package):\n",
    "    pip.main(['install', package])\n",
    "\n",
    "def _import(package):\n",
    "    importlib.import_module(package)\n",
    "    \n",
    "def install_and_import(package):\n",
    "    try:\n",
    "        _import(package)\n",
    "    except ImportError:\n",
    "        _install(package)\n",
    "        \n",
    "# install PyMC\n",
    "install_and_import(\"git+git://github.com/pymc-devs/pymc.git\")"
   ]
  },
  {
   "cell_type": "code",
   "execution_count": 3,
   "metadata": {
    "collapsed": false,
    "scrolled": true
   },
   "outputs": [
    {
     "name": "stdout",
     "output_type": "stream",
     "text": [
      "temporary directory: /tmp/tmpwlWr9J\n",
      "\n",
      "temporary directory for zip file: /tmp/tmpCu0tZV\n",
      "\n",
      "zip file's path: /tmp/tmpCu0tZV/hermes_src_2.zip\n",
      "\n",
      "current branch: master\n",
      "\n",
      "list all in /tmp/tmpwlWr9J:\n",
      "/tmp/tmpwlWr9J/.gitignore\n",
      "/tmp/tmpwlWr9J/README.md\n",
      "/tmp/tmpwlWr9J/LICENSE\n",
      "/tmp/tmpwlWr9J/.git/config\n",
      "/tmp/tmpwlWr9J/.git/packed-refs\n",
      "/tmp/tmpwlWr9J/.git/index\n",
      "/tmp/tmpwlWr9J/.git/description\n",
      "/tmp/tmpwlWr9J/.git/HEAD\n",
      "/tmp/tmpwlWr9J/.git/hooks/applypatch-msg.sample\n",
      "/tmp/tmpwlWr9J/.git/hooks/pre-rebase.sample\n",
      "/tmp/tmpwlWr9J/.git/hooks/update.sample\n",
      "/tmp/tmpwlWr9J/.git/hooks/post-commit.sample\n",
      "/tmp/tmpwlWr9J/.git/hooks/commit-msg.sample\n",
      "/tmp/tmpwlWr9J/.git/hooks/prepare-commit-msg.sample\n",
      "/tmp/tmpwlWr9J/.git/hooks/post-update.sample\n",
      "/tmp/tmpwlWr9J/.git/hooks/pre-applypatch.sample\n",
      "/tmp/tmpwlWr9J/.git/hooks/post-receive.sample\n",
      "/tmp/tmpwlWr9J/.git/hooks/pre-commit.sample\n",
      "/tmp/tmpwlWr9J/.git/refs/remotes/origin/HEAD\n",
      "/tmp/tmpwlWr9J/.git/refs/heads/master\n",
      "/tmp/tmpwlWr9J/.git/logs/HEAD\n",
      "/tmp/tmpwlWr9J/.git/logs/refs/heads/master\n",
      "/tmp/tmpwlWr9J/.git/info/exclude\n",
      "/tmp/tmpwlWr9J/.git/objects/pack/pack-ae2be7969f863ae6c9eef5c41b3da877f2a27a87.idx\n",
      "/tmp/tmpwlWr9J/.git/objects/pack/pack-ae2be7969f863ae6c9eef5c41b3da877f2a27a87.pack\n",
      "/tmp/tmpwlWr9J/src/hermes_run_script.py\n",
      "/tmp/tmpwlWr9J/src/__init__.py\n",
      "/tmp/tmpwlWr9J/src/utils/clean_links.py\n",
      "/tmp/tmpwlWr9J/src/utils/content_vector_tf_idf.py\n",
      "/tmp/tmpwlWr9J/src/utils/article_to_category.py\n",
      "/tmp/tmpwlWr9J/src/utils/glove.py\n",
      "/tmp/tmpwlWr9J/src/utils/remove_templates.py\n",
      "/tmp/tmpwlWr9J/src/utils/xml_to_json.py\n",
      "/tmp/tmpwlWr9J/src/utils/wiki_categories.py\n",
      "/tmp/tmpwlWr9J/src/utils/clean_categories.py\n",
      "/tmp/tmpwlWr9J/src/utils/save_load.py\n",
      "/tmp/tmpwlWr9J/src/utils/__init__.py\n",
      "/tmp/tmpwlWr9J/src/utils/osm_etl/osm.py\n",
      "/tmp/tmpwlWr9J/src/utils/osm_etl/__init__.py\n",
      "/tmp/tmpwlWr9J/src/utils/code_etl/git_manager.py\n",
      "/tmp/tmpwlWr9J/src/utils/code_etl/download_data.sh\n",
      "/tmp/tmpwlWr9J/src/utils/code_etl/cd.py\n",
      "/tmp/tmpwlWr9J/src/utils/code_etl/repo_to_json.py\n",
      "/tmp/tmpwlWr9J/src/utils/code_etl/blame_to_json.py\n",
      "/tmp/tmpwlWr9J/src/utils/code_etl/user_to_file_mapper.py\n",
      "/tmp/tmpwlWr9J/src/utils/code_etl/__init__.py\n",
      "/tmp/tmpwlWr9J/src/utils/movielens_etl/ml20m_to_json.py\n",
      "/tmp/tmpwlWr9J/src/utils/movielens_etl/ml1m_to_json.py\n",
      "/tmp/tmpwlWr9J/src/utils/movielens_etl/movielens.py\n",
      "/tmp/tmpwlWr9J/src/utils/movielens_etl/__init__.py\n",
      "/tmp/tmpwlWr9J/src/utils/movielens_etl/ml10m_to_json.py\n",
      "/tmp/tmpwlWr9J/src/utils/lastfm_etl/README.md\n",
      "/tmp/tmpwlWr9J/src/utils/lastfm_etl/lastfm.py\n",
      "/tmp/tmpwlWr9J/src/utils/lastfm_etl/__init__.py\n",
      "/tmp/tmpwlWr9J/src/utils/book_crossing_etl/README.md\n",
      "/tmp/tmpwlWr9J/src/utils/book_crossing_etl/bookcrossing.py\n",
      "/tmp/tmpwlWr9J/src/utils/book_crossing_etl/__init__.py\n",
      "/tmp/tmpwlWr9J/src/utils/jester_etl/README.md\n",
      "/tmp/tmpwlWr9J/src/utils/jester_etl/jester.py\n",
      "/tmp/tmpwlWr9J/src/utils/jester_etl/__init__.py\n",
      "/tmp/tmpwlWr9J/src/results/combined_results.csv\n",
      "/tmp/tmpwlWr9J/src/results/hermes_run_view.py\n",
      "/tmp/tmpwlWr9J/src/algorithms/simple_hybrid.py\n",
      "/tmp/tmpwlWr9J/src/algorithms/performance_metrics.py\n",
      "/tmp/tmpwlWr9J/src/algorithms/recommender_helpers.py\n",
      "/tmp/tmpwlWr9J/src/algorithms/cf.py\n",
      "/tmp/tmpwlWr9J/src/algorithms/dataset_stats.py\n",
      "/tmp/tmpwlWr9J/src/algorithms/content_based.py\n",
      "/tmp/tmpwlWr9J/src/algorithms/__init__.py\n",
      "/tmp/tmpwlWr9J/src/algorithms/random_recommender.py\n",
      "/tmp/tmpwlWr9J/src/algorithms/content_based_kmeans.py\n",
      "/tmp/tmpwlWr9J/src/examples/timer.py\n",
      "/tmp/tmpwlWr9J/src/examples/singleton.py\n",
      "/tmp/tmpwlWr9J/src/examples/cf_example.py\n",
      "/tmp/tmpwlWr9J/src/data_prep/wiki_vectorize.py\n",
      "/tmp/tmpwlWr9J/src/data_prep/book_vectorize.py\n",
      "/tmp/tmpwlWr9J/src/data_prep/movieLens_vectorize.py\n",
      "/tmp/tmpwlWr9J/src/data_prep/jester_vectorize.py\n",
      "/tmp/tmpwlWr9J/src/data_prep/git_vectorize.py\n",
      "/tmp/tmpwlWr9J/src/data_prep/last_fm_vectorize.py\n",
      "/tmp/tmpwlWr9J/src/data_prep/osm_vectorize.py\n",
      "/tmp/tmpwlWr9J/src/data_prep/__init__.py\n",
      "/tmp/tmpwlWr9J/notebooks/Schema save and load.ipynb\n",
      "/tmp/tmpwlWr9J/notebooks/CF Test.ipynb\n",
      "/tmp/tmpwlWr9J/notebooks/MovieLens 1M CF and CB test code.ipynb\n",
      "/tmp/tmpwlWr9J/notebooks/Wikipedia Summary Statistics.ipynb\n",
      "\n",
      "\n",
      "zipping: /tmp/tmpwlWr9J/src\n",
      "\n",
      "Adding package in /tmp/tmpwlWr9J/src as src\n",
      "Compiling /tmp/tmpwlWr9J/src/__init__.py\n",
      "Adding src/__init__.pyc\n",
      "Compiling /tmp/tmpwlWr9J/src/hermes_run_script.py\n",
      "Adding src/hermes_run_script.pyc\n",
      "Adding package in /tmp/tmpwlWr9J/src/utils as src/utils\n",
      "Compiling /tmp/tmpwlWr9J/src/utils/__init__.py\n",
      "Adding src/utils/__init__.pyc\n",
      "Compiling /tmp/tmpwlWr9J/src/utils/clean_links.py\n",
      "Adding src/utils/clean_links.pyc\n",
      "Compiling /tmp/tmpwlWr9J/src/utils/content_vector_tf_idf.py\n",
      "Adding src/utils/content_vector_tf_idf.pyc\n",
      "Adding package in /tmp/tmpwlWr9J/src/utils/osm_etl as src/utils/osm_etl\n",
      "Compiling /tmp/tmpwlWr9J/src/utils/osm_etl/__init__.py\n",
      "Adding src/utils/osm_etl/__init__.pyc\n",
      "Compiling /tmp/tmpwlWr9J/src/utils/osm_etl/osm.py\n",
      "Adding src/utils/osm_etl/osm.pyc\n",
      "Compiling /tmp/tmpwlWr9J/src/utils/article_to_category.py\n",
      "Adding src/utils/article_to_category.pyc\n",
      "Adding package in /tmp/tmpwlWr9J/src/utils/code_etl as src/utils/code_etl\n",
      "Compiling /tmp/tmpwlWr9J/src/utils/code_etl/__init__.py\n",
      "Adding src/utils/code_etl/__init__.pyc\n",
      "Compiling /tmp/tmpwlWr9J/src/utils/code_etl/git_manager.py\n",
      "Adding src/utils/code_etl/git_manager.pyc\n",
      "Compiling /tmp/tmpwlWr9J/src/utils/code_etl/cd.py\n",
      "Adding src/utils/code_etl/cd.pyc\n",
      "Compiling /tmp/tmpwlWr9J/src/utils/code_etl/repo_to_json.py\n",
      "Adding src/utils/code_etl/repo_to_json.pyc\n",
      "Compiling /tmp/tmpwlWr9J/src/utils/code_etl/blame_to_json.py\n",
      "Adding src/utils/code_etl/blame_to_json.pyc\n",
      "Compiling /tmp/tmpwlWr9J/src/utils/code_etl/user_to_file_mapper.py\n",
      "Adding src/utils/code_etl/user_to_file_mapper.pyc\n",
      "Adding package in /tmp/tmpwlWr9J/src/utils/movielens_etl as src/utils/movielens_etl\n",
      "Compiling /tmp/tmpwlWr9J/src/utils/movielens_etl/__init__.py\n",
      "Adding src/utils/movielens_etl/__init__.pyc\n",
      "Compiling /tmp/tmpwlWr9J/src/utils/movielens_etl/ml20m_to_json.py\n",
      "Adding src/utils/movielens_etl/ml20m_to_json.pyc\n",
      "Compiling /tmp/tmpwlWr9J/src/utils/movielens_etl/ml1m_to_json.py\n",
      "Adding src/utils/movielens_etl/ml1m_to_json.pyc\n",
      "Compiling /tmp/tmpwlWr9J/src/utils/movielens_etl/movielens.py\n",
      "Adding src/utils/movielens_etl/movielens.pyc\n",
      "Compiling /tmp/tmpwlWr9J/src/utils/movielens_etl/ml10m_to_json.py\n",
      "Adding src/utils/movielens_etl/ml10m_to_json.pyc\n",
      "Compiling /tmp/tmpwlWr9J/src/utils/glove.py\n",
      "Adding src/utils/glove.pyc\n",
      "Adding package in /tmp/tmpwlWr9J/src/utils/lastfm_etl as src/utils/lastfm_etl\n",
      "Compiling /tmp/tmpwlWr9J/src/utils/lastfm_etl/__init__.py\n",
      "Adding src/utils/lastfm_etl/__init__.pyc\n",
      "Compiling /tmp/tmpwlWr9J/src/utils/lastfm_etl/lastfm.py\n",
      "Adding src/utils/lastfm_etl/lastfm.pyc\n",
      "Compiling /tmp/tmpwlWr9J/src/utils/remove_templates.py\n",
      "Adding src/utils/remove_templates.pyc\n",
      "Compiling /tmp/tmpwlWr9J/src/utils/xml_to_json.py\n",
      "Adding src/utils/xml_to_json.pyc\n",
      "Compiling /tmp/tmpwlWr9J/src/utils/wiki_categories.py\n",
      "Adding src/utils/wiki_categories.pyc\n",
      "Compiling /tmp/tmpwlWr9J/src/utils/clean_categories.py\n",
      "Adding src/utils/clean_categories.pyc\n",
      "Compiling /tmp/tmpwlWr9J/src/utils/save_load.py\n",
      "Adding src/utils/save_load.pyc\n",
      "Adding package in /tmp/tmpwlWr9J/src/utils/book_crossing_etl as src/utils/book_crossing_etl\n",
      "Compiling /tmp/tmpwlWr9J/src/utils/book_crossing_etl/__init__.py\n",
      "Adding src/utils/book_crossing_etl/__init__.pyc\n",
      "Compiling /tmp/tmpwlWr9J/src/utils/book_crossing_etl/bookcrossing.py\n",
      "Adding src/utils/book_crossing_etl/bookcrossing.pyc\n",
      "Adding package in /tmp/tmpwlWr9J/src/utils/jester_etl as src/utils/jester_etl\n",
      "Compiling /tmp/tmpwlWr9J/src/utils/jester_etl/__init__.py\n",
      "Adding src/utils/jester_etl/__init__.pyc\n",
      "Compiling /tmp/tmpwlWr9J/src/utils/jester_etl/jester.py\n",
      "Adding src/utils/jester_etl/jester.pyc\n",
      "Adding package in /tmp/tmpwlWr9J/src/algorithms as src/algorithms\n",
      "Compiling /tmp/tmpwlWr9J/src/algorithms/__init__.py\n",
      "Adding src/algorithms/__init__.pyc\n",
      "Compiling /tmp/tmpwlWr9J/src/algorithms/simple_hybrid.py\n",
      "Adding src/algorithms/simple_hybrid.pyc\n",
      "Compiling /tmp/tmpwlWr9J/src/algorithms/performance_metrics.py\n",
      "Adding src/algorithms/performance_metrics.pyc\n",
      "Compiling /tmp/tmpwlWr9J/src/algorithms/recommender_helpers.py\n",
      "Adding src/algorithms/recommender_helpers.pyc\n",
      "Compiling /tmp/tmpwlWr9J/src/algorithms/cf.py\n",
      "Adding src/algorithms/cf.pyc\n",
      "Compiling /tmp/tmpwlWr9J/src/algorithms/dataset_stats.py\n",
      "Adding src/algorithms/dataset_stats.pyc\n",
      "Compiling /tmp/tmpwlWr9J/src/algorithms/content_based.py\n",
      "Adding src/algorithms/content_based.pyc\n",
      "Compiling /tmp/tmpwlWr9J/src/algorithms/random_recommender.py\n",
      "Adding src/algorithms/random_recommender.pyc\n",
      "Compiling /tmp/tmpwlWr9J/src/algorithms/content_based_kmeans.py\n",
      "Adding src/algorithms/content_based_kmeans.pyc\n",
      "Adding package in /tmp/tmpwlWr9J/src/data_prep as src/data_prep\n",
      "Compiling /tmp/tmpwlWr9J/src/data_prep/__init__.py\n",
      "Adding src/data_prep/__init__.pyc\n",
      "Compiling /tmp/tmpwlWr9J/src/data_prep/wiki_vectorize.py\n",
      "Adding src/data_prep/wiki_vectorize.pyc\n",
      "Compiling /tmp/tmpwlWr9J/src/data_prep/book_vectorize.py\n",
      "Adding src/data_prep/book_vectorize.pyc\n",
      "Compiling /tmp/tmpwlWr9J/src/data_prep/movieLens_vectorize.py\n",
      "Adding src/data_prep/movieLens_vectorize.pyc\n",
      "Compiling /tmp/tmpwlWr9J/src/data_prep/jester_vectorize.py\n",
      "Adding src/data_prep/jester_vectorize.pyc\n",
      "Compiling /tmp/tmpwlWr9J/src/data_prep/git_vectorize.py\n",
      "Adding src/data_prep/git_vectorize.pyc\n",
      "Compiling /tmp/tmpwlWr9J/src/data_prep/last_fm_vectorize.py\n",
      "Adding src/data_prep/last_fm_vectorize.pyc\n",
      "Compiling /tmp/tmpwlWr9J/src/data_prep/osm_vectorize.py\n",
      "Adding src/data_prep/osm_vectorize.pyc\n",
      "Is zip file /tmp/tmpCu0tZV/hermes_src_2.zip valid? True\n",
      "\n",
      "add zip file /tmp/tmpCu0tZV/hermes_src_2.zip into spark context\n",
      "\n"
     ]
    }
   ],
   "source": [
    "# zip up source_dir located in GitHub remote_url's remote_branch and add it to Spark's source context\n",
    "remote_url = \"https://github.com/lab41/hermes.git\"\n",
    "remote_branch = \"master\"\n",
    "source_dir = \"src\"\n",
    "debug = True\n",
    "\n",
    "# helper functions\n",
    "import os\n",
    "import functools\n",
    "\n",
    "def _list_all_in_dir(dir_path):\n",
    "    for path, subdirs, files in os.walk(dir_path):\n",
    "        for filename in files:\n",
    "            print os.path.join(path, filename)\n",
    "            \n",
    "def _zip_dir(srcdir_path, zipfile_handler):\n",
    "    try:\n",
    "        zipfile_handler.writepy(srcdir_path)\n",
    "    finally:\n",
    "        zipfile_handler.close()\n",
    "            \n",
    "def trackcalls(func):\n",
    "    @functools.wraps(func)\n",
    "    def wrapper(*args, **kwargs):\n",
    "        wrapper.has_been_called = True\n",
    "        return func(*args, **kwargs)\n",
    "    wrapper.has_been_called = False\n",
    "    return wrapper\n",
    "\n",
    "@trackcalls\n",
    "def _add_zipfile_to_sc(zipfile_path):\n",
    "    sc.addPyFile(zipfile_path) \n",
    "    \n",
    "import git\n",
    "import os\n",
    "import tempfile\n",
    "import shutil\n",
    "import zipfile    \n",
    "\n",
    "# create a temporary directory\n",
    "tmpdir_path = tempfile.mkdtemp()\n",
    "if debug: print \"temporary directory: %s\\n\" % tmpdir_path\n",
    "\n",
    "# ensure file is read/write by creator only\n",
    "saved_umask = os.umask(0077)\n",
    "\n",
    "# create a zipfile handler to zip the necessary files\n",
    "ziptmpdir_path = tempfile.mkdtemp()\n",
    "if debug: print \"temporary directory for zip file: %s\\n\" % ziptmpdir_path\n",
    "zipfile_path = ziptmpdir_path + \"/hermes_src_2.zip\"\n",
    "if debug: print \"zip file's path: %s\\n\" % zipfile_path\n",
    "zipfile_handler = zipfile.PyZipFile(zipfile_path, \"w\")\n",
    "\n",
    "# make zipfile handler verbose for debugging\n",
    "zipfile_handler.debug = 3\n",
    "\n",
    "try:\n",
    "    # clone \"framework\" branch from GitHub into temporary directory\n",
    "    local_branch = git.Repo.clone_from(remote_url, tmpdir_path, branch=remote_branch)\n",
    "    if debug: print \"current branch: %s\\n\" % local_branch.head.ref\n",
    "    if debug: print \"list all in %s:\" % tmpdir_path; _list_all_in_dir(tmpdir_path); print \"\\n\"\n",
    "        \n",
    "    # zip \"hermes\" directory\n",
    "    if debug: print \"zipping: %s\\n\" % os.path.join(tmpdir_path, source_dir)\n",
    "    _zip_dir(os.path.join(tmpdir_path, source_dir), zipfile_handler)\n",
    "    \n",
    "    # check zip file\n",
    "    if debug: print \"Is zip file %s valid? %s\\n\" % (zipfile_path, zipfile.is_zipfile(zipfile_path))\n",
    "    \n",
    "    # add zip to SparkContext \n",
    "    # note: you can only add zip to SparkContext one time\n",
    "    if not _add_zipfile_to_sc.has_been_called:\n",
    "        if debug: print \"add zip file %s into spark context\\n\" % zipfile_path\n",
    "        _add_zipfile_to_sc(zipfile_path)\n",
    "    else:\n",
    "        if debug: print \"zip file %s is already added into spark context; will not re-add\\n\" % zipfile_path\n",
    "    \n",
    "except IOError as e:\n",
    "    raise e\n",
    "else:\n",
    "    os.remove(zipfile_path)\n",
    "finally:\n",
    "    os.umask(saved_umask)\n",
    "    shutil.rmtree(tmpdir_path)\n",
    "    shutil.rmtree(ziptmpdir_path)\n"
   ]
  },
  {
   "cell_type": "code",
   "execution_count": 4,
   "metadata": {
    "collapsed": false
   },
   "outputs": [
    {
     "name": "stdout",
     "output_type": "stream",
     "text": [
      "RDFLib Version: 4.2.1\n"
     ]
    }
   ],
   "source": [
    "# import the required modules from Hermes\n",
    "from src.algorithms import performance_metrics as pm\n",
    "from src.data_prep import movieLens_vectorize as mv\n",
    "from src.utils import save_load as sl\n",
    "\n",
    "# import other modules\n",
    "import os\n",
    "import time"
   ]
  },
  {
   "cell_type": "code",
   "execution_count": 5,
   "metadata": {
    "collapsed": true
   },
   "outputs": [],
   "source": [
    "class Timer(object):\n",
    "    \"\"\" \n",
    "    To time how long a particular function runs.\n",
    "\n",
    "    Example:\n",
    "        import Timer\n",
    "        with Timer() as t:\n",
    "            somefunction()\n",
    "        print(\"somefunction() takes %s seconds\" % t.secs)\n",
    "        print(\"somefunction() takes %s milliseconds\" % t.msecs)\n",
    "    \"\"\"\n",
    "\n",
    "    def __enter__(self):\n",
    "        self.start = time.time()\n",
    "        return self\n",
    "\n",
    "    def __exit__(self, *args):\n",
    "        self.end = time.time()\n",
    "        self.secs = self.end - self.start\n",
    "        self.msecs = self.secs * 1000"
   ]
  },
  {
   "cell_type": "markdown",
   "metadata": {},
   "source": [
    "## 2. Load dataset, in this case MovieLens data\n",
    "\n",
    "We are going to use MovieLens's 1M data."
   ]
  },
  {
   "cell_type": "code",
   "execution_count": null,
   "metadata": {
    "collapsed": true
   },
   "outputs": [],
   "source": [
    "# ratings_json_path\n",
    "# movies_json_path"
   ]
  },
  {
   "cell_type": "markdown",
   "metadata": {},
   "source": [
    "## 3. Convert dataset to Dataframe\n",
    "Run this only when you load datasets from your home directory."
   ]
  },
  {
   "cell_type": "code",
   "execution_count": 11,
   "metadata": {
    "collapsed": false
   },
   "outputs": [],
   "source": [
    "def convert_dataset_to_dataframe(dataset_path):\n",
    "    df = sqlCtx.read.json(dataset_path, None)\n",
    "    df = df.repartition(sc.defaultParallelism * 3)\n",
    "    return df\n",
    "\n",
    "# obtaining ratings dataframe\n",
    "ratingsdf = convert_dataset_to_dataframe(ratings_json_path)\n",
    "\n",
    "# obtaining movies dataframe\n",
    "moviesdf = convert_dataset_to_dataframe(movies_json_path)"
   ]
  },
  {
   "cell_type": "markdown",
   "metadata": {},
   "source": [
    "## 4. Determine characteristics of the MovieLens data (optional)\n",
    "Run this only when you load datasets from your home directory.\n",
    "\n",
    "Format: \n",
    "* ratings = [user_id, movie_id, rating, timestamp]\n",
    "* movies = [movie_id, title, genres]"
   ]
  },
  {
   "cell_type": "code",
   "execution_count": 7,
   "metadata": {
    "collapsed": false
   },
   "outputs": [
    {
     "name": "stdout",
     "output_type": "stream",
     "text": [
      "--------------------------------------------------------------------------------\n",
      "format: [(user_id, movie_id, rating)]\n",
      "\n",
      "umr:\n",
      "[(2, 1955, 4.0), (5, 2291, 5.0)]\n",
      "umr_weighted:\n",
      "[(2, 1955, 4.0), (5, 2291, 5.0)]\n",
      "--------------------------------------------------------------------------------\n",
      "\n",
      "To identify user-to-user similarity:\n",
      "format: [(movie_id, (user_id, rating))]\n",
      "\n",
      "m_ur:\n",
      "[(1955, (2, 4.0)), (2291, (5, 5.0))]\n",
      "m_ur_weighted (aka rating >=3):\n",
      "[(1955, (2, 4.0)), (2291, (5, 5.0))]\n",
      "--------------------------------------------------------------------------------\n",
      "\n",
      "To identify movie-to-movie similarity:\n",
      "format: [(user_id, (movie_id, rating))]\n",
      "\n",
      "um_r:\n",
      "[(2, (1955, 4.0)), (5, (2291, 5.0))]\n",
      "um_r_weighted (aka rating >=3):\n",
      "[(2, (1955, 4.0)), (5, (2291, 5.0))]\n",
      "--------------------------------------------------------------------------------\n"
     ]
    }
   ],
   "source": [
    "# extract most commonly used vectors to be used later on\n",
    "\n",
    "# 1. using ratingsdf\n",
    "\n",
    "# a. [(user_id, movie_id, rating)]\n",
    "umr  = ratingsdf.map(lambda row: (row.user_id, row.movie_id, row.rating))\n",
    "# b. [(user_id, movie_id, rating)] where rating >= 3\n",
    "umr_weighted = umr.filter(lambda (user_id, movie_id, rating): rating >= 3)\n",
    "\n",
    "print \"-\" * 80\n",
    "\n",
    "print \"format: [(user_id, movie_id, rating)]\\n\"\n",
    "print \"umr:\\n\", umr.take(2)\n",
    "print \"umr_weighted:\\n\", umr_weighted.take(2)\n",
    "\n",
    "print \"-\" * 80\n",
    "\n",
    "print \"\\nTo identify user-to-user similarity:\"\n",
    "print \"format: [(movie_id, (user_id, rating))]\\n\"\n",
    "# c. [(movie_id, (user_id, rating)] -> to identify user-to-user similarity\n",
    "m_ur = ratingsdf.map(lambda row: (row.movie_id, (row.user_id, row.rating)))\n",
    "# d. [(movie_id, (user_id, rating)] where rating >= 3\n",
    "m_ur_weighted = m_ur.filter(lambda (movie_id, (user_id, rating)): rating >= 3)\n",
    "print \"m_ur:\\n\", m_ur.take(2)\n",
    "print \"m_ur_weighted (aka rating >=3):\\n\", m_ur_weighted.take(2)\n",
    "\n",
    "print \"-\" * 80\n",
    "\n",
    "print \"\\nTo identify movie-to-movie similarity:\"\n",
    "print \"format: [(user_id, (movie_id, rating))]\\n\"\n",
    "# e. [(user_id, (movie_id, rating))] -> to identify movie-to-movie similarity\n",
    "u_mr = ratingsdf.map(lambda row: (row.user_id, (row.movie_id, row.rating)))\n",
    "# f. [(user_id, (movie_id, rating))] where rating >= 3\n",
    "u_mr_weighted = u_mr.filter(lambda (user_id, (movie_id, rating)): rating >= 3)\n",
    "print \"um_r:\\n\", u_mr.take(2)\n",
    "print \"um_r_weighted (aka rating >=3):\\n\", u_mr_weighted.take(2)\n",
    "\n",
    "print \"-\" * 80\n"
   ]
  },
  {
   "cell_type": "code",
   "execution_count": 7,
   "metadata": {
    "collapsed": false
   },
   "outputs": [
    {
     "name": "stdout",
     "output_type": "stream",
     "text": [
      "total number of distinct users =  6040\n",
      "total number of users =  1000209\n"
     ]
    }
   ],
   "source": [
    "# total number of distinct users\n",
    "num_distinct_users = ratingsdf.map(lambda row: row.user_id).distinct().count()\n",
    "num_users = ratingsdf.map(lambda row: row.user_id).count()\n",
    "print \"total number of distinct users = \", num_distinct_users\n",
    "print \"total number of users = \", num_users"
   ]
  },
  {
   "cell_type": "code",
   "execution_count": 8,
   "metadata": {
    "collapsed": false
   },
   "outputs": [
    {
     "name": "stdout",
     "output_type": "stream",
     "text": [
      "total number of ratings =  1000209\n"
     ]
    }
   ],
   "source": [
    "# total number of ratings\n",
    "# should be the same as num_users\n",
    "num_ratings = ratingsdf.map(lambda row: row.rating).count()\n",
    "print \"total number of ratings = \", num_ratings"
   ]
  },
  {
   "cell_type": "code",
   "execution_count": 9,
   "metadata": {
    "collapsed": false
   },
   "outputs": [
    {
     "name": "stdout",
     "output_type": "stream",
     "text": [
      "total number of distinct movies =  3883\n",
      "total number of movies =  3883\n"
     ]
    }
   ],
   "source": [
    "# total number of distinct movies\n",
    "num_distinct_movies = moviesdf.map(lambda row: row.movie_id).distinct().count()\n",
    "num_movies = moviesdf.map(lambda row: row.movie_id).count()\n",
    "print \"total number of distinct movies = \", num_distinct_movies\n",
    "print \"total number of movies = \", num_movies"
   ]
  },
  {
   "cell_type": "code",
   "execution_count": 10,
   "metadata": {
    "collapsed": false
   },
   "outputs": [
    {
     "name": "stdout",
     "output_type": "stream",
     "text": [
      "average number of ratings a user rates =  165.5975\n"
     ]
    }
   ],
   "source": [
    "# what is the average number of ratings a user rates = number of ratings / number of users\n",
    "# round it to the fourth digit\n",
    "avg_num_ratings_per_user = round(float(num_ratings) / float(num_distinct_users), 4)\n",
    "print \"average number of ratings a user rates = \", avg_num_ratings_per_user"
   ]
  },
  {
   "cell_type": "code",
   "execution_count": 11,
   "metadata": {
    "collapsed": false
   },
   "outputs": [
    {
     "name": "stdout",
     "output_type": "stream",
     "text": [
      "average number of ratings a movie receives =  257.5867\n"
     ]
    }
   ],
   "source": [
    "# what is the average number of ratings a movie receives = number of ratings / number of movies\n",
    "avg_num_ratings_per_movie = round(float(num_ratings) / float(num_distinct_movies), 4)\n",
    "print \"average number of ratings a movie receives = \", avg_num_ratings_per_movie"
   ]
  },
  {
   "cell_type": "code",
   "execution_count": 12,
   "metadata": {
    "collapsed": false
   },
   "outputs": [
    {
     "name": "stdout",
     "output_type": "stream",
     "text": [
      "completeness =  0.0426\n"
     ]
    }
   ],
   "source": [
    "# completeness = number of ratings / (number of users * number of movies)\n",
    "completeness = round(float(num_ratings) / (float(num_distinct_users) * float(num_distinct_movies)), 4)\n",
    "print \"completeness = \", completeness"
   ]
  },
  {
   "cell_type": "code",
   "execution_count": 13,
   "metadata": {
    "collapsed": false
   },
   "outputs": [
    {
     "name": "stdout",
     "output_type": "stream",
     "text": [
      "mean rating =  3.58156445303\n"
     ]
    }
   ],
   "source": [
    "# mean rating\n",
    "mean_rating = ratingsdf.map(lambda row: row.rating).mean()\n",
    "print \"mean rating = \", mean_rating"
   ]
  },
  {
   "cell_type": "code",
   "execution_count": 14,
   "metadata": {
    "collapsed": false
   },
   "outputs": [
    {
     "data": {
      "text/plain": [
       "[(3072, 3.7871690427698574),\n",
       " (2304, 3.5714285714285716),\n",
       " (3120, 3.0153846153846153)]"
      ]
     },
     "execution_count": 14,
     "metadata": {},
     "output_type": "execute_result"
    }
   ],
   "source": [
    "# mean rating per movie\n",
    "\n",
    "# [(movie_id, rating)]\n",
    "movie_rating_pair = ratingsdf.map(lambda row: (row.movie_id, row.rating))\n",
    "\n",
    "\"\"\"\n",
    "combineByKey() requires 3 functions: \n",
    "* createCombiner: first aggregation step for each key\n",
    "  -> lambda first_rating: (first_rating, 1)\n",
    "* mergeValue: what to do when a combiner is given a new value\n",
    "  -> lambda x, first_rating: x[0] + first_rating, x[1] + 1\n",
    "  -> lambda thisNewRating_thisNumRating, firstRating: thisNewRating + firstRating, thisNumRating + 1\n",
    "* mergeCombiner: how to merge two combiners\n",
    "  -> lambda x, y: (x[0] + y[0], x[1] + y[1])\n",
    "  -> lambda sumRating1_numRating1, sumRating2_numRating2: (sumRating1 + sumRating2, numRating1 + numRating2)\n",
    "\"\"\"\n",
    "\n",
    "# [(movie_id, (sum_rating, num_rating))]\n",
    "movie_sumRating_numRating_pair = movie_rating_pair.combineByKey(\n",
    "                                    lambda first_rating: (first_rating, 1), \n",
    "                                    lambda x, first_rating: (x[0] + first_rating, x[1] + 1),\n",
    "                                    lambda x, y: (x[0] + y[0], x[1] + y[1]))\n",
    "\n",
    "# [(movie_id, mean_rating)]\n",
    "movie_meanRating_pair = movie_sumRating_numRating_pair.map(lambda (movie_id, (sum_rating, num_rating)): (movie_id, sum_rating/num_rating)) \n",
    "movie_meanRating_pair.take(3)"
   ]
  },
  {
   "cell_type": "code",
   "execution_count": 15,
   "metadata": {
    "collapsed": false
   },
   "outputs": [
    {
     "name": "stdout",
     "output_type": "stream",
     "text": [
      "+------------------+----+\n",
      "|                _1|  _2|\n",
      "+------------------+----+\n",
      "|3.7871690427698574| 982|\n",
      "|3.5714285714285716|   7|\n",
      "|3.0153846153846153| 130|\n",
      "| 3.697142857142857| 525|\n",
      "|2.1604938271604937|  81|\n",
      "|4.0739348370927315| 798|\n",
      "|3.1486486486486487| 222|\n",
      "|               3.0|   1|\n",
      "|3.1794871794871793| 624|\n",
      "|2.6666666666666665|   3|\n",
      "| 3.272727272727273|  33|\n",
      "|               4.5|   2|\n",
      "|              3.54|  50|\n",
      "|3.8797920727745288|1539|\n",
      "|3.2400756143667295| 529|\n",
      "| 3.201058201058201| 945|\n",
      "|  3.91864406779661| 590|\n",
      "|2.9764397905759163| 382|\n",
      "| 2.107476635514019| 214|\n",
      "|2.6826923076923075| 624|\n",
      "+------------------+----+\n",
      "\n"
     ]
    }
   ],
   "source": [
    "# meanRating_numRating_pair will be used in plotting in the next cell\n",
    "# where _1 = mean rating of the movie\n",
    "#       _2 = number of users who review the movie\n",
    "# [(mean_rating, num_rating)]\n",
    "meanRating_numRating_pair = movie_sumRating_numRating_pair.map(lambda (movie_id, (sum_rating, num_rating)): (sum_rating/num_rating, num_rating))\n",
    "meanRating_numRating_pair_df = meanRating_numRating_pair.toDF()\n",
    "meanRating_numRating_pair_df.show()"
   ]
  },
  {
   "cell_type": "code",
   "execution_count": 19,
   "metadata": {
    "collapsed": false
   },
   "outputs": [
    {
     "data": {
      "image/png": "[encoded data removed]",
      "text/plain": [
       "<matplotlib.figure.Figure at 0x7f5271b4b110>"
      ]
     },
     "metadata": {},
     "output_type": "display_data"
    }
   ],
   "source": [
    "# plot mean rating per movie\n",
    "%matplotlib inline\n",
    "import matplotlib.pyplot as plt\n",
    "import pandas as pd\n",
    "\n",
    "meanRating_numRating_pair = movie_sumRating_numRating_pair.map(lambda (movie_id, (sum_rating, num_rating)): (sum_rating/num_rating, num_rating))\n",
    "meanRating_numRating_pair_df = meanRating_numRating_pair.toDF()\n",
    "\n",
    "meanRating_numRating_pair_panda_df = meanRating_numRating_pair_df.toPandas()\n",
    "\n",
    "plot =  meanRating_numRating_pair_panda_df.plot(\n",
    "            x=\"_2\", \\\n",
    "            y=\"_1\", \\\n",
    "            kind=\"hexbin\", \\\n",
    "            xscale=\"log\", \\\n",
    "            cmap=\"YlGnBu\", \\\n",
    "            gridsize=12, \\\n",
    "            mincnt=1, \\\n",
    "            title=\"Mean vs Number of Reviewers\")\n",
    "\n",
    "plot.set_xlabel(\"Number of Reviewers Per Movie\")\n",
    "plot.set_ylabel(\"Mean Rating Per Movie\")\n",
    "\n",
    "plt.show()"
   ]
  },
  {
   "cell_type": "markdown",
   "metadata": {},
   "source": [
    "This figure shows that the average rating of a movie is actually slightly higher than 3. \n",
    "\n",
    "__Hypothesis__:\n",
    "* We can safely predict the mean rating after 100 reviews.\n",
    "* After 100 reviews, the average rating is approximately in between 3.0 and 4.0."
   ]
  },
  {
   "cell_type": "markdown",
   "metadata": {},
   "source": [
    "## 5. Splitting the data  (optional)\n",
    "Run this only when you load datasets from your home directory.\n",
    "\n",
    "Default split data into:\n",
    "* 90% training\n",
    "* 10% test\n",
    "* 0% validation\n",
    "* seed = 41\n",
    "\n",
    "Remember that calling randomSplit when you restart the kernel will provide you with a different training, test, and validation data even though the weights and the seed are the same."
   ]
  },
  {
   "cell_type": "code",
   "execution_count": 13,
   "metadata": {
    "collapsed": true
   },
   "outputs": [],
   "source": [
    "weights = [0.9, 0.1, 0]\n",
    "seed = 41"
   ]
  },
  {
   "cell_type": "code",
   "execution_count": 14,
   "metadata": {
    "collapsed": false
   },
   "outputs": [
    {
     "ename": "NameError",
     "evalue": "name 'umr' is not defined",
     "output_type": "error",
     "traceback": [
      "\u001b[1;31m---------------------------------------------------------------------------\u001b[0m",
      "\u001b[1;31mNameError\u001b[0m                                 Traceback (most recent call last)",
      "\u001b[1;32m<ipython-input-14-87717b2114ab>\u001b[0m in \u001b[0;36m<module>\u001b[1;34m()\u001b[0m\n\u001b[0;32m      1\u001b[0m \u001b[1;31m# 1. using ratingsdf\u001b[0m\u001b[1;33m\u001b[0m\u001b[1;33m\u001b[0m\u001b[0m\n\u001b[0;32m      2\u001b[0m \u001b[1;31m# a. [(user_id, movie_id, rating)]\u001b[0m\u001b[1;33m\u001b[0m\u001b[1;33m\u001b[0m\u001b[0m\n\u001b[1;32m----> 3\u001b[1;33m \u001b[0mumr_train\u001b[0m\u001b[1;33m,\u001b[0m \u001b[0mumr_test\u001b[0m\u001b[1;33m,\u001b[0m \u001b[0mumr_validation\u001b[0m \u001b[1;33m=\u001b[0m \u001b[0mumr\u001b[0m\u001b[1;33m.\u001b[0m\u001b[0mrandomSplit\u001b[0m\u001b[1;33m(\u001b[0m\u001b[0mweights\u001b[0m\u001b[1;33m,\u001b[0m \u001b[0mseed\u001b[0m\u001b[1;33m)\u001b[0m\u001b[1;33m\u001b[0m\u001b[0m\n\u001b[0m\u001b[0;32m      4\u001b[0m \u001b[1;31m# b. [(user_id, movie_id, rating)] where rating >= 3\u001b[0m\u001b[1;33m\u001b[0m\u001b[1;33m\u001b[0m\u001b[0m\n\u001b[0;32m      5\u001b[0m \u001b[0mumr_weighted_train\u001b[0m\u001b[1;33m,\u001b[0m \u001b[0mumr_weighted_test\u001b[0m\u001b[1;33m,\u001b[0m \u001b[0mumr_weighted_validation\u001b[0m \u001b[1;33m=\u001b[0m \u001b[0mumr_weighted\u001b[0m\u001b[1;33m.\u001b[0m\u001b[0mrandomSplit\u001b[0m\u001b[1;33m(\u001b[0m\u001b[0mweights\u001b[0m\u001b[1;33m,\u001b[0m \u001b[0mseed\u001b[0m\u001b[1;33m)\u001b[0m\u001b[1;33m\u001b[0m\u001b[0m\n",
      "\u001b[1;31mNameError\u001b[0m: name 'umr' is not defined"
     ]
    }
   ],
   "source": [
    "# 1. using ratingsdf\n",
    "# a. [(user_id, movie_id, rating)]\n",
    "umr_train, umr_test, umr_validation = umr.randomSplit(weights, seed)\n",
    "# b. [(user_id, movie_id, rating)] where rating >= 3\n",
    "umr_weighted_train, umr_weighted_test, umr_weighted_validation = umr_weighted.randomSplit(weights, seed)\n",
    "# c. [(movie_id, (user_id, rating)]\n",
    "m_ur_train, m_ur_test, m_ur_validation = m_ur.randomSplit(weights, seed)\n",
    "# d. [(movie_id, (user_id, rating)] where rating >= 3\n",
    "m_ur_weighted_train, m_ur_weighted_test, m_ur_weighted_validation = m_ur_weighted.randomSplit(weights, seed)\n",
    "# e. [(user_id, (movie_id, rating)]\n",
    "u_mr_train, u_mr_test, u_mr_validation = u_mr.randomSplit(weights, seed)\n",
    "# f. [(user_id, (movie_id, rating)] where rating >= 3\n",
    "u_mr_weighted_train, u_mr_weighted_test, u_mr_weighted_validation = u_mr_weighted.randomSplit(weights, seed)"
   ]
  },
  {
   "cell_type": "markdown",
   "metadata": {},
   "source": [
    "## 6. Calculate similarity and find nearest neighbors\n",
    "\n",
    "These are the different similarity measurement implemented in the article:\n",
    "* pearson\n",
    "* cosine\n",
    "* constraint pearson: in the case of MovieLens data, it means any ratings greater than 3 (aka positive ratings)\n",
    "* adjusted cosine\n",
    "* probabilistic\n",
    "\n",
    "\"When implementing a user- or item-based approach, one may choose:\n",
    "* a similarity measure: pearson, cosine, constraint pearson, adjusted cosine, or probabilistic\n",
    "* a neighborhood size\n",
    "* and how to compute predictions: using a weighted sum of rating values or using a weighted sum of deviations from the mean.\"\n",
    "\n",
    "Table of Contents:\n",
    "```\n",
    "6.A.1.  Calculate Pearson Correlation    \n",
    "        a. user-based: DONE except for prediction\n",
    "        b. item-based\n",
    "6.A.2.  Calculate Weighted Pearson Correlation \n",
    "        a. user-based\n",
    "        b. item-based\n",
    "6.A.3.  Calculate Pearson Deviation\n",
    "        a. user-based\n",
    "        b. item-based\n",
    "6.B.1.  Calculate Probabilistic Similarity \n",
    "        a. user-based\n",
    "        b. item-based\n",
    "6.B.2.  Calculate Probabilistic Deviation\n",
    "        a. user-based\n",
    "        b. item-based\n",
    "6.C.1.  Calculate Cosine Similarity\n",
    "        a. user-based\n",
    "        b. item-based\n",
    "6.C.2.  Calculate Adjusted Cosine Similarity   \n",
    "        a. user-based\n",
    "        b. item-based\n",
    "6.D.    Comparing Similarities' Measurement\n",
    "```"
   ]
  },
  {
   "cell_type": "markdown",
   "metadata": {},
   "source": [
    "## 6.A.1. Calculate Pearson Correlation "
   ]
  },
  {
   "cell_type": "code",
   "execution_count": 31,
   "metadata": {
    "collapsed": false
   },
   "outputs": [],
   "source": [
    "# helper functions\n",
    "\n",
    "from scipy.stats import pearsonr \n",
    "import math\n",
    "\n",
    "# filter out duplicate pairs\n",
    "# user-based approach: \n",
    "#     input and output: [( movie_id, ((user_id_1, rating_1), (user_id_2, rating_2)) )]\n",
    "# item-based approach: \n",
    "#     input and output: [( user_id, ((movie_id_1, rating_1), (movie_id_2, rating_2)) )]\n",
    "def removeDuplicates((key_id, ratings)):\n",
    "    (value_id_1, rating_1) = ratings[0]\n",
    "    (value_id_2, rating_2) = ratings[1]\n",
    "    return value_id_1 < value_id_2\n",
    "\n",
    "# rearrange so that it will be in the format of pairs\n",
    "# user-based approach: \n",
    "#     input: [( movie_id, ((user_id_1, rating_1), (user_id_2, rating_2)) )]\n",
    "#     output: [( movie_id, ((user_id_1, user_id_2), (rating_1, rating_2)) )]\n",
    "# item-based approach: \n",
    "#     input: [( user_id, ((movie_id_1, movie_id_2), (rating_1, rating2)) )]\n",
    "#     output: [( user_id, ((movie_id_1, movie_id_2), (rating_1, rating2)) )]\n",
    "def createPairs((key_id, ratings)):\n",
    "    (value_id_1, rating_1) = ratings[0]\n",
    "    (value_id_2, rating_2) = ratings[1]\n",
    "    return ((value_id_1, value_id_2), (rating_1, rating_2))\n",
    "\n",
    "# aggregate pairs using combineByKey() instead of groupByKey()\n",
    "# [( test_user_id, train_user_id), (test_rating_1, train_rating_1), (test_rating_2, train_rating_2), ...]\n",
    "def aggregatePairs(keyPairs):\n",
    "    return keyPairs.combineByKey(\n",
    "                    lambda firstRatingPair: ((firstRatingPair),),\n",
    "                    lambda newRatingPair, firstRatingPair: newRatingPair + ((firstRatingPair),),\n",
    "                    lambda tupleRatingPairs1, tupleRatingPairs2: tupleRatingPairs1 + tupleRatingPairs2)\n",
    "\n",
    "# calculate pearson correlation when you passed in the values of\n",
    "# user-based approach: \n",
    "#     input: values of  [(user_id_1, user_id_2), ((rating_1, rating_2), (rating_1, rating_2)...)]\n",
    "#     output: values of [(user_id_1, user_id_2), (pearson_correlation, num_rating_pairs, p_value)]\n",
    "# item-based approach:\n",
    "#     input: values of [(movie_id_1, movie_id_2), ((rating_1, rating_2), (rating_1, rating_2)...)]\n",
    "#     output: values of [(movie_id_1, movie_id_2), (pearson_correlation, num_rating_pairs, p_value)]\n",
    "# NOTE: ignore p_value\n",
    "def calculatePearson(ratingPairs):\n",
    "    rating1s = [rating1 for (rating1, _) in ratingPairs] \n",
    "    rating2s = [rating2 for (_, rating2) in ratingPairs] \n",
    "    pearson_correlation, p_value = pearsonr(rating1s, rating2s)\n",
    "    return (pearson_correlation, len(ratingPairs))\n"
   ]
  },
  {
   "cell_type": "markdown",
   "metadata": {},
   "source": [
    "### 6.A.1. Pearson's User-Based Approach: comparing USER similarities\n",
    "According to the article, this is supposed to be the best user-based approach. "
   ]
  },
  {
   "cell_type": "code",
   "execution_count": 81,
   "metadata": {
    "collapsed": false
   },
   "outputs": [
    {
     "data": {
      "text/plain": [
       "[((1, 2), (3, 2)), ((2, 2), (4, 5))]"
      ]
     },
     "execution_count": 81,
     "metadata": {},
     "output_type": "execute_result"
    }
   ],
   "source": [
    "#((user_id, movie_id), rating)\n",
    "a = sc.parallelize([ ((1, 2), 3), ((2, 2), 4) ])\n",
    "#((user_id, movie_id), predicted_rating)\n",
    "b = sc.parallelize([ ((1, 2), 2), ((2, 2), 5) ])\n",
    "#((user_id, movie_id), (rating, predicted_rating)\n",
    "c = a.join(b)\n",
    "c.collect()"
   ]
  },
  {
   "cell_type": "code",
   "execution_count": 9,
   "metadata": {
    "collapsed": false
   },
   "outputs": [
    {
     "name": "stdout",
     "output_type": "stream",
     "text": [
      "73388300\n"
     ]
    },
    {
     "data": {
      "text/plain": [
       "[(1920, ((731, 4.0), (746, 1.0))),\n",
       " (1920, ((731, 4.0), (791, 4.0))),\n",
       " (1920, ((731, 4.0), (1101, 3.0))),\n",
       " (1920, ((731, 4.0), (1333, 1.0))),\n",
       " (1920, ((731, 4.0), (1737, 5.0)))]"
      ]
     },
     "execution_count": 9,
     "metadata": {},
     "output_type": "execute_result"
    }
   ],
   "source": [
    "# combine test and train together so that\n",
    "# [movie_id, ( (test_user_id, test_rating), (train_user_id, train_rating) )]\n",
    "M_testUR_trainUR = m_ur_test.join(m_ur_train)\n",
    "print M_testUR_trainUR.count()\n",
    "M_testUR_trainUR.take(5)"
   ]
  },
  {
   "cell_type": "code",
   "execution_count": 10,
   "metadata": {
    "collapsed": false
   },
   "outputs": [
    {
     "name": "stdout",
     "output_type": "stream",
     "text": [
      "36722428\n"
     ]
    },
    {
     "data": {
      "text/plain": [
       "[(1920, ((731, 4.0), (746, 1.0))), (1920, ((731, 4.0), (791, 4.0)))]"
      ]
     },
     "execution_count": 10,
     "metadata": {},
     "output_type": "execute_result"
    }
   ],
   "source": [
    "# remove duplicates\n",
    "M_testUR_trainUR = M_testUR_trainUR.filter(removeDuplicates) \n",
    "print M_testUR_trainUR.count()\n",
    "M_testUR_trainUR.take(2)"
   ]
  },
  {
   "cell_type": "code",
   "execution_count": 11,
   "metadata": {
    "collapsed": false
   },
   "outputs": [
    {
     "name": "stdout",
     "output_type": "stream",
     "text": [
      "36722428\n"
     ]
    },
    {
     "data": {
      "text/plain": [
       "[((1264, 1519), (2.0, 2.0)), ((1264, 2020), (2.0, 3.0))]"
      ]
     },
     "execution_count": 11,
     "metadata": {},
     "output_type": "execute_result"
    }
   ],
   "source": [
    "# rearrange so that it will be in the format\n",
    "# [(test_user_id, train_user_id), (test_rating, train_rating)]\n",
    "userPairs = M_testUR_trainUR.map(createPairs)\n",
    "print userPairs.count()\n",
    "userPairs.take(2)"
   ]
  },
  {
   "cell_type": "code",
   "execution_count": 12,
   "metadata": {
    "collapsed": false
   },
   "outputs": [
    {
     "name": "stdout",
     "output_type": "stream",
     "text": [
      "aggregate user pairs: 0.0375311374664 seconds\n",
      "10728120\n"
     ]
    },
    {
     "data": {
      "text/plain": [
       "[((4978, 6024), ((5.0, 4.0), (4.0, 4.0))),\n",
       " ((1865, 3381), ((4.0, 4.0), (5.0, 4.0)))]"
      ]
     },
     "execution_count": 12,
     "metadata": {},
     "output_type": "execute_result"
    }
   ],
   "source": [
    "# congregate all ratings for each user pair so that it will be in the format of:\n",
    "# [( test_user_id, train_user_id), (test_rating_1, train_rating_1), (test_rating_2, train_rating_2), ...]\n",
    "\n",
    "# instead of using groupByKey(), use combineByKey() instead.\n",
    "\n",
    "\"\"\"\n",
    "# Implemented using groupByKey():\n",
    "with Timer() as t:\n",
    "    aggUserPairs = userPairs.groupByKey()\n",
    "print \"aggregate user pairs approach #1: %s seconds\" % t.secs\n",
    "print aggUserPairs.count()\n",
    "aggUserPairs.take(5)\n",
    "-----------------------------------------------------------------\n",
    "# Output:\n",
    "aggregate user pairs: 0.0353801250458 seconds\n",
    "10728120\n",
    "Out[20]:\n",
    "[((1274, 2736), <pyspark.resultiterable.ResultIterable at 0x7f180eb55350>),\n",
    " ((2117, 5393), <pyspark.resultiterable.ResultIterable at 0x7f180eb55510>),\n",
    " ((1422, 3892), <pyspark.resultiterable.ResultIterable at 0x7f180eb55550>),\n",
    " ((1902, 5636), <pyspark.resultiterable.ResultIterable at 0x7f180eb55590>),\n",
    " ((3679, 5555), <pyspark.resultiterable.ResultIterable at 0x7f180eb555d0>)]\n",
    "-----------------------------------------------------------------\n",
    "output = aggUserPairs.mapValues(lambda iterable: tuple(iterable))\n",
    "output.take(2)\n",
    "-----------------------------------------------------------------\n",
    "# Output:\n",
    "[((3848, 4390), ((5.0, 5.0),)),\n",
    " ((897, 2621), ((4.0, 5.0), (4.0, 4.0), (2.0, 2.0)))]\n",
    "-----------------------------------------------------------------\n",
    "\"\"\"\n",
    "\n",
    "with Timer() as t:\n",
    "    aggUserPairs = aggregatePairs(userPairs)\n",
    "print \"aggregate user pairs: %s seconds\" % t.secs\n",
    "print aggUserPairs.count()\n",
    "aggUserPairs.take(2)"
   ]
  },
  {
   "cell_type": "code",
   "execution_count": 13,
   "metadata": {
    "collapsed": false
   },
   "outputs": [
    {
     "name": "stdout",
     "output_type": "stream",
     "text": [
      "10728120\n"
     ]
    },
    {
     "data": {
      "text/plain": [
       "[((1865, 3381), (nan, 2)),\n",
       " ((3848, 4390), (nan, 1)),\n",
       " ((897, 2621), (0.94491118252306805, 3)),\n",
       " ((1274, 2736), (-0.57735026918962584, 4)),\n",
       " ((1920, 5390), (0.64229374442338505, 10))]"
      ]
     },
     "execution_count": 13,
     "metadata": {},
     "output_type": "execute_result"
    }
   ],
   "source": [
    "# calculate pearson correlation to figure out user-to-user similarity in the format of:\n",
    "# [( (test_user_id, train_user_id), (pearson_correlation, num_rating_pairs) )]\n",
    "\n",
    "userPairSimilarities = aggUserPairs.mapValues(calculatePearson)\n",
    "userPairSimilarities.sortByKey()\n",
    "print userPairSimilarities.count()\n",
    "userPairSimilarities.take(5)"
   ]
  },
  {
   "cell_type": "markdown",
   "metadata": {},
   "source": [
    "find nearest neighbors\n",
    "1. select neighbors whose similarity correlation is greater than the threshold of 0.5\n",
    "2. select top n neighbors with the highest correlation"
   ]
  },
  {
   "cell_type": "code",
   "execution_count": 14,
   "metadata": {
    "collapsed": false
   },
   "outputs": [
    {
     "name": "stdout",
     "output_type": "stream",
     "text": [
      "533394\n"
     ]
    },
    {
     "data": {
      "text/plain": [
       "[((1030, 2700), (0.63386569104638746, 5)),\n",
       " ((1920, 5390), (0.64229374442338505, 10)),\n",
       " ((2051, 5575), (0.55737040171315366, 5)),\n",
       " ((809, 3205), (0.58976782461958854, 8)),\n",
       " ((411, 3695), (0.55943092778551562, 7))]"
      ]
     },
     "execution_count": 14,
     "metadata": {},
     "output_type": "execute_result"
    }
   ],
   "source": [
    "# 1. \n",
    "# a. select neighbors whose similarity correlation is greater than the threshold of 0.5\n",
    "# b. remove user pairs that do not share a minimum of 5 reviews\n",
    "\n",
    "# output: number of user pairs that passes minPearson = 1692207\n",
    "#         number of user pairs that passes both minPearson and minSimilarReviews = 533407\n",
    "\n",
    "minPearson = 0.5\n",
    "minSimilarReviews = 5\n",
    "\n",
    "userPairPassThreshold = userPairSimilarities.filter(\n",
    "    lambda (userPair, (pearson_correlation, num_rating_pairs)): \n",
    "        pearson_correlation > minPearson and \n",
    "        num_rating_pairs >= minSimilarReviews\n",
    "    )\n",
    "print userPairPassThreshold.count()\n",
    "userPairPassThreshold.take(5)"
   ]
  },
  {
   "cell_type": "code",
   "execution_count": 15,
   "metadata": {
    "collapsed": false
   },
   "outputs": [
    {
     "name": "stdout",
     "output_type": "stream",
     "text": [
      "533416\n"
     ]
    },
    {
     "data": {
      "text/plain": [
       "[(1383, ((1383, 1755), (0.63439153512946889, 16))),\n",
       " (306, ((306, 3512), (0.5516772843673704, 8))),\n",
       " (1920, ((1920, 5390), (0.64229374442338505, 10))),\n",
       " (2051, ((2051, 5575), (0.55737040171315366, 5))),\n",
       " (809, ((809, 3205), (0.58976782461958854, 8)))]"
      ]
     },
     "execution_count": 15,
     "metadata": {},
     "output_type": "execute_result"
    }
   ],
   "source": [
    "# 2. select top n neighbors for each test user  \n",
    "\n",
    "from pyspark.rdd import RDD\n",
    "\n",
    "import heapq\n",
    "\n",
    "def takeOrderedByKey(self, topN, sortValueFn=None, ascending=False):\n",
    "\n",
    "    def base(a):\n",
    "        return [a]\n",
    "\n",
    "    def combiner(agg, a):\n",
    "        agg.append(a)\n",
    "        return getTopN(agg)\n",
    "\n",
    "    def merger(x, y):\n",
    "        agg = x + y\n",
    "        return getTopN(agg)\n",
    "\n",
    "    def getTopN(agg):\n",
    "        if ascending == True:\n",
    "            return heapq.nsmallest(topN, agg, sortValueFn)\n",
    "        else:\n",
    "            return heapq.nlargest(topN, agg, sortValueFn)              \n",
    "\n",
    "    return self.combineByKey(base, combiner, merger)\n",
    " \n",
    "# add takeOrderedByKey() function to RDD class\n",
    "RDD.takeOrderedByKey = takeOrderedByKey\n",
    "\n",
    "# convert \n",
    "# [( (test_user_id, train_user_id), (pearson_correlation, num_rating_pairs) )]\n",
    "# to\n",
    "# [( test_user_id, [(test_user_id, train_user_id), (pearson_correlation, num_rating_pairs)] )]\n",
    "# so that you can sort by test_user_id after sorting the highest pearson correlation per test_user_id\n",
    "testU_testUtrainU_sim = userPairPassThreshold.map(\n",
    "    lambda ((test_user_id, train_user_id), (pearson_correlation, num_rating_pairs)): \n",
    "        (test_user_id, ((test_user_id, train_user_id), (pearson_correlation, num_rating_pairs)))\n",
    ")\n",
    "print testU_testUtrainU_sim.count()\n",
    "testU_testUtrainU_sim.take(5)"
   ]
  },
  {
   "cell_type": "code",
   "execution_count": 16,
   "metadata": {
    "collapsed": false
   },
   "outputs": [
    {
     "name": "stdout",
     "output_type": "stream",
     "text": [
      "4206\n"
     ]
    },
    {
     "data": {
      "text/plain": [
       "[(4608,\n",
       "  [((4608, 5397), (0.91287092917527679, 5)),\n",
       "   ((4608, 4800), (0.91146543037530003, 6)),\n",
       "   ((4608, 5387), (0.90971765229468415, 6)),\n",
       "   ((4608, 5394), (0.85280286542244166, 6)),\n",
       "   ((4608, 5522), (0.79056941504209477, 5)),\n",
       "   ((4608, 5220), (0.79056941504209477, 5)),\n",
       "   ((4608, 4728), (0.76376261582597327, 5)),\n",
       "   ((4608, 5428), (0.68465319688145765, 5)),\n",
       "   ((4608, 5759), (0.6670170091506028, 6)),\n",
       "   ((4608, 5306), (0.66212219197173061, 5)),\n",
       "   ((4608, 5106), (0.65938047339578698, 5)),\n",
       "   ((4608, 5493), (0.64951905283832889, 6)),\n",
       "   ((4608, 5501), (0.59761430466719678, 5)),\n",
       "   ((4608, 5689), (0.58131835897618001, 6)),\n",
       "   ((4608, 4980), (0.55901699437494745, 5)),\n",
       "   ((4608, 5831), (0.54772255750516619, 6)),\n",
       "   ((4608, 4932), (0.54232614454664041, 6)),\n",
       "   ((4608, 5074), (0.54232614454664041, 6)),\n",
       "   ((4608, 5636), (0.54006172486732162, 7)),\n",
       "   ((4608, 5329), (0.53452248382484879, 5))]),\n",
       " (2304,\n",
       "  [((2304, 2407), (1.0, 7)),\n",
       "   ((2304, 3050), (1.0, 7)),\n",
       "   ((2304, 5363), (1.0, 6)),\n",
       "   ((2304, 3975), (1.0, 5)),\n",
       "   ((2304, 3924), (0.96253342187962188, 5)),\n",
       "   ((2304, 3984), (0.9074852129730302, 7)),\n",
       "   ((2304, 3941), (0.89113278867900692, 6)),\n",
       "   ((2304, 4274), (0.89113278867900692, 6)),\n",
       "   ((2304, 3822), (0.88587956782829813, 11)),\n",
       "   ((2304, 4605), (0.88388347648318455, 7)),\n",
       "   ((2304, 3317), (0.87831006565367986, 6)),\n",
       "   ((2304, 2754), (0.87499999999999989, 5)),\n",
       "   ((2304, 4494), (0.87287156094396934, 5)),\n",
       "   ((2304, 5515), (0.86692144686301087, 5)),\n",
       "   ((2304, 2319), (0.86692144686301076, 8)),\n",
       "   ((2304, 2701), (0.85280286542244133, 6)),\n",
       "   ((2304, 4237), (0.85042006427076133, 9)),\n",
       "   ((2304, 5703), (0.84515425472851657, 5)),\n",
       "   ((2304, 2999), (0.84515425472851657, 5)),\n",
       "   ((2304, 3417), (0.84515425472851657, 5))]),\n",
       " (5136,\n",
       "  [((5136, 5767), (0.94345635304972641, 5)),\n",
       "   ((5136, 5623), (0.875, 5)),\n",
       "   ((5136, 5749), (0.87287156094396956, 5)),\n",
       "   ((5136, 5442), (0.87287156094396956, 5)),\n",
       "   ((5136, 5852), (0.87287156094396956, 5)),\n",
       "   ((5136, 5366), (0.84515425472851657, 5)),\n",
       "   ((5136, 5948), (0.80178372573727319, 5)),\n",
       "   ((5136, 5664), (0.79056941504209477, 6)),\n",
       "   ((5136, 5220), (0.77831178249415611, 7)),\n",
       "   ((5136, 5269), (0.76553181582411123, 5)),\n",
       "   ((5136, 6035), (0.75872122333360503, 7)),\n",
       "   ((5136, 5543), (0.75, 6)),\n",
       "   ((5136, 5539), (0.73192505471140001, 5)),\n",
       "   ((5136, 5345), (0.73192505471139979, 5)),\n",
       "   ((5136, 5412), (0.73029674334022154, 7)),\n",
       "   ((5136, 5441), (0.7205766921228921, 5)),\n",
       "   ((5136, 5468), (0.70710678118654746, 6)),\n",
       "   ((5136, 5747), (0.68228823922101312, 6)),\n",
       "   ((5136, 5657), (0.67936622048675732, 7)),\n",
       "   ((5136, 5488), (0.66701700915060291, 6))]),\n",
       " (2592,\n",
       "  [((2592, 4966), (0.97590007294853331, 5)),\n",
       "   ((2592, 3048), (0.96308682468615359, 5)),\n",
       "   ((2592, 2681), (0.95257934441568015, 5)),\n",
       "   ((2592, 3415), (0.94868329805051377, 6)),\n",
       "   ((2592, 5982), (0.94491118252306816, 6)),\n",
       "   ((2592, 5363), (0.94491118252306816, 6)),\n",
       "   ((2592, 5671), (0.92717264994553061, 6)),\n",
       "   ((2592, 5963), (0.9046950831485675, 7)),\n",
       "   ((2592, 4505), (0.89087080637474791, 8)),\n",
       "   ((2592, 5099), (0.86859903621537937, 5)),\n",
       "   ((2592, 4294), (0.86752761723570893, 5)),\n",
       "   ((2592, 5765), (0.86602540378443871, 8)),\n",
       "   ((2592, 5142), (0.86602540378443871, 6)),\n",
       "   ((2592, 3718), (0.84274982807905263, 5)),\n",
       "   ((2592, 5156), (0.84016805041680587, 5)),\n",
       "   ((2592, 3487), (0.82495791138430541, 5)),\n",
       "   ((2592, 4018), (0.81649658092772615, 5)),\n",
       "   ((2592, 3741), (0.81348921681996067, 5)),\n",
       "   ((2592, 5437), (0.81348921681996067, 5)),\n",
       "   ((2592, 5654), (0.81127866785900216, 9))]),\n",
       " (5040,\n",
       "  [((5040, 5831), (0.89442719099991586, 6)),\n",
       "   ((5040, 5686), (0.86859903621537915, 5)),\n",
       "   ((5040, 5720), (0.8660254037844386, 5)),\n",
       "   ((5040, 6007), (0.82495791138430552, 8)),\n",
       "   ((5040, 5954), (0.76376261582597327, 5)),\n",
       "   ((5040, 5767), (0.74681604481493857, 7)),\n",
       "   ((5040, 5387), (0.734930919740164, 7)),\n",
       "   ((5040, 5283), (0.67419986246324215, 6)),\n",
       "   ((5040, 5862), (0.66989384530323548, 5)),\n",
       "   ((5040, 5653), (0.66666666666666663, 5)),\n",
       "   ((5040, 5627), (0.66436383882991989, 6)),\n",
       "   ((5040, 5854), (0.64285714285714279, 5)),\n",
       "   ((5040, 5103), (0.61237243569579458, 5)),\n",
       "   ((5040, 5620), (0.61237243569579447, 5)),\n",
       "   ((5040, 5916), (0.58794473579213125, 7)),\n",
       "   ((5040, 5367), (0.5837280385837107, 7)),\n",
       "   ((5040, 5824), (0.58333333333333326, 5)),\n",
       "   ((5040, 5536), (0.56011203361120387, 5)),\n",
       "   ((5040, 5788), (0.53066185325791893, 7)),\n",
       "   ((5040, 5433), (0.50564989684743156, 5))])]"
      ]
     },
     "execution_count": 16,
     "metadata": {},
     "output_type": "execute_result"
    }
   ],
   "source": [
    "# for each test user, take the top N neighbors and ordering with the highest pearson correlation first\n",
    "# [( test_user_id, [(test_user_id, train_user_id), (pearson_correlation, num_rating_pairs)] )]\n",
    "topN = 20\n",
    "testUserTopNeighbors = testU_testUtrainU_sim.takeOrderedByKey(\n",
    "    topN,\n",
    "    sortValueFn=lambda ((test_user_id, train_user_id), (pearson_correlation, num_rating_pairs)): (pearson_correlation, num_rating_pairs),\n",
    "    ascending=False)\n",
    "# note: testUserTopNeighbors.count() should be less than the number of users\n",
    "print testUserTopNeighbors.count()\n",
    "testUserTopNeighbors.take(5)"
   ]
  },
  {
   "cell_type": "code",
   "execution_count": 17,
   "metadata": {
    "collapsed": false
   },
   "outputs": [
    {
     "name": "stdout",
     "output_type": "stream",
     "text": [
      "num_distinct_test_users =  5962\n",
      "num_distinct_test_users that passes the threshold check (aka pearson > 0.5, minReviews >= 5) =  4206\n",
      "num_test_users in testUserTopNeighbors =  4206\n"
     ]
    }
   ],
   "source": [
    "num_distinct_test_users = m_ur_test.map(lambda (movie_id, (user_id, rating)): user_id).distinct().count()\n",
    "num_distinct_test_users_pass_threshold = userPairPassThreshold.map(lambda ((test_user_id, train_user_id), (pearson_correlation, num_rating_pairs)): test_user_id).distinct().count()\n",
    "num_test_users_in_top_neighbors = testUserTopNeighbors.count()\n",
    "\n",
    "print \"num_distinct_test_users = \", num_distinct_test_users\n",
    "print \"num_distinct_test_users that passes the threshold check (aka pearson > 0.5, minReviews >= 5) = \", num_distinct_test_users_pass_threshold\n",
    "print \"num_test_users in testUserTopNeighbors = \", num_test_users_in_top_neighbors"
   ]
  },
  {
   "cell_type": "code",
   "execution_count": 18,
   "metadata": {
    "collapsed": false
   },
   "outputs": [
    {
     "name": "stdout",
     "output_type": "stream",
     "text": [
      "70218\n"
     ]
    },
    {
     "data": {
      "text/plain": [
       "[((3072, 4344), (1.0, 8)),\n",
       " ((3072, 4771), (1.0, 6)),\n",
       " ((3072, 5847), (1.0, 5)),\n",
       " ((3072, 5443), (1.0, 5)),\n",
       " ((3072, 3299), (1.0, 5))]"
      ]
     },
     "execution_count": 18,
     "metadata": {},
     "output_type": "execute_result"
    }
   ],
   "source": [
    "# flattened version, meaning\n",
    "# convert\n",
    "# [( test_user_id, [(test_user_id, train_user_id), (pearson_correlation, num_rating_pairs)] )]\n",
    "# to\n",
    "# [( (test_user_id, train_user_id), (pearson_correlation, num_rating_pairs) )]\n",
    "\n",
    "testUserTopNeighborsFlattened = testUserTopNeighbors.flatMap(lambda (test_user_id, rest): rest)\n",
    "print testUserTopNeighborsFlattened.count()\n",
    "testUserTopNeighborsFlattened.take(5)"
   ]
  },
  {
   "cell_type": "markdown",
   "metadata": {},
   "source": [
    "### Compute Predictions \\#1: using weighted sum of rating values"
   ]
  },
  {
   "cell_type": "markdown",
   "metadata": {},
   "source": [
    "__!!!!!! TODO !!!!!!!__ "
   ]
  },
  {
   "cell_type": "code",
   "execution_count": null,
   "metadata": {
    "collapsed": true
   },
   "outputs": [],
   "source": []
  },
  {
   "cell_type": "markdown",
   "metadata": {},
   "source": [
    "### Compute Predictions \\#2: using a weighted sum of deviations from the mean\n",
    "```\n",
    "P  = predicted rating of user a on movie i\n",
    "M  = mean rating of user a\n",
    "S  = sum of ((pearson correlation of user a and each user u who rates movie i) * \n",
    "             (rating of each user u on movie i - mean rating of user u))\n",
    "D  = sum of (absolute value of pearson correlation of user a and each user u who rates movie i)\n",
    "\n",
    "P = M + S/D\n",
    "```"
   ]
  },
  {
   "cell_type": "markdown",
   "metadata": {},
   "source": [
    "__!!!!!! TODO !!!!!!!__ "
   ]
  },
  {
   "cell_type": "code",
   "execution_count": 29,
   "metadata": {
    "collapsed": false
   },
   "outputs": [
    {
     "data": {
      "text/plain": [
       "[(1536, 4.222222222222222),\n",
       " (2304, 3.722794959908362),\n",
       " (2472, 3.6),\n",
       " (5592, 4.039370078740157),\n",
       " (4944, 4.363636363636363)]"
      ]
     },
     "execution_count": 29,
     "metadata": {},
     "output_type": "execute_result"
    }
   ],
   "source": [
    "# determine mean rating of each test user (aka find M)\n",
    "# output: [(user_id, mean_rating)]\n",
    "\n",
    "# convert to [(user_id, rating)]\n",
    "ur = m_ur.map(lambda (movie_id, (user_id, rating)): (user_id, rating))\n",
    "\n",
    "\n",
    "# [(user_id, (sum_rating, num_rating))]\n",
    "u_sumRating_numRating = ur.combineByKey(\n",
    "                                    lambda first_rating: (first_rating, 1), \n",
    "                                    lambda x, first_rating: (x[0] + first_rating, x[1] + 1),\n",
    "                                    lambda x, y: (x[0] + y[0], x[1] + y[1]))\n",
    "\n",
    "# [(test_user_id, mean_rating)]\n",
    "u_meanRating = u_sumRating_numRating.map(\n",
    "    lambda (user_id, (sum_rating, num_rating)): (user_id, sum_rating/num_rating)) \n",
    "u_meanRating.take(5)"
   ]
  },
  {
   "cell_type": "code",
   "execution_count": null,
   "metadata": {
    "collapsed": true
   },
   "outputs": [],
   "source": [
    "# for each movie i, \n",
    "# determine pearson correlation of user a and all other users who rates movie i\n",
    "# determine rating of each user u on movie i - mean rating of user u\n",
    "\n",
    "# testUserTopNeighborsFlattened == [( (test_user_id, train_user_id), (pearson_correlation, num_rating_pairs) )]\n",
    "# M_testUR_trainUR == # [movie_id, ( (test_user_id, test_rating), (train_user_id, train_rating) )]\n",
    "\n",
    "\n",
    "# movie_id, (for every users who rate movie_id, add all pearson correlation * rating of user u on movie i - mean rating of user u)\n"
   ]
  },
  {
   "cell_type": "code",
   "execution_count": null,
   "metadata": {
    "collapsed": true
   },
   "outputs": [],
   "source": [
    "# compute predictions #2\n",
    "# using a weighted sum of deviations from the mean\n",
    "\n",
    "\"\"\"\n",
    "sum of user u has rated(pearson correlation of user a and user u) * (rating of user u on movie i - mean rating of user u)\n",
    "divided by\n",
    "\"\"\""
   ]
  },
  {
   "cell_type": "markdown",
   "metadata": {},
   "source": [
    "### 6.A.1. Pearson's Item-Based Approach: comparing MOVIES similarities"
   ]
  },
  {
   "cell_type": "code",
   "execution_count": 22,
   "metadata": {
    "collapsed": false
   },
   "outputs": [
    {
     "name": "stdout",
     "output_type": "stream",
     "text": [
      "1000209\n"
     ]
    },
    {
     "data": {
      "text/plain": [
       "[(1, (527, 5.0)),\n",
       " (1, (1207, 4.0)),\n",
       " (2, (1217, 3.0)),\n",
       " (2, (2490, 3.0)),\n",
       " (2, (1370, 5.0))]"
      ]
     },
     "execution_count": 22,
     "metadata": {},
     "output_type": "execute_result"
    }
   ],
   "source": [
    "# list all ratings in the format:\n",
    "# [user_id, (movie_id, rating)]\n",
    "print u_mr.count()\n",
    "u_mr.take(5)"
   ]
  },
  {
   "cell_type": "code",
   "execution_count": 23,
   "metadata": {
    "collapsed": false
   },
   "outputs": [
    {
     "name": "stdout",
     "output_type": "stream",
     "text": [
      "389989535\n"
     ]
    },
    {
     "data": {
      "text/plain": [
       "[(1536, ((1258, 5.0), (1955, 5.0))),\n",
       " (1536, ((1258, 5.0), (2054, 4.0))),\n",
       " (1536, ((1258, 5.0), (344, 4.0))),\n",
       " (1536, ((1258, 5.0), (585, 1.0))),\n",
       " (1536, ((1258, 5.0), (356, 5.0)))]"
      ]
     },
     "execution_count": 23,
     "metadata": {},
     "output_type": "execute_result"
    }
   ],
   "source": [
    "# list all combinations of movies rated by the same user in the format: \n",
    "# [user_id, ( (movie_id_1, rating_1), (movie_id_2, rating_2) )]\n",
    "# this is to find movie's similarity with each other\n",
    "sameUserRatingsCombo = u_mr.join(u_mr)\n",
    "print sameUserRatingsCombo.count()\n",
    "sameUserRatingsCombo.take(5)"
   ]
  },
  {
   "cell_type": "code",
   "execution_count": 24,
   "metadata": {
    "collapsed": false
   },
   "outputs": [
    {
     "name": "stdout",
     "output_type": "stream",
     "text": [
      "194494663\n"
     ]
    },
    {
     "data": {
      "text/plain": [
       "[(1536, ((788, 4.0), (3043, 1.0))),\n",
       " (1536, ((788, 4.0), (2797, 4.0))),\n",
       " (1536, ((788, 4.0), (1485, 4.0))),\n",
       " (1536, ((788, 4.0), (1193, 5.0))),\n",
       " (1536, ((788, 4.0), (1371, 1.0)))]"
      ]
     },
     "execution_count": 24,
     "metadata": {},
     "output_type": "execute_result"
    }
   ],
   "source": [
    "# filter out duplicate pairs\n",
    "def removeDuplicates((user_id, ratings)):\n",
    "    (movie_id_1, rating_1) = ratings[0]\n",
    "    (movie_id_2, rating_2) = ratings[1]\n",
    "    return movie_id_1 < movie_id_2\n",
    "\n",
    "sameUserRatingsCombo = sameUserRatingsCombo.filter(removeDuplicates)\n",
    "print sameUserRatingsCombo.count()\n",
    "sameUserRatingsCombo.take(5)"
   ]
  },
  {
   "cell_type": "code",
   "execution_count": 25,
   "metadata": {
    "collapsed": false
   },
   "outputs": [
    {
     "name": "stdout",
     "output_type": "stream",
     "text": [
      "194494663\n"
     ]
    },
    {
     "data": {
      "text/plain": [
       "[((1193, 3100), (5.0, 4.0)),\n",
       " ((1193, 1955), (5.0, 5.0)),\n",
       " ((1193, 2054), (5.0, 4.0)),\n",
       " ((1193, 1198), (5.0, 4.0)),\n",
       " ((1193, 3043), (5.0, 1.0))]"
      ]
     },
     "execution_count": 25,
     "metadata": {},
     "output_type": "execute_result"
    }
   ],
   "source": [
    "# rearrange so that it will be in the format of movie pairs:\n",
    "# [(movie_id_1, movie_id_2), (rating_1, rating2)]\n",
    "def createMoviePairs((user_id, ratings)):\n",
    "    (movie_id_1, rating_1) = ratings[0]\n",
    "    (movie_id_2, rating_2) = ratings[1]\n",
    "    return ((movie_id_1, movie_id_2), (rating_1, rating_2))\n",
    "\n",
    "moviePairs = sameUserRatingsCombo.map(createMoviePairs)\n",
    "print moviePairs.count()\n",
    "moviePairs.take(5)"
   ]
  },
  {
   "cell_type": "code",
   "execution_count": 26,
   "metadata": {
    "collapsed": false
   },
   "outputs": [
    {
     "name": "stdout",
     "output_type": "stream",
     "text": [
      "5654974\n"
     ]
    },
    {
     "data": {
      "text/plain": [
       "[((199, 2859), <pyspark.resultiterable.ResultIterable at 0x7f527171e290>),\n",
       " ((441, 3941), <pyspark.resultiterable.ResultIterable at 0x7f527171e450>),\n",
       " ((2046, 3524), <pyspark.resultiterable.ResultIterable at 0x7f527171e490>),\n",
       " ((334, 1060), <pyspark.resultiterable.ResultIterable at 0x7f527171e4d0>),\n",
       " ((635, 2751), <pyspark.resultiterable.ResultIterable at 0x7f527171e510>)]"
      ]
     },
     "execution_count": 26,
     "metadata": {},
     "output_type": "execute_result"
    }
   ],
   "source": [
    "# congregate all ratings for each movie pair so that it will be in the format of:\n",
    "# [( movie_id_1, movie_id_2), (rating_1, rating_2), (rating_1, rating_2), ...]\n",
    "moviePairRatings = moviePairs.groupByKey()\n",
    "print moviePairRatings.count()\n",
    "moviePairRatings.take(5)"
   ]
  },
  {
   "cell_type": "code",
   "execution_count": 27,
   "metadata": {
    "collapsed": false
   },
   "outputs": [
    {
     "data": {
      "text/plain": [
       "[((1050, 3408), (0.2803100687095229, 62)),\n",
       " ((535, 3867), (0.9999999999999998, 2)),\n",
       " ((609, 621), (-1.0, 2)),\n",
       " ((2676, 2946), (0.06537204504606135, 16)),\n",
       " ((561, 3789), (0, 1))]"
      ]
     },
     "execution_count": 27,
     "metadata": {},
     "output_type": "execute_result"
    }
   ],
   "source": [
    "# calculate pearson correlation approach #1\n",
    "# using udemy's approach\n",
    "# I prefer approach #2\n",
    "\n",
    "import math\n",
    "\n",
    "def computePearsonCorrelationCoefficient(ratingPairs):\n",
    "    numPairs = 0\n",
    "    if not ratingPairs:\n",
    "        return (0, 0)\n",
    "\n",
    "    muX = sum(1.*ratingX for (ratingX, _) in ratingPairs)/len(ratingPairs)\n",
    "    muY = sum(1.*ratingY for (_, ratingY) in ratingPairs)/len(ratingPairs)\n",
    "\n",
    "    cov = sum_sqdev_x = sum_sqdev_y = 0\n",
    "    for ratingX, ratingY in ratingPairs:\n",
    "        dev_x = ratingX - muX\n",
    "        dev_y = ratingY - muY\n",
    "        cov += dev_x * dev_y\n",
    "        sum_sqdev_x += dev_x**2\n",
    "        sum_sqdev_y += dev_y**2\n",
    "        numPairs += 1\n",
    "\n",
    "    numerator = cov\n",
    "    denominator = math.sqrt(sum_sqdev_x) * math.sqrt(sum_sqdev_y)\n",
    "\n",
    "    score = 0\n",
    "    if (denominator):\n",
    "        score = (numerator / (float(denominator)))\n",
    "\n",
    "    return (score, numPairs)\n",
    "    \n",
    "moviePairSimilarities = moviePairRatings.mapValues(computePearsonCorrelationCoefficient).cache()\n",
    "moviePairSimilarities.sortByKey()\n",
    "moviePairSimilarities.take(5)"
   ]
  },
  {
   "cell_type": "code",
   "execution_count": 28,
   "metadata": {
    "collapsed": false
   },
   "outputs": [
    {
     "name": "stdout",
     "output_type": "stream",
     "text": [
      "5654974\n",
      "5654974\n"
     ]
    }
   ],
   "source": [
    "print moviePairRatings.count()\n",
    "print moviePairSimilarities.count()"
   ]
  },
  {
   "cell_type": "code",
   "execution_count": null,
   "metadata": {
    "collapsed": false
   },
   "outputs": [],
   "source": [
    "# calculate pearson correlation approach #2\n",
    "# using scipy\n",
    "# note: you cannot use pyspark.mllib.stat.Statistics's corr() function within the map function\n",
    "\n",
    "from scipy.stats import pearsonr \n",
    "\n",
    "def calculatePearson(ratingPairsPerMoviePairResultIterable):\n",
    "    ratingPairsPerMoviePair = tuple(ratingPairsPerMoviePairResultIterable)\n",
    "    rating1s = [rating1 for (rating1, _) in ratingPairsPerMoviePair] \n",
    "    rating2s = [rating2 for (_, rating2) in ratingPairsPerMoviePair] \n",
    "    pearson_correlation, p_value = pearsonr(rating1s, rating2s)\n",
    "    return (pearson_correlation, len(ratingPairsPerMoviePair))\n",
    "\n",
    "moviePairSimilarities2 = moviePairRatings.mapValues(calculatePearson).cache()\n",
    "moviePairSimilarities2.sortByKey()\n",
    "moviePairSimilarities2.take(5)"
   ]
  },
  {
   "cell_type": "code",
   "execution_count": 30,
   "metadata": {
    "collapsed": false
   },
   "outputs": [
    {
     "name": "stdout",
     "output_type": "stream",
     "text": [
      "5654974\n",
      "5654974\n"
     ]
    }
   ],
   "source": [
    "print moviePairRatings.count()\n",
    "print moviePairSimilarities2.count()"
   ]
  },
  {
   "cell_type": "code",
   "execution_count": null,
   "metadata": {
    "collapsed": true
   },
   "outputs": [],
   "source": []
  },
  {
   "cell_type": "markdown",
   "metadata": {
    "collapsed": true
   },
   "source": [
    "## 6.A.2. Calculate Constraint Pearson Correlation\n",
    "In the case of MovieLens data, it means any ratings greater than 3 (aka positive ratings)."
   ]
  },
  {
   "cell_type": "code",
   "execution_count": null,
   "metadata": {
    "collapsed": true
   },
   "outputs": [],
   "source": []
  },
  {
   "cell_type": "markdown",
   "metadata": {},
   "source": [
    "### 6.A.2. Pearson's User-Based Approach: comparing USERS similarities\n",
    "This is the same as Pearson's User-Based Approach with the exception that it filters out ratings that are 2 or less."
   ]
  },
  {
   "cell_type": "code",
   "execution_count": null,
   "metadata": {
    "collapsed": true
   },
   "outputs": [],
   "source": []
  },
  {
   "cell_type": "markdown",
   "metadata": {},
   "source": [
    "### 6.A.2. Constraint Pearson's Item-Based Approach: comparing MOVIES similarities\n",
    "This is the same as Pearson's Item-Based Approach with the exception that it filters out ratings that are 2 or less."
   ]
  },
  {
   "cell_type": "code",
   "execution_count": null,
   "metadata": {
    "collapsed": true
   },
   "outputs": [],
   "source": []
  },
  {
   "cell_type": "markdown",
   "metadata": {},
   "source": [
    "## 6.B. Calculate Probabilistic Similarity"
   ]
  },
  {
   "cell_type": "markdown",
   "metadata": {},
   "source": [
    "### 6.B. Probabilistic's Item-Based Approach: comparing MOVIES similarity\n",
    "According to the article, this is supposed to be the best item-based approach. "
   ]
  },
  {
   "cell_type": "code",
   "execution_count": null,
   "metadata": {
    "collapsed": true
   },
   "outputs": [],
   "source": []
  },
  {
   "cell_type": "markdown",
   "metadata": {},
   "source": [
    "## 6.C.1. Calculate Cosine Similarity"
   ]
  },
  {
   "cell_type": "code",
   "execution_count": null,
   "metadata": {
    "collapsed": true
   },
   "outputs": [],
   "source": []
  },
  {
   "cell_type": "markdown",
   "metadata": {},
   "source": [
    "## 6.C.2. Calculate Adjusted Cosine Similarity"
   ]
  },
  {
   "cell_type": "code",
   "execution_count": null,
   "metadata": {
    "collapsed": true
   },
   "outputs": [],
   "source": []
  },
  {
   "cell_type": "markdown",
   "metadata": {},
   "source": [
    "## 6.D. Comparing Similarities' Measurement\n",
    "\n",
    "Graph user-based approaches using the deviation prediction scheme (MAE) and different neighborhood sizes (K)"
   ]
  },
  {
   "cell_type": "code",
   "execution_count": null,
   "metadata": {
    "collapsed": true
   },
   "outputs": [],
   "source": []
  },
  {
   "cell_type": "markdown",
   "metadata": {},
   "source": [
    "## 7. Develop Model\n",
    "Comparing distance measures for model-based approaches using the mean item rating prediction scheme and different number of clusters (K)\n",
    "* Manhattan\n",
    "* Euclidian\n",
    "\n",
    "Comparing prediction schemes for model-based approaches using the euclidian distance and different numbers of clusters (K)\n",
    "* Mean Item\n",
    "* Bayes MAE\n",
    "\n",
    "Comparing different clustering algorithms for model-based approaches using the euclidian distance, the mean item rating prediction scheme, and different numbers of clusters (K)\n",
    "* K-Means\n",
    "* Bisecting\n",
    "* LAC\n",
    "* SSC"
   ]
  },
  {
   "cell_type": "code",
   "execution_count": null,
   "metadata": {
    "collapsed": true
   },
   "outputs": [],
   "source": [
    "# divide movielens data into 10 parts to perform 10-fold cross-validation\n",
    "# training model using 9 parts\n",
    "# test model using last part\n",
    "\n",
    "\n",
    "# results are better when default ratings are based on item information than when they are based on user information\n",
    "# using mean rating is better than using majority rating"
   ]
  },
  {
   "cell_type": "code",
   "execution_count": null,
   "metadata": {
    "collapsed": true
   },
   "outputs": [],
   "source": []
  },
  {
   "cell_type": "markdown",
   "metadata": {},
   "source": [
    "### 7.A. Implement Bayes"
   ]
  },
  {
   "cell_type": "markdown",
   "metadata": {
    "collapsed": true
   },
   "source": [
    "What is Bayes?\n",
    "1. We have a prior belief in A \n",
    "2. We have a posterior probability X where X is the number of tests it passes\n",
    "3. Bayesian inference merely uses it to connect prior probabilities P(A) with an updated posterior probabilities P(A|X)\n",
    "\n",
    "```\n",
    "P(A|X) = P(X|A) * P(A) / P(X)\n",
    "P(A|X) = Posterior Probability: the posterior probability of class (A, target) given predictor(X, attributes)\n",
    "P(X|A) = Likelihood: the likelihood which is the probability of predictor given class\n",
    "P(A)   = Class Prior Probability: prior probability of class\n",
    "P(X)   = Predictor Prior Probability: prior probability of predictor\n",
    "```\n",
    "\n",
    "Types of Bayes: \n",
    "1. Maximum A Posteriori (MAP) : predict the most probably rating\n",
    "2. Mean Squared Error (MSE): compute the weighted sum of ratings that corresponds to minimizing the expectation of MSE\n",
    "3. Mean Absolute Error (MAE): select the rating that minimizes the expectation of Mean Absolute Error\n",
    "\n",
    "Table of Contents:\n",
    "```\n",
    "7.A.   Implement Bayes\n",
    "7.A.1. Implement Naive Bayes using PySpark: DONE\n",
    "7.A.2. Implement Naive Bayes using PyMC\n",
    "7.A.3. Implement Naive Bayes manually: DONE\n",
    "       * Implement Bayes MAP: DONE\n",
    "       * Implement Bayes MSE: DONE\n",
    "       * Implement Bayes MAE: DONE\n",
    "```\n"
   ]
  },
  {
   "cell_type": "markdown",
   "metadata": {},
   "source": [
    "#### 7.A.1. Implementing Naive Bayes using PySpark\n",
    "\n",
    "It does not support computation for Bayes MAP, MSE, and MAE because it does not provide a probability distribution over labels (aka rating) for the given featureset (aka user_id, movie_id). "
   ]
  },
  {
   "cell_type": "code",
   "execution_count": 15,
   "metadata": {
    "collapsed": false
   },
   "outputs": [],
   "source": [
    "from pyspark.mllib.classification import NaiveBayes\n",
    "from pyspark.mllib.regression import LabeledPoint\n",
    "\n",
    "# To use MLlib's Naive Bayes model, it requires the input to be in a format of a LabeledPoint\n",
    "# therefore, convert dataset so that it will be in the following format:\n",
    "# [(rating, (user_id, movie_id))]\n",
    "r_um = ratingsdf.map(lambda row: LabeledPoint(row.rating, (row.user_id, row.movie_id)))\n",
    "\n",
    "# split the data\n",
    "r_um_train, r_um_test, r_um_validation = r_um.randomSplit(weights, seed)"
   ]
  },
  {
   "cell_type": "code",
   "execution_count": 16,
   "metadata": {
    "collapsed": false
   },
   "outputs": [],
   "source": [
    "# train a Naive Bayes model\n",
    "naiveBayesModel = NaiveBayes.train(r_um_train, lambda_=1.0)\n",
    "\n",
    "# save this Naive Bayes model\n",
    "#naiveBayesModel.save(sc, \"NaiveBayes_MovieLens1M_UserUser\")\n",
    "# load this Naive Bayes model into the SparkContext\n",
    "#sameNaiveBayesModel = NaiveBayesModel.load(sc, \"NaiveBayes_MovieLens1M_UserUser\")"
   ]
  },
  {
   "cell_type": "code",
   "execution_count": 17,
   "metadata": {
    "collapsed": false
   },
   "outputs": [
    {
     "name": "stdout",
     "output_type": "stream",
     "text": [
      "[((2.0, 593.0), (1.0, 5.0)), ((2.0, 1955.0), (1.0, 4.0)), ((5.0, 3476.0), (1.0, 3.0)), ((5.0, 1093.0), (1.0, 2.0)), ((6.0, 3508.0), (1.0, 3.0))]\n"
     ]
    }
   ],
   "source": [
    "# make prediction \n",
    "# [((test_user_id, test_movie_id), (predicted_rating, actual_rating))]\n",
    "r_um_predicted = r_um_test.map(\n",
    "    lambda p: ( (p.features[0], p.features[1]), (naiveBayesModel.predict(p.features), p.label) ) \n",
    "    )\n",
    "print r_um_predicted.take(5)"
   ]
  },
  {
   "cell_type": "markdown",
   "metadata": {},
   "source": [
    "[((2.0, 593.0), (1.0, 5.0)), ((2.0, 1955.0), (1.0, 4.0)), ((5.0, 3476.0), (1.0, 3.0)), ((5.0, 1093.0), (1.0, 2.0)), ((6.0, 3508.0), (1.0, 3.0))]"
   ]
  },
  {
   "cell_type": "code",
   "execution_count": 18,
   "metadata": {
    "collapsed": false
   },
   "outputs": [
    {
     "name": "stdout",
     "output_type": "stream",
     "text": [
      "accuracy = (predicted_rating == actual_rating)/total_num_ratings =  0.165762116647\n"
     ]
    }
   ],
   "source": [
    "# test accuracy\n",
    "sameRating = r_um_predicted.filter(\n",
    "    lambda ((test_user_id, test_movie_id), (predicted_rating, actual_rating)): predicted_rating == actual_rating)\n",
    "accuracy = 1.0 * sameRating.count() / r_um_test.count()\n",
    "print \"accuracy = (predicted_rating == actual_rating)/total_num_ratings = \", accuracy"
   ]
  },
  {
   "cell_type": "markdown",
   "metadata": {},
   "source": [
    "accuracy = (predicted_rating == actual_rating)/total_num_ratings =  0.162442085039"
   ]
  },
  {
   "cell_type": "code",
   "execution_count": 19,
   "metadata": {
    "collapsed": false
   },
   "outputs": [
    {
     "name": "stdout",
     "output_type": "stream",
     "text": [
      "actual:\n",
      "[(2.0, 593.0, 5.0), (2.0, 1955.0, 4.0), (5.0, 3476.0, 3.0), (5.0, 1093.0, 2.0), (6.0, 3508.0, 3.0)]\n",
      "predicted:\n",
      "[(2.0, 593.0, 1.0), (2.0, 1955.0, 1.0), (5.0, 3476.0, 1.0), (5.0, 1093.0, 1.0), (6.0, 3508.0, 1.0)]\n",
      "rmse =  2.25667970883\n",
      "mae =  1.87239858731\n"
     ]
    }
   ],
   "source": [
    "# calculate RMSE and MAE\n",
    "\n",
    "# convert into two vectors where\n",
    "# one vector describes the actual ratings in the format [(user_id, movie_id, actual_rating)]\n",
    "# second vector describes the predicted ratings in the format [(user_id, movie_id, predicted_rating)]\n",
    "actual =  r_um_predicted.map(\n",
    "    lambda((test_user_id, test_movie_id), (predicted_rating, actual_rating)): (test_user_id, test_movie_id, actual_rating)\n",
    "    )\n",
    "predicted = r_um_predicted.map(\n",
    "    lambda((test_user_id, test_movie_id), (predicted_rating, actual_rating)): (test_user_id, test_movie_id, predicted_rating)\n",
    "    )\n",
    "\n",
    "print \"actual:\\n\", actual.take(5)\n",
    "print \"predicted:\\n\", predicted.take(5)\n",
    "\n",
    "rmse = pm.calculate_rmse_using_rdd(actual, predicted)\n",
    "print \"rmse = \", rmse\n",
    "\n",
    "mae = pm.calculate_mae_using_rdd(actual, predicted)\n",
    "print \"mae = \", mae"
   ]
  },
  {
   "cell_type": "markdown",
   "metadata": {},
   "source": [
    "actual:\n",
    "[(7.0, 3793.0, 3.0), (8.0, 2490.0, 2.0), (15.0, 1343.0, 3.0), (16.0, 2713.0, 2.0), (17.0, 457.0, 5.0)]\n",
    "\n",
    "predicted:\n",
    "[(7.0, 3793.0, 1.0), (8.0, 2490.0, 1.0), (15.0, 1343.0, 1.0), (16.0, 2713.0, 1.0), (17.0, 457.0, 1.0)]\n",
    "\n",
    "rmse =  2.26584476437\n",
    "\n",
    "mae =  1.88503067116"
   ]
  },
  {
   "cell_type": "markdown",
   "metadata": {},
   "source": [
    "#### Implementing Naive Bayes using PyMC"
   ]
  },
  {
   "cell_type": "code",
   "execution_count": null,
   "metadata": {
    "collapsed": true
   },
   "outputs": [],
   "source": []
  },
  {
   "cell_type": "markdown",
   "metadata": {},
   "source": [
    "#### Implementing Naive Bayes manually\n",
    "\n",
    "Probability of rating r for a given user u on a given item i can be defined as follows:\n",
    "\n",
    "$$P(r|u, i) = \\frac{P(r|u) * P(r|i)}{P(r)}*\\frac{P(u) * P(i)}{P(u, i)}$$\n",
    "\n",
    "We make the **assumption** that this is the same as:\n",
    "\n",
    "$$P(r|u, i) = \\frac{P(r|u) * P(r|i)}{P(r)}$$\n",
    "\n",
    "The last three probabilities P(u), P(i), and P(u, i) can be ignored since they are the same for all users and items.\n",
    "\n",
    "We will compute P(r|u), P(r|i), and P(r) individually before congregating them in a final computation."
   ]
  },
  {
   "cell_type": "code",
   "execution_count": 20,
   "metadata": {
    "collapsed": false
   },
   "outputs": [
    {
     "name": "stdout",
     "output_type": "stream",
     "text": [
      "minRating =  1.0\n",
      "maxRating =  5.0\n"
     ]
    }
   ],
   "source": [
    "# determine min and max of ratings\n",
    "minRating = ratingsdf.map(lambda row: row.rating).min()\n",
    "maxRating = ratingsdf.map(lambda row: row.rating).max()\n",
    "print \"minRating = \", minRating\n",
    "print \"maxRating = \", maxRating"
   ]
  },
  {
   "cell_type": "markdown",
   "metadata": {},
   "source": [
    "Output example:\n",
    "```\n",
    "minRating =  1.0\n",
    "maxRating =  5.0\n",
    "```"
   ]
  },
  {
   "cell_type": "code",
   "execution_count": 21,
   "metadata": {
    "collapsed": false
   },
   "outputs": [
    {
     "name": "stdout",
     "output_type": "stream",
     "text": [
      "[1, 2, 3, 4, 5]\n",
      "5\n"
     ]
    }
   ],
   "source": [
    "# create RDD for the range of ratings\n",
    "# [(1, 2, 3, 4, 5)]\n",
    "rangeOfRatings = sc.parallelize( list(range(int(minRating), int(maxRating + 1))) )\n",
    "print rangeOfRatings.collect()\n",
    "print rangeOfRatings.count()"
   ]
  },
  {
   "cell_type": "markdown",
   "metadata": {},
   "source": [
    "Output example:\n",
    "```\n",
    "[1, 2, 3, 4, 5]\n",
    "5\n",
    "```"
   ]
  },
  {
   "cell_type": "code",
   "execution_count": 65,
   "metadata": {
    "collapsed": false
   },
   "outputs": [
    {
     "name": "stdout",
     "output_type": "stream",
     "text": [
      "\n"
     ]
    }
   ],
   "source": [
    "# [(user_id, movie_id, rating)]\n",
    "umr  = ratingsdf.map(lambda row: (row.user_id, row.movie_id, row.rating))"
   ]
  },
  {
   "cell_type": "code",
   "execution_count": 24,
   "metadata": {
    "collapsed": false
   },
   "outputs": [
    {
     "data": {
      "text/plain": [
       "1000209"
      ]
     },
     "execution_count": 24,
     "metadata": {},
     "output_type": "execute_result"
    }
   ],
   "source": [
    "umr.count()"
   ]
  },
  {
   "cell_type": "markdown",
   "metadata": {},
   "source": [
    "1000209"
   ]
  },
  {
   "cell_type": "code",
   "execution_count": 25,
   "metadata": {
    "collapsed": false
   },
   "outputs": [
    {
     "name": "stdout",
     "output_type": "stream",
     "text": [
      "[(1.0, (1, 1197)), (1.0, (1, 938))]\n",
      "5001045\n"
     ]
    }
   ],
   "source": [
    "# since we have to determine the probability of rating r for each user_id and movie_id,\n",
    "# we have to create a RDD with [(rating, (user_id, movie_id))] for each rating\n",
    "# ie. (rating_1, (user_id, movie_id)), (rating_2, (user_id, movie_id)), ..., (rating_5, (user_id, movie_id))\n",
    "um = umr.map(lambda (user_id, movie_id, rating): (user_id, movie_id))\n",
    "rCombo_um = rangeOfRatings.cartesian(um).map(lambda (rating, (user_id, movie_id)): (float(rating), (user_id, movie_id)))\n",
    "print rCombo_um.take(2)\n",
    "print rCombo_um.count() # == umr.count() * 5"
   ]
  },
  {
   "cell_type": "markdown",
   "metadata": {},
   "source": [
    "[(1.0, (1, 1197)), (1.0, (1, 938))]\n",
    "\n",
    "5001045"
   ]
  },
  {
   "cell_type": "code",
   "execution_count": 26,
   "metadata": {
    "collapsed": false
   },
   "outputs": [
    {
     "name": "stdout",
     "output_type": "stream",
     "text": [
      "[(1, 1197, 1.0), (1, 938, 1.0)]\n",
      "5001045\n"
     ]
    }
   ],
   "source": [
    "umrCombo = rCombo_um.map(lambda (rating, (user_id, movie_id)): (user_id, movie_id, rating))\n",
    "print umrCombo.take(2)\n",
    "print umrCombo.count()"
   ]
  },
  {
   "cell_type": "markdown",
   "metadata": {},
   "source": [
    "[(1, 1197, 1.0), (1, 938, 1.0)]\n",
    "\n",
    "5001045"
   ]
  },
  {
   "cell_type": "code",
   "execution_count": 27,
   "metadata": {
    "collapsed": false
   },
   "outputs": [
    {
     "name": "stdout",
     "output_type": "stream",
     "text": [
      "[(1.0, (287, 150)), (1.0, (287, 235))]\n",
      "500750\n"
     ]
    }
   ],
   "source": [
    "# since we have to determine the probability of rating r for each user_id and movie_id,\n",
    "# we have to create a RDD with [(rating, (user_id, movie_id))] for each rating\n",
    "# ie. (rating_1, (user_id, movie_id)), (rating_2, (user_id, movie_id)), ..., (rating_5, (user_id, movie_id))\n",
    "um_test = umr_test.map(lambda (user_id, movie_id, rating): (user_id, movie_id))\n",
    "rCombo_um_test = rangeOfRatings.cartesian(um_test).map(lambda (rating, (user_id, movie_id)): (float(rating), (user_id, movie_id)))\n",
    "print rCombo_um_test.take(2)\n",
    "print rCombo_um_test.count() # == umr.count() * 5"
   ]
  },
  {
   "cell_type": "markdown",
   "metadata": {},
   "source": [
    "[(1.0, (2, 593)), (1.0, (2, 1955))]\n",
    "\n",
    "501170"
   ]
  },
  {
   "cell_type": "code",
   "execution_count": 28,
   "metadata": {
    "collapsed": false
   },
   "outputs": [
    {
     "name": "stdout",
     "output_type": "stream",
     "text": [
      "[(58, 1205, 1.0), (58, 2019, 1.0)]\n",
      "500750\n"
     ]
    }
   ],
   "source": [
    "umrCombo_test = rCombo_um_test.map(lambda (rating, (user_id, movie_id)): (user_id, movie_id, rating))\n",
    "print umrCombo_test.take(2)\n",
    "print umrCombo_test.count()"
   ]
  },
  {
   "cell_type": "markdown",
   "metadata": {},
   "source": [
    "[(2, 593, 1.0), (2, 1955, 1.0)]\n",
    "\n",
    "501170"
   ]
  },
  {
   "cell_type": "markdown",
   "metadata": {},
   "source": [
    "##### Calculating P(r|u) , probability of rating r for user u\n",
    "$$ P(r|u) = { numberOfParticularRatingThatUserGives \\over totalNumberOfRatingsThatUserGives }$$\n",
    "\n",
    "```\n",
    "P(r|u) = (number of ratings r that user u gives) / (total number of ratings that user u gives)\n",
    "\n",
    "For example: \n",
    "  r == 1\n",
    "  P(r|u) = (number of ratings r == 1 that user u gives) / (total number of ratings that user u gives)\n",
    "```"
   ]
  },
  {
   "cell_type": "code",
   "execution_count": 29,
   "metadata": {
    "collapsed": false
   },
   "outputs": [
    {
     "data": {
      "text/plain": [
       "[((1, 3.0), 1), ((1, 4.0), 1)]"
      ]
     },
     "execution_count": 29,
     "metadata": {},
     "output_type": "execute_result"
    }
   ],
   "source": [
    "# [((user_id, rating), 1)]\n",
    "ur_1 = umr.map(lambda (user_id, movie_id, rating): ((user_id, rating), 1))\n",
    "ur_1.take(2)"
   ]
  },
  {
   "cell_type": "markdown",
   "metadata": {},
   "source": [
    "[((1, 3.0), 1), ((1, 4.0), 1)]"
   ]
  },
  {
   "cell_type": "code",
   "execution_count": 30,
   "metadata": {
    "collapsed": false
   },
   "outputs": [
    {
     "data": {
      "text/plain": [
       "1000209"
      ]
     },
     "execution_count": 30,
     "metadata": {},
     "output_type": "execute_result"
    }
   ],
   "source": [
    "ur_1.count()"
   ]
  },
  {
   "cell_type": "markdown",
   "metadata": {},
   "source": [
    "1000209"
   ]
  },
  {
   "cell_type": "code",
   "execution_count": 31,
   "metadata": {
    "collapsed": false
   },
   "outputs": [
    {
     "name": "stdout",
     "output_type": "stream",
     "text": [
      "30200\n"
     ]
    }
   ],
   "source": [
    "# [(((user_id, rating_1), 0), ((user_id, rating_2), 0), ..., ((user_id, rating_5), 0))]\n",
    "urCombo_0 = umrCombo.map(lambda (user_id, movie_id, rating): ((user_id, rating), 0)).distinct()\n",
    "#print urCombo_0.sortByKey().collect()\n",
    "print urCombo_0.count()"
   ]
  },
  {
   "cell_type": "markdown",
   "metadata": {},
   "source": [
    "30200"
   ]
  },
  {
   "cell_type": "code",
   "execution_count": 32,
   "metadata": {
    "collapsed": false
   },
   "outputs": [
    {
     "name": "stdout",
     "output_type": "stream",
     "text": [
      "[((1, 3.0), 1), ((1, 4.0), 1)]\n",
      "1030409\n"
     ]
    }
   ],
   "source": [
    "ur_1Or0 = ur_1.union(urCombo_0)\n",
    "print ur_1Or0.take(2)\n",
    "print ur_1Or0.count()\n",
    "# ur_1Or0.count() == ur_1.count() + urCombo_0.count()\n",
    "#                    1000209  + 30200 \n",
    "#                    1030409  "
   ]
  },
  {
   "cell_type": "markdown",
   "metadata": {},
   "source": [
    "[((1, 3.0), 1), ((1, 4.0), 1)]\n",
    "\n",
    "1030409"
   ]
  },
  {
   "cell_type": "code",
   "execution_count": 33,
   "metadata": {
    "collapsed": false
   },
   "outputs": [
    {
     "data": {
      "text/plain": [
       "[((1, 1.0), 0),\n",
       " ((1, 2.0), 0),\n",
       " ((1, 3.0), 1),\n",
       " ((1, 3.0), 1),\n",
       " ((1, 3.0), 1),\n",
       " ((1, 3.0), 1),\n",
       " ((1, 3.0), 1),\n",
       " ((1, 3.0), 1),\n",
       " ((1, 3.0), 1),\n",
       " ((1, 3.0), 1),\n",
       " ((1, 3.0), 0),\n",
       " ((1, 4.0), 1),\n",
       " ((1, 4.0), 1),\n",
       " ((1, 4.0), 1),\n",
       " ((1, 4.0), 1),\n",
       " ((1, 4.0), 1),\n",
       " ((1, 4.0), 1),\n",
       " ((1, 4.0), 1),\n",
       " ((1, 4.0), 1),\n",
       " ((1, 4.0), 1),\n",
       " ((1, 4.0), 1),\n",
       " ((1, 4.0), 1),\n",
       " ((1, 4.0), 1),\n",
       " ((1, 4.0), 1),\n",
       " ((1, 4.0), 1),\n",
       " ((1, 4.0), 1),\n",
       " ((1, 4.0), 1),\n",
       " ((1, 4.0), 1),\n",
       " ((1, 4.0), 1),\n",
       " ((1, 4.0), 1),\n",
       " ((1, 4.0), 1),\n",
       " ((1, 4.0), 1),\n",
       " ((1, 4.0), 1),\n",
       " ((1, 4.0), 1),\n",
       " ((1, 4.0), 1),\n",
       " ((1, 4.0), 1),\n",
       " ((1, 4.0), 1),\n",
       " ((1, 4.0), 1),\n",
       " ((1, 4.0), 0),\n",
       " ((1, 5.0), 1),\n",
       " ((1, 5.0), 1),\n",
       " ((1, 5.0), 1),\n",
       " ((1, 5.0), 1),\n",
       " ((1, 5.0), 1),\n",
       " ((1, 5.0), 1),\n",
       " ((1, 5.0), 1),\n",
       " ((1, 5.0), 1),\n",
       " ((1, 5.0), 1),\n",
       " ((1, 5.0), 1),\n",
       " ((1, 5.0), 1),\n",
       " ((1, 5.0), 1),\n",
       " ((1, 5.0), 1),\n",
       " ((1, 5.0), 1),\n",
       " ((1, 5.0), 1),\n",
       " ((1, 5.0), 1),\n",
       " ((1, 5.0), 1),\n",
       " ((1, 5.0), 1),\n",
       " ((1, 5.0), 0),\n",
       " ((2, 1.0), 1),\n",
       " ((2, 1.0), 0),\n",
       " ((2, 1.0), 1),\n",
       " ((2, 2.0), 1),\n",
       " ((2, 2.0), 1),\n",
       " ((2, 2.0), 1),\n",
       " ((2, 2.0), 1),\n",
       " ((2, 2.0), 1),\n",
       " ((2, 2.0), 1),\n",
       " ((2, 2.0), 1),\n",
       " ((2, 2.0), 1),\n",
       " ((2, 2.0), 1),\n",
       " ((2, 2.0), 1),\n",
       " ((2, 2.0), 1),\n",
       " ((2, 2.0), 0),\n",
       " ((2, 3.0), 1),\n",
       " ((2, 3.0), 1),\n",
       " ((2, 3.0), 1),\n",
       " ((2, 3.0), 1),\n",
       " ((2, 3.0), 1),\n",
       " ((2, 3.0), 1),\n",
       " ((2, 3.0), 1),\n",
       " ((2, 3.0), 1),\n",
       " ((2, 3.0), 1),\n",
       " ((2, 3.0), 1),\n",
       " ((2, 3.0), 1),\n",
       " ((2, 3.0), 1),\n",
       " ((2, 3.0), 1),\n",
       " ((2, 3.0), 1),\n",
       " ((2, 3.0), 1),\n",
       " ((2, 3.0), 1),\n",
       " ((2, 3.0), 1),\n",
       " ((2, 3.0), 1),\n",
       " ((2, 3.0), 1),\n",
       " ((2, 3.0), 1),\n",
       " ((2, 3.0), 1),\n",
       " ((2, 3.0), 1),\n",
       " ((2, 3.0), 1),\n",
       " ((2, 3.0), 1),\n",
       " ((2, 3.0), 1),\n",
       " ((2, 3.0), 1),\n",
       " ((2, 3.0), 1),\n",
       " ((2, 3.0), 1),\n",
       " ((2, 3.0), 1),\n",
       " ((2, 3.0), 1),\n",
       " ((2, 3.0), 1),\n",
       " ((2, 3.0), 1),\n",
       " ((2, 3.0), 1),\n",
       " ((2, 3.0), 1),\n",
       " ((2, 3.0), 1),\n",
       " ((2, 3.0), 1),\n",
       " ((2, 3.0), 1),\n",
       " ((2, 3.0), 1),\n",
       " ((2, 3.0), 1),\n",
       " ((2, 3.0), 1),\n",
       " ((2, 3.0), 1),\n",
       " ((2, 3.0), 1),\n",
       " ((2, 3.0), 1),\n",
       " ((2, 3.0), 0),\n",
       " ((2, 4.0), 1),\n",
       " ((2, 4.0), 1),\n",
       " ((2, 4.0), 1),\n",
       " ((2, 4.0), 1),\n",
       " ((2, 4.0), 1),\n",
       " ((2, 4.0), 1),\n",
       " ((2, 4.0), 1),\n",
       " ((2, 4.0), 1),\n",
       " ((2, 4.0), 1),\n",
       " ((2, 4.0), 1),\n",
       " ((2, 4.0), 1),\n",
       " ((2, 4.0), 1),\n",
       " ((2, 4.0), 1),\n",
       " ((2, 4.0), 1),\n",
       " ((2, 4.0), 1),\n",
       " ((2, 4.0), 1),\n",
       " ((2, 4.0), 1),\n",
       " ((2, 4.0), 1),\n",
       " ((2, 4.0), 1),\n",
       " ((2, 4.0), 1),\n",
       " ((2, 4.0), 1),\n",
       " ((2, 4.0), 1),\n",
       " ((2, 4.0), 1),\n",
       " ((2, 4.0), 1),\n",
       " ((2, 4.0), 1),\n",
       " ((2, 4.0), 1),\n",
       " ((2, 4.0), 1),\n",
       " ((2, 4.0), 1),\n",
       " ((2, 4.0), 1),\n",
       " ((2, 4.0), 1),\n",
       " ((2, 4.0), 1),\n",
       " ((2, 4.0), 1),\n",
       " ((2, 4.0), 1),\n",
       " ((2, 4.0), 1),\n",
       " ((2, 4.0), 1),\n",
       " ((2, 4.0), 1),\n",
       " ((2, 4.0), 1),\n",
       " ((2, 4.0), 1),\n",
       " ((2, 4.0), 1),\n",
       " ((2, 4.0), 0),\n",
       " ((2, 5.0), 1),\n",
       " ((2, 5.0), 1),\n",
       " ((2, 5.0), 1),\n",
       " ((2, 5.0), 1),\n",
       " ((2, 5.0), 1),\n",
       " ((2, 5.0), 1),\n",
       " ((2, 5.0), 1),\n",
       " ((2, 5.0), 1),\n",
       " ((2, 5.0), 1),\n",
       " ((2, 5.0), 1),\n",
       " ((2, 5.0), 1),\n",
       " ((2, 5.0), 1),\n",
       " ((2, 5.0), 1),\n",
       " ((2, 5.0), 1),\n",
       " ((2, 5.0), 1),\n",
       " ((2, 5.0), 1),\n",
       " ((2, 5.0), 1),\n",
       " ((2, 5.0), 1),\n",
       " ((2, 5.0), 1),\n",
       " ((2, 5.0), 1),\n",
       " ((2, 5.0), 1),\n",
       " ((2, 5.0), 1),\n",
       " ((2, 5.0), 1),\n",
       " ((2, 5.0), 1),\n",
       " ((2, 5.0), 1),\n",
       " ((2, 5.0), 1),\n",
       " ((2, 5.0), 1),\n",
       " ((2, 5.0), 1),\n",
       " ((2, 5.0), 1),\n",
       " ((2, 5.0), 1),\n",
       " ((2, 5.0), 0),\n",
       " ((2, 5.0), 1),\n",
       " ((2, 5.0), 1),\n",
       " ((2, 5.0), 1),\n",
       " ((2, 5.0), 1),\n",
       " ((3, 1.0), 1),\n",
       " ((3, 1.0), 0),\n",
       " ((3, 2.0), 1),\n",
       " ((3, 2.0), 1),\n",
       " ((3, 2.0), 0),\n",
       " ((3, 2.0), 1),\n",
       " ((3, 2.0), 1),\n",
       " ((3, 3.0), 1),\n",
       " ((3, 3.0), 1),\n",
       " ((3, 3.0), 1),\n",
       " ((3, 3.0), 1),\n",
       " ((3, 3.0), 1),\n",
       " ((3, 3.0), 1),\n",
       " ((3, 3.0), 1),\n",
       " ((3, 3.0), 1),\n",
       " ((3, 3.0), 1),\n",
       " ((3, 3.0), 0),\n",
       " ((3, 4.0), 1),\n",
       " ((3, 4.0), 1),\n",
       " ((3, 4.0), 1),\n",
       " ((3, 4.0), 1),\n",
       " ((3, 4.0), 1),\n",
       " ((3, 4.0), 1),\n",
       " ((3, 4.0), 1),\n",
       " ((3, 4.0), 1),\n",
       " ((3, 4.0), 1),\n",
       " ((3, 4.0), 1),\n",
       " ((3, 4.0), 1),\n",
       " ((3, 4.0), 1),\n",
       " ((3, 4.0), 1),\n",
       " ((3, 4.0), 1),\n",
       " ((3, 4.0), 1),\n",
       " ((3, 4.0), 1),\n",
       " ((3, 4.0), 1),\n",
       " ((3, 4.0), 1),\n",
       " ((3, 4.0), 1),\n",
       " ((3, 4.0), 1),\n",
       " ((3, 4.0), 1),\n",
       " ((3, 4.0), 1),\n",
       " ((3, 4.0), 0),\n",
       " ((3, 5.0), 1),\n",
       " ((3, 5.0), 1),\n",
       " ((3, 5.0), 1),\n",
       " ((3, 5.0), 1),\n",
       " ((3, 5.0), 1),\n",
       " ((3, 5.0), 1),\n",
       " ((3, 5.0), 1),\n",
       " ((3, 5.0), 1),\n",
       " ((3, 5.0), 1),\n",
       " ((3, 5.0), 1),\n",
       " ((3, 5.0), 1),\n",
       " ((3, 5.0), 1),\n",
       " ((3, 5.0), 1),\n",
       " ((3, 5.0), 1),\n",
       " ((3, 5.0), 0),\n",
       " ((3, 5.0), 1),\n",
       " ((4, 1.0), 1),\n",
       " ((4, 1.0), 0),\n",
       " ((4, 2.0), 1),\n",
       " ((4, 2.0), 0),\n",
       " ((4, 3.0), 1),\n",
       " ((4, 3.0), 0),\n",
       " ((4, 4.0), 1),\n",
       " ((4, 4.0), 1),\n",
       " ((4, 4.0), 1),\n",
       " ((4, 4.0), 1),\n",
       " ((4, 4.0), 1),\n",
       " ((4, 4.0), 1),\n",
       " ((4, 4.0), 1),\n",
       " ((4, 4.0), 1),\n",
       " ((4, 4.0), 0),\n",
       " ((4, 5.0), 1),\n",
       " ((4, 5.0), 1),\n",
       " ((4, 5.0), 1),\n",
       " ((4, 5.0), 1),\n",
       " ((4, 5.0), 1),\n",
       " ((4, 5.0), 1),\n",
       " ((4, 5.0), 1),\n",
       " ((4, 5.0), 1),\n",
       " ((4, 5.0), 1),\n",
       " ((4, 5.0), 1),\n",
       " ((4, 5.0), 0),\n",
       " ((5, 1.0), 1),\n",
       " ((5, 1.0), 1),\n",
       " ((5, 1.0), 1),\n",
       " ((5, 1.0), 1),\n",
       " ((5, 1.0), 1),\n",
       " ((5, 1.0), 1),\n",
       " ((5, 1.0), 1),\n",
       " ((5, 1.0), 1),\n",
       " ((5, 1.0), 1),\n",
       " ((5, 1.0), 1),\n",
       " ((5, 1.0), 1),\n",
       " ((5, 1.0), 1),\n",
       " ((5, 1.0), 1),\n",
       " ((5, 1.0), 1),\n",
       " ((5, 1.0), 1),\n",
       " ((5, 1.0), 1),\n",
       " ((5, 1.0), 1),\n",
       " ((5, 1.0), 0),\n",
       " ((5, 1.0), 1),\n",
       " ((5, 1.0), 1),\n",
       " ((5, 2.0), 1),\n",
       " ((5, 2.0), 1),\n",
       " ((5, 2.0), 1),\n",
       " ((5, 2.0), 1),\n",
       " ((5, 2.0), 1),\n",
       " ((5, 2.0), 1),\n",
       " ((5, 2.0), 1),\n",
       " ((5, 2.0), 1),\n",
       " ((5, 2.0), 1),\n",
       " ((5, 2.0), 1),\n",
       " ((5, 2.0), 1),\n",
       " ((5, 2.0), 1),\n",
       " ((5, 2.0), 1),\n",
       " ((5, 2.0), 1),\n",
       " ((5, 2.0), 1),\n",
       " ((5, 2.0), 1),\n",
       " ((5, 2.0), 1),\n",
       " ((5, 2.0), 1),\n",
       " ((5, 2.0), 1),\n",
       " ((5, 2.0), 1),\n",
       " ((5, 2.0), 1),\n",
       " ((5, 2.0), 1),\n",
       " ((5, 2.0), 1),\n",
       " ((5, 2.0), 1),\n",
       " ((5, 2.0), 1),\n",
       " ((5, 2.0), 1),\n",
       " ((5, 2.0), 1),\n",
       " ((5, 2.0), 1),\n",
       " ((5, 2.0), 1),\n",
       " ((5, 2.0), 1),\n",
       " ((5, 2.0), 1),\n",
       " ((5, 2.0), 1),\n",
       " ((5, 2.0), 1),\n",
       " ((5, 2.0), 1),\n",
       " ((5, 2.0), 1),\n",
       " ((5, 2.0), 1),\n",
       " ((5, 2.0), 0),\n",
       " ((5, 3.0), 1),\n",
       " ((5, 3.0), 1),\n",
       " ((5, 3.0), 1),\n",
       " ((5, 3.0), 1),\n",
       " ((5, 3.0), 1),\n",
       " ((5, 3.0), 1),\n",
       " ((5, 3.0), 1),\n",
       " ((5, 3.0), 1),\n",
       " ((5, 3.0), 1),\n",
       " ((5, 3.0), 1),\n",
       " ((5, 3.0), 1),\n",
       " ((5, 3.0), 1),\n",
       " ((5, 3.0), 1),\n",
       " ((5, 3.0), 1),\n",
       " ((5, 3.0), 1),\n",
       " ((5, 3.0), 1),\n",
       " ((5, 3.0), 1),\n",
       " ((5, 3.0), 1),\n",
       " ((5, 3.0), 1),\n",
       " ((5, 3.0), 1),\n",
       " ((5, 3.0), 1),\n",
       " ((5, 3.0), 1),\n",
       " ((5, 3.0), 1),\n",
       " ((5, 3.0), 1),\n",
       " ((5, 3.0), 1),\n",
       " ((5, 3.0), 1),\n",
       " ((5, 3.0), 1),\n",
       " ((5, 3.0), 1),\n",
       " ((5, 3.0), 1),\n",
       " ((5, 3.0), 1),\n",
       " ((5, 3.0), 1),\n",
       " ((5, 3.0), 1),\n",
       " ((5, 3.0), 1),\n",
       " ((5, 3.0), 1),\n",
       " ((5, 3.0), 1),\n",
       " ((5, 3.0), 1),\n",
       " ((5, 3.0), 1),\n",
       " ((5, 3.0), 1),\n",
       " ((5, 3.0), 1),\n",
       " ((5, 3.0), 1),\n",
       " ((5, 3.0), 1),\n",
       " ((5, 3.0), 1),\n",
       " ((5, 3.0), 1),\n",
       " ((5, 3.0), 1),\n",
       " ((5, 3.0), 1),\n",
       " ((5, 3.0), 1),\n",
       " ((5, 3.0), 1),\n",
       " ((5, 3.0), 1),\n",
       " ((5, 3.0), 1),\n",
       " ((5, 3.0), 1),\n",
       " ((5, 3.0), 1),\n",
       " ((5, 3.0), 0),\n",
       " ((5, 3.0), 1),\n",
       " ((5, 3.0), 1),\n",
       " ((5, 3.0), 1),\n",
       " ((5, 3.0), 1),\n",
       " ((5, 3.0), 1),\n",
       " ((5, 3.0), 1),\n",
       " ((5, 3.0), 1),\n",
       " ((5, 3.0), 1),\n",
       " ((5, 3.0), 1),\n",
       " ((5, 3.0), 1),\n",
       " ((5, 4.0), 1),\n",
       " ((5, 4.0), 1),\n",
       " ((5, 4.0), 1),\n",
       " ((5, 4.0), 1),\n",
       " ((5, 4.0), 1),\n",
       " ((5, 4.0), 1),\n",
       " ((5, 4.0), 1),\n",
       " ((5, 4.0), 1),\n",
       " ((5, 4.0), 1),\n",
       " ((5, 4.0), 1),\n",
       " ((5, 4.0), 1),\n",
       " ((5, 4.0), 1),\n",
       " ((5, 4.0), 1),\n",
       " ((5, 4.0), 1),\n",
       " ((5, 4.0), 1),\n",
       " ((5, 4.0), 1),\n",
       " ((5, 4.0), 1),\n",
       " ((5, 4.0), 1),\n",
       " ((5, 4.0), 1),\n",
       " ((5, 4.0), 1),\n",
       " ((5, 4.0), 1),\n",
       " ((5, 4.0), 1),\n",
       " ((5, 4.0), 1),\n",
       " ((5, 4.0), 1),\n",
       " ((5, 4.0), 1),\n",
       " ((5, 4.0), 1),\n",
       " ((5, 4.0), 1),\n",
       " ((5, 4.0), 1),\n",
       " ((5, 4.0), 1),\n",
       " ((5, 4.0), 1),\n",
       " ((5, 4.0), 1),\n",
       " ((5, 4.0), 1),\n",
       " ((5, 4.0), 1),\n",
       " ((5, 4.0), 1),\n",
       " ((5, 4.0), 1),\n",
       " ((5, 4.0), 1),\n",
       " ((5, 4.0), 1),\n",
       " ((5, 4.0), 1),\n",
       " ((5, 4.0), 1),\n",
       " ((5, 4.0), 1),\n",
       " ((5, 4.0), 1),\n",
       " ((5, 4.0), 1),\n",
       " ((5, 4.0), 1),\n",
       " ((5, 4.0), 1),\n",
       " ((5, 4.0), 1),\n",
       " ((5, 4.0), 1),\n",
       " ((5, 4.0), 1),\n",
       " ((5, 4.0), 1),\n",
       " ((5, 4.0), 1),\n",
       " ((5, 4.0), 1),\n",
       " ((5, 4.0), 1),\n",
       " ((5, 4.0), 1),\n",
       " ((5, 4.0), 0),\n",
       " ((5, 4.0), 1),\n",
       " ((5, 4.0), 1),\n",
       " ((5, 4.0), 1),\n",
       " ((5, 4.0), 1),\n",
       " ((5, 4.0), 1),\n",
       " ((5, 4.0), 1),\n",
       " ((5, 4.0), 1),\n",
       " ((5, 4.0), 1),\n",
       " ((5, 4.0), 1),\n",
       " ((5, 5.0), 1),\n",
       " ((5, 5.0), 1),\n",
       " ((5, 5.0), 1),\n",
       " ((5, 5.0), 1),\n",
       " ((5, 5.0), 1),\n",
       " ((5, 5.0), 1),\n",
       " ((5, 5.0), 1),\n",
       " ((5, 5.0), 1),\n",
       " ((5, 5.0), 1),\n",
       " ((5, 5.0), 1),\n",
       " ((5, 5.0), 1),\n",
       " ((5, 5.0), 1),\n",
       " ((5, 5.0), 1),\n",
       " ((5, 5.0), 1),\n",
       " ((5, 5.0), 1),\n",
       " ((5, 5.0), 1),\n",
       " ((5, 5.0), 1),\n",
       " ((5, 5.0), 1),\n",
       " ((5, 5.0), 1),\n",
       " ((5, 5.0), 1),\n",
       " ((5, 5.0), 1),\n",
       " ((5, 5.0), 0),\n",
       " ((6, 1.0), 1),\n",
       " ((6, 1.0), 0),\n",
       " ((6, 2.0), 1),\n",
       " ((6, 2.0), 0),\n",
       " ((6, 3.0), 1),\n",
       " ((6, 3.0), 1),\n",
       " ((6, 3.0), 1),\n",
       " ((6, 3.0), 1),\n",
       " ((6, 3.0), 1),\n",
       " ((6, 3.0), 1),\n",
       " ((6, 3.0), 1),\n",
       " ((6, 3.0), 1),\n",
       " ((6, 3.0), 1),\n",
       " ((6, 3.0), 1),\n",
       " ((6, 3.0), 1),\n",
       " ((6, 3.0), 1),\n",
       " ((6, 3.0), 1),\n",
       " ((6, 3.0), 1),\n",
       " ((6, 3.0), 1),\n",
       " ((6, 3.0), 1),\n",
       " ((6, 3.0), 1),\n",
       " ((6, 3.0), 1),\n",
       " ((6, 3.0), 1),\n",
       " ((6, 3.0), 0),\n",
       " ((6, 4.0), 1),\n",
       " ((6, 4.0), 1),\n",
       " ((6, 4.0), 1),\n",
       " ((6, 4.0), 1),\n",
       " ((6, 4.0), 1),\n",
       " ((6, 4.0), 1),\n",
       " ((6, 4.0), 1),\n",
       " ((6, 4.0), 1),\n",
       " ((6, 4.0), 1),\n",
       " ((6, 4.0), 1),\n",
       " ((6, 4.0), 1),\n",
       " ((6, 4.0), 1),\n",
       " ((6, 4.0), 1),\n",
       " ((6, 4.0), 1),\n",
       " ((6, 4.0), 1),\n",
       " ((6, 4.0), 1),\n",
       " ((6, 4.0), 1),\n",
       " ((6, 4.0), 1),\n",
       " ((6, 4.0), 1),\n",
       " ((6, 4.0), 1),\n",
       " ((6, 4.0), 1),\n",
       " ((6, 4.0), 1),\n",
       " ((6, 4.0), 1),\n",
       " ((6, 4.0), 1),\n",
       " ((6, 4.0), 1),\n",
       " ((6, 4.0), 1),\n",
       " ((6, 4.0), 1),\n",
       " ((6, 4.0), 1),\n",
       " ((6, 4.0), 1),\n",
       " ((6, 4.0), 1),\n",
       " ((6, 4.0), 1),\n",
       " ((6, 4.0), 1),\n",
       " ((6, 4.0), 1),\n",
       " ((6, 4.0), 0),\n",
       " ((6, 5.0), 1),\n",
       " ((6, 5.0), 1),\n",
       " ((6, 5.0), 1),\n",
       " ((6, 5.0), 1),\n",
       " ((6, 5.0), 1),\n",
       " ((6, 5.0), 1),\n",
       " ((6, 5.0), 1),\n",
       " ((6, 5.0), 1),\n",
       " ((6, 5.0), 1),\n",
       " ((6, 5.0), 1),\n",
       " ((6, 5.0), 1),\n",
       " ((6, 5.0), 1),\n",
       " ((6, 5.0), 1),\n",
       " ((6, 5.0), 0),\n",
       " ((6, 5.0), 1),\n",
       " ((6, 5.0), 1),\n",
       " ((6, 5.0), 1),\n",
       " ((6, 5.0), 1),\n",
       " ((7, 1.0), 0),\n",
       " ((7, 2.0), 0),\n",
       " ((7, 3.0), 1),\n",
       " ((7, 3.0), 1),\n",
       " ((7, 3.0), 1),\n",
       " ((7, 3.0), 1),\n",
       " ((7, 3.0), 1),\n",
       " ((7, 3.0), 0),\n",
       " ((7, 4.0), 1),\n",
       " ((7, 4.0), 1),\n",
       " ((7, 4.0), 1),\n",
       " ((7, 4.0), 1),\n",
       " ((7, 4.0), 1),\n",
       " ((7, 4.0), 1),\n",
       " ((7, 4.0), 1),\n",
       " ((7, 4.0), 1),\n",
       " ((7, 4.0), 1),\n",
       " ((7, 4.0), 1),\n",
       " ((7, 4.0), 1),\n",
       " ((7, 4.0), 0),\n",
       " ((7, 5.0), 1),\n",
       " ((7, 5.0), 1),\n",
       " ((7, 5.0), 1),\n",
       " ((7, 5.0), 1),\n",
       " ((7, 5.0), 1),\n",
       " ((7, 5.0), 1),\n",
       " ((7, 5.0), 1),\n",
       " ((7, 5.0), 1),\n",
       " ((7, 5.0), 1),\n",
       " ((7, 5.0), 1),\n",
       " ((7, 5.0), 1),\n",
       " ((7, 5.0), 1),\n",
       " ((7, 5.0), 1),\n",
       " ((7, 5.0), 0),\n",
       " ((7, 5.0), 1),\n",
       " ((7, 5.0), 1),\n",
       " ((8, 1.0), 0),\n",
       " ((8, 2.0), 1),\n",
       " ((8, 2.0), 1),\n",
       " ((8, 2.0), 1),\n",
       " ((8, 2.0), 1),\n",
       " ((8, 2.0), 1),\n",
       " ((8, 2.0), 1),\n",
       " ((8, 2.0), 1),\n",
       " ((8, 2.0), 0),\n",
       " ((8, 3.0), 1),\n",
       " ((8, 3.0), 1),\n",
       " ((8, 3.0), 1),\n",
       " ((8, 3.0), 1),\n",
       " ((8, 3.0), 1),\n",
       " ((8, 3.0), 1),\n",
       " ((8, 3.0), 1),\n",
       " ((8, 3.0), 1),\n",
       " ((8, 3.0), 1),\n",
       " ((8, 3.0), 1),\n",
       " ((8, 3.0), 1),\n",
       " ((8, 3.0), 1),\n",
       " ((8, 3.0), 1),\n",
       " ((8, 3.0), 1),\n",
       " ((8, 3.0), 1),\n",
       " ((8, 3.0), 1),\n",
       " ((8, 3.0), 1),\n",
       " ((8, 3.0), 1),\n",
       " ((8, 3.0), 1),\n",
       " ((8, 3.0), 1),\n",
       " ((8, 3.0), 1),\n",
       " ((8, 3.0), 1),\n",
       " ((8, 3.0), 1),\n",
       " ((8, 3.0), 1),\n",
       " ((8, 3.0), 1),\n",
       " ((8, 3.0), 1),\n",
       " ((8, 3.0), 1),\n",
       " ((8, 3.0), 1),\n",
       " ((8, 3.0), 1),\n",
       " ((8, 3.0), 1),\n",
       " ((8, 3.0), 1),\n",
       " ((8, 3.0), 1),\n",
       " ((8, 3.0), 1),\n",
       " ((8, 3.0), 1),\n",
       " ((8, 3.0), 1),\n",
       " ((8, 3.0), 1),\n",
       " ((8, 3.0), 1),\n",
       " ((8, 3.0), 1),\n",
       " ((8, 3.0), 0),\n",
       " ((8, 3.0), 1),\n",
       " ((8, 3.0), 1),\n",
       " ((8, 3.0), 1),\n",
       " ((8, 3.0), 1),\n",
       " ((8, 3.0), 1),\n",
       " ((8, 3.0), 1),\n",
       " ((8, 3.0), 1),\n",
       " ((8, 3.0), 1),\n",
       " ((8, 3.0), 1),\n",
       " ((8, 4.0), 1),\n",
       " ((8, 4.0), 1),\n",
       " ((8, 4.0), 1),\n",
       " ((8, 4.0), 1),\n",
       " ((8, 4.0), 1),\n",
       " ((8, 4.0), 1),\n",
       " ((8, 4.0), 1),\n",
       " ((8, 4.0), 1),\n",
       " ((8, 4.0), 1),\n",
       " ((8, 4.0), 1),\n",
       " ((8, 4.0), 1),\n",
       " ((8, 4.0), 1),\n",
       " ((8, 4.0), 1),\n",
       " ((8, 4.0), 1),\n",
       " ((8, 4.0), 1),\n",
       " ((8, 4.0), 1),\n",
       " ((8, 4.0), 1),\n",
       " ((8, 4.0), 1),\n",
       " ((8, 4.0), 1),\n",
       " ((8, 4.0), 1),\n",
       " ((8, 4.0), 1),\n",
       " ((8, 4.0), 1),\n",
       " ((8, 4.0), 1),\n",
       " ((8, 4.0), 1),\n",
       " ((8, 4.0), 1),\n",
       " ((8, 4.0), 1),\n",
       " ((8, 4.0), 1),\n",
       " ((8, 4.0), 1),\n",
       " ((8, 4.0), 1),\n",
       " ((8, 4.0), 1),\n",
       " ((8, 4.0), 1),\n",
       " ((8, 4.0), 1),\n",
       " ((8, 4.0), 1),\n",
       " ((8, 4.0), 0),\n",
       " ((8, 4.0), 1),\n",
       " ((8, 4.0), 1),\n",
       " ((8, 4.0), 1),\n",
       " ((8, 4.0), 1),\n",
       " ((8, 4.0), 1),\n",
       " ((8, 4.0), 1),\n",
       " ((8, 4.0), 1),\n",
       " ((8, 5.0), 1),\n",
       " ((8, 5.0), 1),\n",
       " ((8, 5.0), 1),\n",
       " ((8, 5.0), 1),\n",
       " ((8, 5.0), 1),\n",
       " ((8, 5.0), 1),\n",
       " ((8, 5.0), 1),\n",
       " ((8, 5.0), 1),\n",
       " ((8, 5.0), 1),\n",
       " ((8, 5.0), 1),\n",
       " ((8, 5.0), 1),\n",
       " ((8, 5.0), 1),\n",
       " ((8, 5.0), 1),\n",
       " ((8, 5.0), 1),\n",
       " ((8, 5.0), 1),\n",
       " ((8, 5.0), 1),\n",
       " ((8, 5.0), 1),\n",
       " ((8, 5.0), 1),\n",
       " ((8, 5.0), 1),\n",
       " ((8, 5.0), 1),\n",
       " ((8, 5.0), 1),\n",
       " ((8, 5.0), 1),\n",
       " ((8, 5.0), 1),\n",
       " ((8, 5.0), 1),\n",
       " ((8, 5.0), 1),\n",
       " ((8, 5.0), 1),\n",
       " ((8, 5.0), 1),\n",
       " ((8, 5.0), 1),\n",
       " ((8, 5.0), 1),\n",
       " ((8, 5.0), 1),\n",
       " ((8, 5.0), 1),\n",
       " ((8, 5.0), 1),\n",
       " ((8, 5.0), 1),\n",
       " ((8, 5.0), 1),\n",
       " ((8, 5.0), 1),\n",
       " ((8, 5.0), 1),\n",
       " ((8, 5.0), 1),\n",
       " ((8, 5.0), 1),\n",
       " ((8, 5.0), 1),\n",
       " ((8, 5.0), 1),\n",
       " ((8, 5.0), 1),\n",
       " ((8, 5.0), 1),\n",
       " ((8, 5.0), 1),\n",
       " ((8, 5.0), 1),\n",
       " ((8, 5.0), 1),\n",
       " ((8, 5.0), 0),\n",
       " ((9, 1.0), 0),\n",
       " ((9, 2.0), 1),\n",
       " ((9, 2.0), 1),\n",
       " ((9, 2.0), 1),\n",
       " ((9, 2.0), 1),\n",
       " ((9, 2.0), 1),\n",
       " ((9, 2.0), 1),\n",
       " ((9, 2.0), 0),\n",
       " ((9, 2.0), 1),\n",
       " ((9, 2.0), 1),\n",
       " ((9, 3.0), 1),\n",
       " ((9, 3.0), 1),\n",
       " ((9, 3.0), 1),\n",
       " ((9, 3.0), 1),\n",
       " ((9, 3.0), 1),\n",
       " ((9, 3.0), 1),\n",
       " ((9, 3.0), 1),\n",
       " ((9, 3.0), 1),\n",
       " ((9, 3.0), 1),\n",
       " ((9, 3.0), 1),\n",
       " ((9, 3.0), 1),\n",
       " ((9, 3.0), 1),\n",
       " ((9, 3.0), 1),\n",
       " ((9, 3.0), 1),\n",
       " ((9, 3.0), 1),\n",
       " ((9, 3.0), 1),\n",
       " ((9, 3.0), 1),\n",
       " ((9, 3.0), 1),\n",
       " ((9, 3.0), 1),\n",
       " ((9, 3.0), 1),\n",
       " ((9, 3.0), 1),\n",
       " ((9, 3.0), 1),\n",
       " ((9, 3.0), 1),\n",
       " ((9, 3.0), 1),\n",
       " ((9, 3.0), 1),\n",
       " ((9, 3.0), 1),\n",
       " ((9, 3.0), 0),\n",
       " ((9, 3.0), 1),\n",
       " ((9, 3.0), 1),\n",
       " ((9, 3.0), 1),\n",
       " ((9, 4.0), 1),\n",
       " ((9, 4.0), 1),\n",
       " ((9, 4.0), 1),\n",
       " ((9, 4.0), 1),\n",
       " ((9, 4.0), 1),\n",
       " ((9, 4.0), 1),\n",
       " ((9, 4.0), 1),\n",
       " ((9, 4.0), 1),\n",
       " ((9, 4.0), 1),\n",
       " ((9, 4.0), 1),\n",
       " ((9, 4.0), 1),\n",
       " ((9, 4.0), 1),\n",
       " ((9, 4.0), 1),\n",
       " ((9, 4.0), 1),\n",
       " ((9, 4.0), 1),\n",
       " ((9, 4.0), 1),\n",
       " ((9, 4.0), 1),\n",
       " ((9, 4.0), 1),\n",
       " ((9, 4.0), 1),\n",
       " ((9, 4.0), 1),\n",
       " ((9, 4.0), 1),\n",
       " ((9, 4.0), 1),\n",
       " ((9, 4.0), 1),\n",
       " ((9, 4.0), 1),\n",
       " ((9, 4.0), 1),\n",
       " ((9, 4.0), 1),\n",
       " ((9, 4.0), 1),\n",
       " ((9, 4.0), 1),\n",
       " ((9, 4.0), 1),\n",
       " ((9, 4.0), 1),\n",
       " ((9, 4.0), 1),\n",
       " ((9, 4.0), 1),\n",
       " ((9, 4.0), 1),\n",
       " ((9, 4.0), 1),\n",
       " ((9, 4.0), 1),\n",
       " ((9, 4.0), 1),\n",
       " ((9, 4.0), 1),\n",
       " ((9, 4.0), 1),\n",
       " ((9, 4.0), 1),\n",
       " ((9, 4.0), 1),\n",
       " ((9, 4.0), 1),\n",
       " ((9, 4.0), 1),\n",
       " ((9, 4.0), 1),\n",
       " ((9, 4.0), 1),\n",
       " ((9, 4.0), 1),\n",
       " ((9, 4.0), 1),\n",
       " ((9, 4.0), 1),\n",
       " ((9, 4.0), 1),\n",
       " ((9, 4.0), 1),\n",
       " ((9, 4.0), 1),\n",
       " ((9, 4.0), 1),\n",
       " ((9, 4.0), 1),\n",
       " ((9, 4.0), 0),\n",
       " ((9, 5.0), 1),\n",
       " ((9, 5.0), 1),\n",
       " ((9, 5.0), 1),\n",
       " ((9, 5.0), 1),\n",
       " ((9, 5.0), 1),\n",
       " ((9, 5.0), 1),\n",
       " ((9, 5.0), 1),\n",
       " ((9, 5.0), 1),\n",
       " ((9, 5.0), 1),\n",
       " ((9, 5.0), 1),\n",
       " ((9, 5.0), 1),\n",
       " ((9, 5.0), 1),\n",
       " ((9, 5.0), 1),\n",
       " ((9, 5.0), 1),\n",
       " ((9, 5.0), 1),\n",
       " ((9, 5.0), 1),\n",
       " ((9, 5.0), 0),\n",
       " ((9, 5.0), 1),\n",
       " ((10, 1.0), 0),\n",
       " ((10, 2.0), 1),\n",
       " ((10, 2.0), 1),\n",
       " ((10, 2.0), 1),\n",
       " ((10, 2.0), 1),\n",
       " ((10, 2.0), 1),\n",
       " ((10, 2.0), 1),\n",
       " ((10, 2.0), 1),\n",
       " ((10, 2.0), 1),\n",
       " ((10, 2.0), 1),\n",
       " ((10, 2.0), 1),\n",
       " ((10, 2.0), 0),\n",
       " ((10, 2.0), 1),\n",
       " ((10, 2.0), 1),\n",
       " ((10, 3.0), 1),\n",
       " ((10, 3.0), 1),\n",
       " ((10, 3.0), 1),\n",
       " ((10, 3.0), 1),\n",
       " ((10, 3.0), 1),\n",
       " ((10, 3.0), 1),\n",
       " ((10, 3.0), 1),\n",
       " ((10, 3.0), 1),\n",
       " ((10, 3.0), 1),\n",
       " ((10, 3.0), 1),\n",
       " ((10, 3.0), 1),\n",
       " ((10, 3.0), 1),\n",
       " ((10, 3.0), 1),\n",
       " ((10, 3.0), 1),\n",
       " ((10, 3.0), 1),\n",
       " ((10, 3.0), 1),\n",
       " ((10, 3.0), 1),\n",
       " ((10, 3.0), 1),\n",
       " ((10, 3.0), 1),\n",
       " ((10, 3.0), 1),\n",
       " ((10, 3.0), 1),\n",
       " ((10, 3.0), 1),\n",
       " ((10, 3.0), 1),\n",
       " ((10, 3.0), 1),\n",
       " ((10, 3.0), 1),\n",
       " ((10, 3.0), 1),\n",
       " ((10, 3.0), 1),\n",
       " ((10, 3.0), 1),\n",
       " ((10, 3.0), 1),\n",
       " ((10, 3.0), 1),\n",
       " ((10, 3.0), 1),\n",
       " ((10, 3.0), 1),\n",
       " ((10, 3.0), 1),\n",
       " ((10, 3.0), 1),\n",
       " ((10, 3.0), 1),\n",
       " ((10, 3.0), 1),\n",
       " ((10, 3.0), 1),\n",
       " ((10, 3.0), 1),\n",
       " ((10, 3.0), 1),\n",
       " ((10, 3.0), 1),\n",
       " ((10, 3.0), 1),\n",
       " ((10, 3.0), 1),\n",
       " ((10, 3.0), 1),\n",
       " ((10, 3.0), 1),\n",
       " ((10, 3.0), 1),\n",
       " ((10, 3.0), 1),\n",
       " ((10, 3.0), 1),\n",
       " ((10, 3.0), 1),\n",
       " ((10, 3.0), 1),\n",
       " ((10, 3.0), 1),\n",
       " ((10, 3.0), 1),\n",
       " ((10, 3.0), 1),\n",
       " ((10, 3.0), 1),\n",
       " ((10, 3.0), 1),\n",
       " ((10, 3.0), 1),\n",
       " ((10, 3.0), 1),\n",
       " ((10, 3.0), 1),\n",
       " ((10, 3.0), 1),\n",
       " ((10, 3.0), 1),\n",
       " ((10, 3.0), 1),\n",
       " ((10, 3.0), 1),\n",
       " ((10, 3.0), 1),\n",
       " ((10, 3.0), 1),\n",
       " ((10, 3.0), 1),\n",
       " ((10, 3.0), 1),\n",
       " ((10, 3.0), 1),\n",
       " ((10, 3.0), 1),\n",
       " ((10, 3.0), 1),\n",
       " ((10, 3.0), 1),\n",
       " ((10, 3.0), 1),\n",
       " ((10, 3.0), 1),\n",
       " ((10, 3.0), 0),\n",
       " ((10, 3.0), 1),\n",
       " ((10, 3.0), 1),\n",
       " ((10, 3.0), 1),\n",
       " ((10, 3.0), 1),\n",
       " ((10, 3.0), 1),\n",
       " ((10, 3.0), 1),\n",
       " ((10, 3.0), 1),\n",
       " ((10, 3.0), 1),\n",
       " ((10, 3.0), 1),\n",
       " ((10, 3.0), 1),\n",
       " ((10, 3.0), 1),\n",
       " ((10, 3.0), 1),\n",
       " ((10, 3.0), 1),\n",
       " ((10, 4.0), 1),\n",
       " ((10, 4.0), 1),\n",
       " ((10, 4.0), 1),\n",
       " ((10, 4.0), 1),\n",
       " ((10, 4.0), 1),\n",
       " ((10, 4.0), 1),\n",
       " ((10, 4.0), 1),\n",
       " ((10, 4.0), 1),\n",
       " ((10, 4.0), 1),\n",
       " ((10, 4.0), 1),\n",
       " ((10, 4.0), 1),\n",
       " ((10, 4.0), 1),\n",
       " ((10, 4.0), 1),\n",
       " ((10, 4.0), 1),\n",
       " ((10, 4.0), 1),\n",
       " ((10, 4.0), 1),\n",
       " ((10, 4.0), 1),\n",
       " ((10, 4.0), 1),\n",
       " ((10, 4.0), 1),\n",
       " ((10, 4.0), 1),\n",
       " ((10, 4.0), 1),\n",
       " ((10, 4.0), 1),\n",
       " ((10, 4.0), 1),\n",
       " ((10, 4.0), 1),\n",
       " ((10, 4.0), 1),\n",
       " ((10, 4.0), 1),\n",
       " ((10, 4.0), 1),\n",
       " ((10, 4.0), 1),\n",
       " ((10, 4.0), 1),\n",
       " ((10, 4.0), 1),\n",
       " ((10, 4.0), 1),\n",
       " ((10, 4.0), 1),\n",
       " ((10, 4.0), 1),\n",
       " ((10, 4.0), 1),\n",
       " ((10, 4.0), 1),\n",
       " ((10, 4.0), 1),\n",
       " ((10, 4.0), 1),\n",
       " ((10, 4.0), 1),\n",
       " ((10, 4.0), 1),\n",
       " ((10, 4.0), 1),\n",
       " ((10, 4.0), 1),\n",
       " ((10, 4.0), 1),\n",
       " ((10, 4.0), 1),\n",
       " ((10, 4.0), 1),\n",
       " ((10, 4.0), 1),\n",
       " ((10, 4.0), 1),\n",
       " ((10, 4.0), 1),\n",
       " ((10, 4.0), 1),\n",
       " ((10, 4.0), 1),\n",
       " ((10, 4.0), 1),\n",
       " ((10, 4.0), 1),\n",
       " ((10, 4.0), 1),\n",
       " ((10, 4.0), 1),\n",
       " ((10, 4.0), 1),\n",
       " ((10, 4.0), 1),\n",
       " ((10, 4.0), 1),\n",
       " ((10, 4.0), 1),\n",
       " ...]"
      ]
     },
     "execution_count": 33,
     "metadata": {},
     "output_type": "execute_result"
    }
   ],
   "source": [
    "ur_1Or0.sortByKey().collect()"
   ]
  },
  {
   "cell_type": "code",
   "execution_count": 34,
   "metadata": {
    "collapsed": false
   },
   "outputs": [
    {
     "name": "stdout",
     "output_type": "stream",
     "text": [
      "[((2001, 5.0), 13), ((5446, 4.0), 37)]\n",
      "30200\n"
     ]
    }
   ],
   "source": [
    "from operator import add \n",
    "\n",
    "# [(user_id, rating), (num_rating)]\n",
    "ur_numRating = ur_1Or0.reduceByKey(add)\n",
    "print ur_numRating.take(2)\n",
    "print ur_numRating.count()"
   ]
  },
  {
   "cell_type": "markdown",
   "metadata": {},
   "source": [
    "[((3577, 5.0), 29), ((1260, 2.0), 13)]\n",
    "\n",
    "30200"
   ]
  },
  {
   "cell_type": "code",
   "execution_count": 35,
   "metadata": {
    "collapsed": false
   },
   "outputs": [
    {
     "name": "stdout",
     "output_type": "stream",
     "text": [
      "[(2001, (5.0, 13)), (5446, (4.0, 37))]\n",
      "30200\n"
     ]
    }
   ],
   "source": [
    "# [(user_id, (rating, num_rating))]\n",
    "u_r_numRating = ur_numRating.map(lambda ((user_id, rating), num_rating): (user_id, (rating, num_rating)))\n",
    "print u_r_numRating.take(2)\n",
    "print u_r_numRating.count()"
   ]
  },
  {
   "cell_type": "markdown",
   "metadata": {},
   "source": [
    "[(3577, (5.0, 29)), (1260, (2.0, 13))]\n",
    "\n",
    "30200"
   ]
  },
  {
   "cell_type": "code",
   "execution_count": 36,
   "metadata": {
    "collapsed": false
   },
   "outputs": [
    {
     "name": "stdout",
     "output_type": "stream",
     "text": [
      "[(1, 53), (2, 129)]\n",
      "6040\n"
     ]
    }
   ],
   "source": [
    "# [(user_id, total_rating)]\n",
    "u_totalRating = sc.parallelize(umr.map(lambda (user_id, movie_id, rating): (user_id, rating)).countByKey().items())\n",
    "print u_totalRating.take(2)\n",
    "print u_totalRating.count()"
   ]
  },
  {
   "cell_type": "markdown",
   "metadata": {},
   "source": [
    "[(1, 53), (2, 129)]\n",
    "\n",
    "6040"
   ]
  },
  {
   "cell_type": "code",
   "execution_count": 37,
   "metadata": {
    "collapsed": false
   },
   "outputs": [
    {
     "name": "stdout",
     "output_type": "stream",
     "text": [
      "[(6020, (43, (2.0, 0))), (6020, (43, (5.0, 24)))]\n",
      "30200\n"
     ]
    }
   ],
   "source": [
    "# [(user_id, (total_rating, (rating, num_rating)))]\n",
    "u_componentsOfProb = u_totalRating.join(u_r_numRating)\n",
    "print u_componentsOfProb.take(2)\n",
    "print u_componentsOfProb.count()"
   ]
  },
  {
   "cell_type": "markdown",
   "metadata": {},
   "source": [
    "[(2850, (43, (4.0, 12))), (2850, (43, (1.0, 5)))]\n",
    "\n",
    "30200"
   ]
  },
  {
   "cell_type": "code",
   "execution_count": 38,
   "metadata": {
    "collapsed": false
   },
   "outputs": [
    {
     "name": "stdout",
     "output_type": "stream",
     "text": [
      "[(6020, 3.0, 0.16279069767441862), (6020, 4.0, 0.27906976744186046)]\n",
      "30200\n"
     ]
    }
   ],
   "source": [
    "# [(user_id, rating, probRU)]\n",
    "probRU = u_componentsOfProb.map(lambda (user_id, (total_rating, (rating, num_rating))): \n",
    "                                (user_id, rating, float(num_rating)/float(total_rating))\n",
    "                               )\n",
    "print probRU.take(2)\n",
    "print probRU.count()"
   ]
  },
  {
   "cell_type": "markdown",
   "metadata": {},
   "source": [
    "[(2850, 1.0, 0.11627906976744186), (2850, 3.0, 0.18604651162790697)]\n",
    "\n",
    "30200"
   ]
  },
  {
   "cell_type": "markdown",
   "metadata": {},
   "source": [
    "##### Calculating P(r|i) \n",
    "$$ P(r|i) = { numberOfParticularRatingThatItemReceives \\over totalNumberOfRatingsThatItemReceives }$$\n",
    "\n",
    "```\n",
    "P(r|i) = (number of ratings r that item i receives) / (total number of ratings that item i receives)\n",
    "\n",
    "For example: \n",
    "  r == 1\n",
    "  P(r|i) = (number of ratings r == 1 that movie i receives) / (total number of ratings that movie i receives)\n",
    "```"
   ]
  },
  {
   "cell_type": "code",
   "execution_count": 39,
   "metadata": {
    "collapsed": false
   },
   "outputs": [
    {
     "data": {
      "text/plain": [
       "[((1197, 3.0), 1), ((938, 4.0), 1)]"
      ]
     },
     "execution_count": 39,
     "metadata": {},
     "output_type": "execute_result"
    }
   ],
   "source": [
    "# [((movie_id, rating), 1)]\n",
    "mr_1 = umr.map(lambda (user_id, movie_id, rating): ((movie_id, rating), 1))\n",
    "mr_1.take(2)"
   ]
  },
  {
   "cell_type": "markdown",
   "metadata": {},
   "source": [
    "[((1197, 3.0), 1), ((938, 4.0), 1)]"
   ]
  },
  {
   "cell_type": "code",
   "execution_count": 40,
   "metadata": {
    "collapsed": false
   },
   "outputs": [
    {
     "data": {
      "text/plain": [
       "1000209"
      ]
     },
     "execution_count": 40,
     "metadata": {},
     "output_type": "execute_result"
    }
   ],
   "source": [
    "mr_1.count()"
   ]
  },
  {
   "cell_type": "markdown",
   "metadata": {},
   "source": [
    "1000209"
   ]
  },
  {
   "cell_type": "code",
   "execution_count": 41,
   "metadata": {
    "collapsed": false
   },
   "outputs": [
    {
     "name": "stdout",
     "output_type": "stream",
     "text": [
      "18530\n"
     ]
    }
   ],
   "source": [
    "# [(((user_id, rating_1), 0), ((user_id, rating_2), 0), ..., ((user_id, rating_5), 0))]\n",
    "mrCombo_0 = umrCombo.map(lambda (user_id, movie_id, rating): ((movie_id, rating), 0)).distinct()\n",
    "#print mrCombo_0.sortByKey().collect()\n",
    "print mrCombo_0.count()"
   ]
  },
  {
   "cell_type": "markdown",
   "metadata": {},
   "source": [
    "18530"
   ]
  },
  {
   "cell_type": "code",
   "execution_count": 43,
   "metadata": {
    "collapsed": false
   },
   "outputs": [
    {
     "name": "stdout",
     "output_type": "stream",
     "text": [
      "[((1197, 3.0), 1), ((938, 4.0), 1)]\n",
      "1018739\n"
     ]
    }
   ],
   "source": [
    "mr_1Or0 = mr_1.union(mrCombo_0)\n",
    "print mr_1Or0.take(2)\n",
    "print mr_1Or0.count()\n",
    "# ur_1Or0.count() == ur_1.count() + urCombo_0.count()\n",
    "#                    1000209 + 18530\n",
    "#                    1018739    "
   ]
  },
  {
   "cell_type": "markdown",
   "metadata": {},
   "source": [
    "[((1197, 3.0), 1), ((938, 4.0), 1)]\n",
    "\n",
    "1018739"
   ]
  },
  {
   "cell_type": "code",
   "execution_count": 44,
   "metadata": {
    "collapsed": false
   },
   "outputs": [
    {
     "name": "stdout",
     "output_type": "stream",
     "text": [
      "[((2001, 5.0), 129), ((3654, 4.0), 266)]\n",
      "18530\n"
     ]
    }
   ],
   "source": [
    "# [(movie_id, rating), (num_rating)]\n",
    "mr_numRating = mr_1Or0.reduceByKey(add)\n",
    "print mr_numRating.take(2)\n",
    "print mr_numRating.count()"
   ]
  },
  {
   "cell_type": "markdown",
   "metadata": {},
   "source": [
    "[((3577, 5.0), 3), ((1260, 2.0), 6)]\n",
    "\n",
    "18530"
   ]
  },
  {
   "cell_type": "code",
   "execution_count": 62,
   "metadata": {
    "collapsed": false,
    "scrolled": false
   },
   "outputs": [
    {
     "name": "stdout",
     "output_type": "stream",
     "text": [
      "[((2001, 5.0), (129, 0)), ((3654, 4.0), (266, 0))]\n",
      "18530\n"
     ]
    }
   ],
   "source": [
    "# OPTION instead of using union() and then reduceByKey()\n",
    "\"\"\"\n",
    "mr_1Or0 = mr_1.reduceByKey(add).rightOuterJoin(mrCombo_0)\n",
    "print mr_1Or0.take(2)\n",
    "print mr_1Or0.count()\n",
    "\"\"\"\n",
    "\"\"\"\n",
    "[((2001, 5.0), (129, 0)), ((3654, 4.0), (266, 0))]\n",
    "18530\n",
    "\"\"\""
   ]
  },
  {
   "cell_type": "code",
   "execution_count": 45,
   "metadata": {
    "collapsed": false
   },
   "outputs": [
    {
     "name": "stdout",
     "output_type": "stream",
     "text": [
      "[(2001, (5.0, 129)), (3654, (4.0, 266))]\n",
      "18530\n"
     ]
    }
   ],
   "source": [
    "# [(movie_id, (rating, num_rating))]\n",
    "m_r_numRating = mr_numRating.map(lambda ((movie_id, rating), num_rating): (movie_id, (rating, num_rating)))\n",
    "print m_r_numRating.take(2)\n",
    "print m_r_numRating.count()"
   ]
  },
  {
   "cell_type": "markdown",
   "metadata": {},
   "source": [
    "[(391, (3.0, 18)), (518, (4.0, 22))]\n",
    "\n",
    "18530"
   ]
  },
  {
   "cell_type": "code",
   "execution_count": 46,
   "metadata": {
    "collapsed": false
   },
   "outputs": [
    {
     "name": "stdout",
     "output_type": "stream",
     "text": [
      "[(1, 2077), (2, 701)]\n",
      "3706\n"
     ]
    }
   ],
   "source": [
    "# [(movie_id, total_rating)]\n",
    "m_totalRating = sc.parallelize(umr.map(lambda (user_id, movie_id, rating): (movie_id, rating)).countByKey().items())\n",
    "print m_totalRating.take(2)\n",
    "print m_totalRating.count()"
   ]
  },
  {
   "cell_type": "markdown",
   "metadata": {},
   "source": [
    "[(1, 2077), (2, 701)]\n",
    "\n",
    "3706"
   ]
  },
  {
   "cell_type": "code",
   "execution_count": 47,
   "metadata": {
    "collapsed": false
   },
   "outputs": [
    {
     "name": "stdout",
     "output_type": "stream",
     "text": [
      "[(3010, (35, (4.0, 13))), (3010, (35, (1.0, 1)))]\n",
      "18530\n"
     ]
    }
   ],
   "source": [
    "# [(user_id, (total_rating, (rating, num_rating)))]\n",
    "m_componentsOfProb = m_totalRating.join(m_r_numRating)\n",
    "print m_componentsOfProb.take(2)\n",
    "print m_componentsOfProb.count()"
   ]
  },
  {
   "cell_type": "markdown",
   "metadata": {},
   "source": [
    "[(3808, (44, (5.0, 17))), (3808, (44, (3.0, 8)))]\n",
    "\n",
    "18530"
   ]
  },
  {
   "cell_type": "code",
   "execution_count": 48,
   "metadata": {
    "collapsed": false
   },
   "outputs": [
    {
     "name": "stdout",
     "output_type": "stream",
     "text": [
      "[(3010, 1.0, 0.02857142857142857), (3010, 4.0, 0.37142857142857144)]\n",
      "18530\n"
     ]
    }
   ],
   "source": [
    "# [(movie_id, rating, probRI)]\n",
    "probRI = m_componentsOfProb.map(lambda (movie_id, (total_rating, (rating, num_rating))): \n",
    "                                (movie_id, rating, float(num_rating)/float(total_rating))\n",
    "                               )\n",
    "print probRI.take(2)\n",
    "print probRI.count()"
   ]
  },
  {
   "cell_type": "markdown",
   "metadata": {},
   "source": [
    "[(3808, 5.0, 0.38636363636363635), (3808, 4.0, 0.36363636363636365)]\n",
    "\n",
    "18530"
   ]
  },
  {
   "cell_type": "markdown",
   "metadata": {},
   "source": [
    "#####P(r) = numRating / totalRatings \n",
    "\n",
    "ie. rating = 1\n",
    "\n",
    "P(r) = (number of rating == 1) / (total number of ratings)"
   ]
  },
  {
   "cell_type": "code",
   "execution_count": 49,
   "metadata": {
    "collapsed": false
   },
   "outputs": [
    {
     "name": "stdout",
     "output_type": "stream",
     "text": [
      "1000209\n"
     ]
    }
   ],
   "source": [
    "totalRatings = umr.count()\n",
    "print totalRatings"
   ]
  },
  {
   "cell_type": "markdown",
   "metadata": {},
   "source": [
    "1000209"
   ]
  },
  {
   "cell_type": "code",
   "execution_count": 50,
   "metadata": {
    "collapsed": false
   },
   "outputs": [
    {
     "data": {
      "text/plain": [
       "[(1.0, 0.05616226208722377), (2.0, 0.1075345252842156)]"
      ]
     },
     "execution_count": 50,
     "metadata": {},
     "output_type": "execute_result"
    }
   ],
   "source": [
    "# [(rating, 1)]\n",
    "r_1 = umr.map(lambda (user_id, movie_id, rating): (rating, 1))\n",
    "# [(rating, num_rating)]\n",
    "r_numRating = r_1.reduceByKey(add)\n",
    "# [(rating, probR)]\n",
    "probR = r_numRating.mapValues(lambda num_rating: float(num_rating)/float(totalRatings))\n",
    "probR.take(2)"
   ]
  },
  {
   "cell_type": "markdown",
   "metadata": {},
   "source": [
    "[(1.0, 0.05616226208722377), (2.0, 0.1075345252842156)]"
   ]
  },
  {
   "cell_type": "markdown",
   "metadata": {},
   "source": [
    "##### P(r | a, i) = (P(r|u) * P(r|i) / P(r)) * (P(u) * P(i) / P(u, i)) = P(r|u) * P(r|i) / P(r)\n"
   ]
  },
  {
   "cell_type": "code",
   "execution_count": 51,
   "metadata": {
    "collapsed": false
   },
   "outputs": [
    {
     "name": "stdout",
     "output_type": "stream",
     "text": [
      "[(1.0, ((1, 1197), 0.05616226208722377)), (1.0, ((1, 938), 0.05616226208722377))]\n",
      "5001045\n"
     ]
    }
   ],
   "source": [
    "# add probR to user_id, movie_id, rating\n",
    "components = rCombo_um.join(probR)\n",
    "print components.take(2)\n",
    "print components.count()"
   ]
  },
  {
   "cell_type": "markdown",
   "metadata": {},
   "source": [
    "[(1.0, ((1, 914), 0.05616226208722377)), (1.0, ((1, 594), 0.05616226208722377))]\n",
    "\n",
    "5001045"
   ]
  },
  {
   "cell_type": "code",
   "execution_count": 52,
   "metadata": {
    "collapsed": false
   },
   "outputs": [
    {
     "name": "stdout",
     "output_type": "stream",
     "text": [
      "[((2034, 2.0), ((1446, 0.1075345252842156), 0.0)), ((2034, 2.0), ((3424, 0.1075345252842156), 0.0))]\n",
      "5001045\n"
     ]
    }
   ],
   "source": [
    "# add probRU to user_id, movie_id, rating, probR\n",
    "tmp_a = components.map(lambda (rating, ((user_id, movie_id), prob_r)): ((user_id, rating), (movie_id, prob_r)))\n",
    "tmp_b = probRU.map(lambda (user_id, rating, prob_ru): ((user_id, rating), prob_ru))\n",
    "components = tmp_a.join(tmp_b)\n",
    "print components.take(2)\n",
    "print components.count()"
   ]
  },
  {
   "cell_type": "markdown",
   "metadata": {},
   "source": [
    "[((327, 1.0), ((1248, 0.05616226208722377), 0.038135593220338986)), ((327, 1.0), ((1254, 0.05616226208722377), 0.038135593220338986))]\n",
    "\n",
    "5001045"
   ]
  },
  {
   "cell_type": "code",
   "execution_count": 53,
   "metadata": {
    "collapsed": false
   },
   "outputs": [
    {
     "name": "stdout",
     "output_type": "stream",
     "text": [
      "[((1516, 2.0), ((5530, 0.1075345252842156, 0.23466257668711657), 0.057692307692307696)), ((1516, 2.0), ((1671, 0.1075345252842156, 0.09717868338557993), 0.057692307692307696))]\n",
      "5001045\n"
     ]
    }
   ],
   "source": [
    "# add probRI to user_id, movie_id, rating, probR, probRU\n",
    "tmp_a = components.map(lambda ( (user_id, rating), ((movie_id, prob_r), prob_ru) ): \n",
    "                              ( (movie_id, rating), (user_id, prob_r, prob_ru)   )  \n",
    "                      )\n",
    "tmp_b = probRI.map(lambda (movie_id, rating, prob_ri): ((movie_id, rating), prob_ri))\n",
    "components = tmp_a.join(tmp_b)\n",
    "print components.take(2)\n",
    "print components.count()"
   ]
  },
  {
   "cell_type": "markdown",
   "metadata": {},
   "source": [
    "[((1644, 5.0), ((1605, 0.22626271109338147, 0.038381742738589214), 0.056842105263157895)), ((1644, 5.0), ((1451, 0.22626271109338147, 0.3022636484687084), 0.056842105263157895))]\n",
    "\n",
    "5001045"
   ]
  },
  {
   "cell_type": "code",
   "execution_count": 63,
   "metadata": {
    "collapsed": false
   },
   "outputs": [
    {
     "name": "stdout",
     "output_type": "stream",
     "text": [
      "[((6036, 1516, 2.0), 0.08035421524402948), ((5082, 1516, 2.0), 0.0462500279600066)]\n"
     ]
    }
   ],
   "source": [
    "# re-format\n",
    "# [((user_id, movie_id, rating), bayes_probability)]\n",
    "componentsReformat = components.map(lambda ((movie_id, rating), ((user_id, prob_r, prob_ru), prob_ri)):\n",
    "                                           ((user_id, movie_id, rating), (prob_r, prob_ru, prob_ri))\n",
    "                                   )\n",
    "# calculate bayes probability\n",
    "bayesProb = componentsReformat.mapValues(lambda (prob_r, prob_ru, prob_ri): prob_ru * prob_ri / prob_r)\n",
    "print bayesProb.take(2)"
   ]
  },
  {
   "cell_type": "markdown",
   "metadata": {},
   "source": [
    "[((2168, 135, 4.0), 0.13697613242692502), ((4808, 135, 4.0), 0.12445827900425674)]"
   ]
  },
  {
   "cell_type": "code",
   "execution_count": 66,
   "metadata": {
    "collapsed": false
   },
   "outputs": [
    {
     "name": "stdout",
     "output_type": "stream",
     "text": [
      "umr =  1000209\n",
      "probR = "
     ]
    },
    {
     "ename": "AttributeError",
     "evalue": "'int' object has no attribute 'count'",
     "output_type": "error",
     "traceback": [
      "\u001b[1;31m---------------------------------------------------------------------------\u001b[0m",
      "\u001b[1;31mAttributeError\u001b[0m                            Traceback (most recent call last)",
      "\u001b[1;32m<ipython-input-66-b5d41b87cd8e>\u001b[0m in \u001b[0;36m<module>\u001b[1;34m()\u001b[0m\n\u001b[0;32m      1\u001b[0m \u001b[1;32mprint\u001b[0m \u001b[1;34m\"umr = \"\u001b[0m\u001b[1;33m,\u001b[0m \u001b[0mumr\u001b[0m\u001b[1;33m.\u001b[0m\u001b[0mcount\u001b[0m\u001b[1;33m(\u001b[0m\u001b[1;33m)\u001b[0m\u001b[1;33m\u001b[0m\u001b[0m\n\u001b[1;32m----> 2\u001b[1;33m \u001b[1;32mprint\u001b[0m \u001b[1;34m\"probR = \"\u001b[0m\u001b[1;33m,\u001b[0m \u001b[0mprobR\u001b[0m\u001b[1;33m.\u001b[0m\u001b[0mcount\u001b[0m\u001b[1;33m(\u001b[0m\u001b[1;33m)\u001b[0m\u001b[1;33m\u001b[0m\u001b[0m\n\u001b[0m\u001b[0;32m      3\u001b[0m \u001b[1;32mprint\u001b[0m \u001b[1;34m\"probRU = \"\u001b[0m\u001b[1;33m,\u001b[0m \u001b[0mprobRU\u001b[0m\u001b[1;33m.\u001b[0m\u001b[0mcount\u001b[0m\u001b[1;33m(\u001b[0m\u001b[1;33m)\u001b[0m\u001b[1;33m\u001b[0m\u001b[0m\n\u001b[0;32m      4\u001b[0m \u001b[1;32mprint\u001b[0m \u001b[1;34m\"probRI = \"\u001b[0m\u001b[1;33m,\u001b[0m \u001b[0mprobRI\u001b[0m\u001b[1;33m.\u001b[0m\u001b[0mcount\u001b[0m\u001b[1;33m(\u001b[0m\u001b[1;33m)\u001b[0m\u001b[1;33m\u001b[0m\u001b[0m\n\u001b[0;32m      5\u001b[0m \u001b[1;32mprint\u001b[0m \u001b[1;34m\"bayesProb = \"\u001b[0m\u001b[1;33m,\u001b[0m \u001b[0mbayesProb\u001b[0m\u001b[1;33m.\u001b[0m\u001b[0mcount\u001b[0m\u001b[1;33m(\u001b[0m\u001b[1;33m)\u001b[0m\u001b[1;33m\u001b[0m\u001b[0m\n",
      "\u001b[1;31mAttributeError\u001b[0m: 'int' object has no attribute 'count'"
     ]
    }
   ],
   "source": [
    "print \"umr = \", umr.count()\n",
    "print \"probR = \", probR.count()\n",
    "print \"probRU = \", probRU.count()\n",
    "print \"probRI = \", probRI.count()\n",
    "print \"bayesProb = \", bayesProb.count()\n",
    "\n",
    "# note: bayesProb.count() = umr.count() * 5"
   ]
  },
  {
   "cell_type": "code",
   "execution_count": null,
   "metadata": {
    "collapsed": false
   },
   "outputs": [],
   "source": [
    "# bayesProb = umr_train * 5\n",
    "1000209 * 5"
   ]
  },
  {
   "cell_type": "code",
   "execution_count": 67,
   "metadata": {
    "collapsed": false
   },
   "outputs": [
    {
     "name": "stdout",
     "output_type": "stream",
     "text": [
      " umrCombo_test.count() =  500750\n",
      "bayesProb.count() =  5001045\n",
      "[((15, 2501), (1.0, 0.0036157073023865916)), ((2129, 1345), (5.0, 0.1056989860131655))]\n",
      "500750\n"
     ]
    }
   ],
   "source": [
    "# extract only user_id, movie_id in umr_test from bayes_prob\n",
    "# remember that we have to extract the bayes_prob for each rating too\n",
    "\n",
    "# [(user_id, movie_id, rating)]\n",
    "print \"umrCombo_test.count() = \", umrCombo_test.count()\n",
    "# [((user_id, movie_id, rating), bayes_prob)]\n",
    "print \"bayesProb.count() = \", bayesProb.count()\n",
    "\n",
    "# [((user_id, movie_id), (rating, bayes_prob))]\n",
    "tmp_a = umrCombo_test.map(lambda (user_id, movie_id, rating): ((user_id, movie_id, rating), 1))\n",
    "tmp_b = bayesProb\n",
    "bayesProb_test = tmp_a.join(tmp_b).map(\n",
    "    lambda ((user_id, movie_id, rating), (_, bayes_prob)): ((user_id, movie_id), (rating, bayes_prob)))\n",
    "print bayesProb_test.take(2)\n",
    "print bayesProb_test.count() # == umrCombo_test.count()"
   ]
  },
  {
   "cell_type": "markdown",
   "metadata": {},
   "source": [
    "umrCombo_test.count() =  501170\n",
    "\n",
    "bayesProb.count() =  5001045\n",
    "\n",
    "[((5522, 2157), (3.0, 0.2209227724078584)), ((5786, 3210), (2.0, 0.08545729298368235))]\n",
    "\n",
    "501170"
   ]
  },
  {
   "cell_type": "code",
   "execution_count": 68,
   "metadata": {
    "collapsed": false
   },
   "outputs": [
    {
     "name": "stdout",
     "output_type": "stream",
     "text": [
      "[((255, 2571), [(4.0, 0.5746800859734277), (1.0, 0.0), (3.0, 0.04302813234864365), (2.0, 0.008755469773908795), (5.0, 0.4100315899159028)]), ((3336, 1784), [(2.0, 0.15385194938488958), (5.0, 0.04741139702767363), (4.0, 0.22600821260791448), (1.0, 0.03779289080632632), (3.0, 0.27444496083913184)])]\n",
      "100150\n"
     ]
    }
   ],
   "source": [
    "# [((user_id, movie_id), [(rating_1, bayes_prob_1), (rating_2, bayes_prob_2), ..., (rating_5, bayes_prob_5)])]\n",
    "um_allBayesProb = bayesProb_test.mapValues(lambda value: [value]).reduceByKey(lambda a, b: a + b)\n",
    "print um_allBayesProb.take(2)\n",
    "print um_allBayesProb.count() # == bayesProb_test.count()/5 == umr_test.count() == 100234"
   ]
  },
  {
   "cell_type": "markdown",
   "metadata": {},
   "source": [
    "[((4335, 1588), [(3.0, 0.5498862085999521), (1.0, 0.016548382705956422), (2.0, 0.13615664002520045), (4.0, 0.32236074697317796), (5.0, 0.025783030822306607)]), ((4728, 1894), [(5.0, 0.01634723322124617), (3.0, 0.7342812664378788), (4.0, 0.256444827101078), (1.0, 0.005091044955245684), (2.0, 0.1289571243789302)])]\n",
    "\n",
    "100234"
   ]
  },
  {
   "cell_type": "code",
   "execution_count": 69,
   "metadata": {
    "collapsed": false
   },
   "outputs": [
    {
     "name": "stdout",
     "output_type": "stream",
     "text": [
      "[((255, 2571), [(1.0, 0.0), (2.0, 0.008755469773908795), (3.0, 0.04302813234864365), (4.0, 0.5746800859734277), (5.0, 0.4100315899159028)]), ((3336, 1784), [(1.0, 0.03779289080632632), (2.0, 0.15385194938488958), (3.0, 0.27444496083913184), (4.0, 0.22600821260791448), (5.0, 0.04741139702767363)])]\n",
      "100150\n"
     ]
    }
   ],
   "source": [
    "um_allBayesProb = um_allBayesProb.mapValues(lambda value: sorted(value, key=lambda(rating, bayes_prob): rating))\n",
    "print um_allBayesProb.take(2)\n",
    "print um_allBayesProb.count()"
   ]
  },
  {
   "cell_type": "markdown",
   "metadata": {
    "collapsed": true
   },
   "source": [
    "### 7.A.1. Implementing Bayes MAP\n",
    "Maximum A Posteriori (MAP) : predict the most probably rating\n",
    "\n",
    "```\n",
    "Pai      = predicted rating for user a on movie i\n",
    "P(r|a,i) = Naive Bayes that computes the probability of rating r for a given user a on movie i\n",
    "\n",
    "Pai = Argmax(r=1 to 5) P(r|a,i)\n",
    "```"
   ]
  },
  {
   "cell_type": "code",
   "execution_count": 70,
   "metadata": {
    "collapsed": false
   },
   "outputs": [
    {
     "name": "stdout",
     "output_type": "stream",
     "text": [
      "[((3336, 1784), 2), ((424, 1422), 2)]\n",
      "100150\n"
     ]
    }
   ],
   "source": [
    "def calculate_bayes_map(value):\n",
    "    # extract the bayes_prob \n",
    "    bayesProbList = [x[1] for x in value]\n",
    "    \n",
    "    # define the argmax, return the index\n",
    "    argmax = bayesProbList.index(max(bayesProbList))\n",
    "    \n",
    "    return argmax\n",
    "    \n",
    "predicted_bayes_map = um_allBayesProb.mapValues(calculate_bayes_map)\n",
    "print predicted_bayes_map.take(2)\n",
    "print predicted_bayes_map.count()"
   ]
  },
  {
   "cell_type": "markdown",
   "metadata": {},
   "source": [
    "[((4335, 1588), 0), ((4728, 1894), 2)]\n",
    "\n",
    "100234"
   ]
  },
  {
   "cell_type": "code",
   "execution_count": 71,
   "metadata": {
    "collapsed": false
   },
   "outputs": [
    {
     "name": "stdout",
     "output_type": "stream",
     "text": [
      "[((366, 3196), (5.0, 4)), ((1810, 3072), (4.0, 3))]\n",
      "100150\n"
     ]
    }
   ],
   "source": [
    "# [(test_user_id, test_movie_id), (actual_rating, predicted_rating)]\n",
    "tmp_a = umr_test.map(lambda (user_id, movie_id, rating): ((user_id, movie_id), rating))\n",
    "tmp_b = predicted_bayes_map\n",
    "um_testBayesMap = tmp_a.join(tmp_b)\n",
    "print um_testBayesMap.take(2)\n",
    "print um_testBayesMap.count()\n",
    "\n",
    "# [(train_user_id, train_movie_id), (actual_rating, predicted_rating)]\n",
    "tmp_a = umr_train.map(lambda (user_id, movie_id, rating): ((user_id, movie_id), rating))\n",
    "tmp_b = predicted_bayes_map\n",
    "um_trainBayesMap = tmp_a.join(tmp_b)"
   ]
  },
  {
   "cell_type": "markdown",
   "metadata": {},
   "source": [
    "[((3491, 3699), (4.0, 0)), ((1120, 1654), (4.0, 0))]\n",
    "\n",
    "100234"
   ]
  },
  {
   "cell_type": "code",
   "execution_count": 72,
   "metadata": {
    "collapsed": false
   },
   "outputs": [
    {
     "name": "stdout",
     "output_type": "stream",
     "text": [
      "899975\n",
      "100234\n",
      "0\n"
     ]
    }
   ],
   "source": [
    "a, b, c = umr.randomSplit(weights, seed)\n",
    "print a.count()\n",
    "print b.count()\n",
    "print c.count()"
   ]
  },
  {
   "cell_type": "markdown",
   "metadata": {},
   "source": [
    "900042\n",
    "100167\n",
    "0"
   ]
  },
  {
   "cell_type": "code",
   "execution_count": 73,
   "metadata": {
    "collapsed": false
   },
   "outputs": [
    {
     "name": "stdout",
     "output_type": "stream",
     "text": [
      "[(1, 1197, 3.0)]\n",
      "[(2, 593, 5.0)]\n"
     ]
    }
   ],
   "source": [
    "print a.take(1)\n",
    "print b.take(1)"
   ]
  },
  {
   "cell_type": "markdown",
   "metadata": {},
   "source": [
    "[(2, 1955, 4.0)]\n",
    "[(31, 3591, 3.0)]"
   ]
  },
  {
   "cell_type": "code",
   "execution_count": 74,
   "metadata": {
    "collapsed": false,
    "scrolled": true
   },
   "outputs": [
    {
     "name": "stdout",
     "output_type": "stream",
     "text": [
      "actual:\n",
      "[(3039, 2937, 4), (1810, 3072, 3), (2718, 1610, 3), (5081, 3255, 3), (4448, 52, 3)]\n",
      "predicted:\n",
      "[(366, 3196, 5.0), (1810, 3072, 4.0), (2718, 1610, 2.0), (59, 943, 3.0), (4448, 52, 5.0)]\n",
      "rmse =  1.33451063018\n",
      "mae =  1.06974538193\n"
     ]
    }
   ],
   "source": [
    "# calculate RMSE and MAE\n",
    "\n",
    "# convert into two vectors where\n",
    "# one vector describes the actual ratings in the format [(user_id, movie_id, actual_rating)]\n",
    "# second vector describes the predicted ratings in the format [(user_id, movie_id, predicted_rating)]\n",
    "actual =  um_testBayesMap.map(\n",
    "    lambda((test_user_id, test_movie_id), (actual_rating, predicted_rating)): (test_user_id, test_movie_id, actual_rating)\n",
    "    )\n",
    "predicted = um_testBayesMap.map(\n",
    "    lambda((test_user_id, test_movie_id), (actual_rating, predicted_rating)): (test_user_id, test_movie_id, predicted_rating)\n",
    "    )\n",
    "\n",
    "print \"actual:\\n\", actual.take(5)\n",
    "print \"predicted:\\n\", predicted.take(5)\n",
    "\n",
    "rmse = pm.calculate_rmse_using_rdd(actual, predicted)\n",
    "print \"rmse = \", rmse\n",
    "\n",
    "mae = pm.calculate_mae_using_rdd(actual, predicted)\n",
    "print \"mae = \", mae"
   ]
  },
  {
   "cell_type": "markdown",
   "metadata": {},
   "source": [
    "```\n",
    "actual:\n",
    "[(3039, 2937, 4), (1810, 3072, 3), (2718, 1610, 3), (5081, 3255, 3), (4448, 52, 3)]\n",
    "predicted:\n",
    "[(366, 3196, 5.0), (1810, 3072, 4.0), (2718, 1610, 2.0), (59, 943, 3.0), (4448, 52, 5.0)]\n",
    "rmse =  1.33451063018\n",
    "mae =  1.06974538193\n",
    "```"
   ]
  },
  {
   "cell_type": "code",
   "execution_count": null,
   "metadata": {
    "collapsed": false
   },
   "outputs": [],
   "source": [
    "# y_test\n",
    "y_test = um_testBayesMap.map(\n",
    "    lambda((test_user_id, test_movie_id), (predicted_rating, actual_rating)): (test_user_id, test_movie_id, actual_rating)\n",
    ")\n",
    "\n",
    "# y_train\n",
    "y_train =  um_trainBayesMap.map(\n",
    "    lambda((test_user_id, test_movie_id), (predicted_rating, actual_rating)): (test_user_id, test_movie_id, actual_rating)\n",
    ")\n",
    "\n",
    "# y_predicted\n",
    "y_predicted = um_testBayesMap.map(\n",
    "    lambda((test_user_id, test_movie_id), (predicted_rating, actual_rating)): (test_user_id, test_movie_id, predicted_rating)\n",
    ")\n",
    "\n",
    "pm_results_bayes_map = pm.get_perform_metrics(y_test, y_train, y_predicted, content_array, sqlCtx)"
   ]
  },
  {
   "cell_type": "code",
   "execution_count": null,
   "metadata": {
    "collapsed": true
   },
   "outputs": [],
   "source": [
    "from pprint import pprint\n",
    "pprint(pm_results_bayes_map)"
   ]
  },
  {
   "cell_type": "markdown",
   "metadata": {
    "collapsed": true
   },
   "source": [
    "### 7.A.2. Implementing Bayes MSE\n",
    "Mean Squared Error (MSE): compute the weighted sum of ratings that corresponds to minimizing the expectation of MSE\n",
    "\n",
    "```\n",
    "Pai      = predicted rating for user a on movie i\n",
    "P(r|a,i) = Naive Bayes that computes the probability of rating r for a given user a on movie i\n",
    "\n",
    "Pai = Sum of (r * P(r|a,i)) from r=1 to 5\n",
    "```"
   ]
  },
  {
   "cell_type": "code",
   "execution_count": 75,
   "metadata": {
    "collapsed": false
   },
   "outputs": [
    {
     "name": "stdout",
     "output_type": "stream",
     "text": [
      "[((3336, 1784), 2.3099215076635273), ((2629, 1625), 4.746602171046973)]\n",
      "100150\n"
     ]
    }
   ],
   "source": [
    "def calculate_bayes_mse(value):\n",
    "    predicted = 0.\n",
    "    for rating, bayes_prob in value:\n",
    "        predicted += rating * bayes_prob\n",
    "    return predicted\n",
    "\n",
    "predicted_bayes_mse = um_allBayesProb.mapValues(calculate_bayes_mse)\n",
    "print predicted_bayes_mse.take(2)\n",
    "print predicted_bayes_mse.count()"
   ]
  },
  {
   "cell_type": "markdown",
   "metadata": {},
   "source": [
    "[((4335, 1588), 3.3568784305604584), ((4728, 1894), 3.5733645675372854)]\n",
    "\n",
    "100234"
   ]
  },
  {
   "cell_type": "code",
   "execution_count": 76,
   "metadata": {
    "collapsed": false
   },
   "outputs": [
    {
     "name": "stdout",
     "output_type": "stream",
     "text": [
      "[((366, 3196), (5.0, 5.648355331346897)), ((1810, 3072), (4.0, 4.023539470654143))]\n",
      "100150\n"
     ]
    }
   ],
   "source": [
    "# [(test_user_id, test_movie_id), (predicted_rating, actual_rating)]\n",
    "tmp_a = umr_test.map(lambda (user_id, movie_id, rating): ((user_id, movie_id), rating))\n",
    "tmp_b = predicted_bayes_mse\n",
    "um_testBayesMse = tmp_a.join(tmp_b)\n",
    "print um_testBayesMse.take(2)\n",
    "print um_testBayesMse.count()"
   ]
  },
  {
   "cell_type": "markdown",
   "metadata": {},
   "source": [
    "[((1120, 1654), (4.0, 3.44226621556054)), ((4439, 3005), (3.0, 3.360422113015879))]\n",
    "\n",
    "100234"
   ]
  },
  {
   "cell_type": "code",
   "execution_count": 79,
   "metadata": {
    "collapsed": false
   },
   "outputs": [
    {
     "name": "stdout",
     "output_type": "stream",
     "text": [
      "actual:\n",
      "[(5302, 2294, 3.532715429601343), (2914, 1394, 6.48970175067121), (3108, 1358, 4.140766134805869), (881, 1183, 2.9152587564475585), (2415, 2475, 3.5870571391790125)]\n",
      "predicted:\n",
      "[(479, 2822, 4.0), (1645, 610, 5.0), (1912, 903, 2.0), (1209, 1196, 4.0), (1685, 1284, 3.0)]\n",
      "rmse =  1.17236436154\n",
      "mae =  0.915206301792\n"
     ]
    }
   ],
   "source": [
    "# calculate RMSE and MAE\n",
    "\n",
    "# convert into two vectors where\n",
    "# one vector describes the actual ratings in the format [(user_id, movie_id, actual_rating)]\n",
    "# second vector describes the predicted ratings in the format [(user_id, movie_id, predicted_rating)]\n",
    "actual =  um_testBayesMse.map(\n",
    "    lambda((test_user_id, test_movie_id), (actual_rating, predicted_rating)): (test_user_id, test_movie_id, actual_rating)\n",
    "    )\n",
    "predicted = um_testBayesMse.map(\n",
    "    lambda((test_user_id, test_movie_id), (actual_rating, predicted_rating)): (test_user_id, test_movie_id, predicted_rating)\n",
    "    )\n",
    "\n",
    "print \"actual:\\n\", actual.take(5)\n",
    "print \"predicted:\\n\", predicted.take(5)\n",
    "\n",
    "rmse = pm.calculate_rmse_using_rdd(actual, predicted)\n",
    "print \"rmse = \", rmse\n",
    "\n",
    "mae = pm.calculate_mae_using_rdd(actual, predicted)\n",
    "print \"mae = \", mae"
   ]
  },
  {
   "cell_type": "markdown",
   "metadata": {},
   "source": [
    "actual:\n",
    "[(1120, 1654, 3.44226621556054), (4439, 3005, 3.360422113015879), (4271, 3671, 2.8494882459525477), (2259, 1213, 7.778718357130783), (1820, 3101, 3.7261784376809395)]\n",
    "\n",
    "predicted:\n",
    "[(1120, 1654, 4.0), (4439, 3005, 3.0), (4271, 3671, 5.0), (2259, 1213, 5.0), (1820, 3101, 5.0)]\n",
    "\n",
    "rmse =  1.17748775303\n",
    "\n",
    "mae =  0.918588835371"
   ]
  },
  {
   "cell_type": "code",
   "execution_count": null,
   "metadata": {
    "collapsed": false
   },
   "outputs": [],
   "source": [
    "# y_test\n",
    "y_test =  um_testBayesMse.map(\n",
    "    lambda((test_user_id, test_movie_id), (predicted_rating, actual_rating)): (test_user_id, test_movie_id, actual_rating)\n",
    ")\n",
    "\n",
    "# y_train\n",
    "tmp_a = umr_train.map(lambda (user_id, movie_id, rating): ((user_id, movie_id), rating))\n",
    "tmp_b = predicted_bayes_mse\n",
    "um_trainBayesMse = tmp_a.join(tmp_b)\n",
    "y_train =  um_trainBayesMse.map(\n",
    "    lambda((test_user_id, test_movie_id), (predicted_rating, actual_rating)): (test_user_id, test_movie_id, actual_rating)\n",
    ")\n",
    "\n",
    "# y_predicted\n",
    "y_predicted = um_testBayesMse.map(\n",
    "    lambda((test_user_id, test_movie_id), (predicted_rating, actual_rating)): (test_user_id, test_movie_id, predicted_rating)\n",
    ")\n",
    "\n",
    "pm_results_bayes_mse = pm.get_perform_metrics(y_test, y_train, y_predicted, content_array, sqlCtx)"
   ]
  },
  {
   "cell_type": "code",
   "execution_count": null,
   "metadata": {
    "collapsed": false
   },
   "outputs": [],
   "source": [
    "from pprint import pprint\n",
    "pprint(pm_results_bayes_mse)"
   ]
  },
  {
   "cell_type": "markdown",
   "metadata": {
    "collapsed": true
   },
   "source": [
    "### 7.A.3. Implementing Bayes MAE\n",
    "Mean Absolute Error (MAE): select the rating that minimizes the expectation of Mean Absolute Error   \n",
    "\n",
    "```\n",
    "Pai      = predicted rating for user a on movie i\n",
    "P(r|a,i) = Naive Bayes that computes the probability of rating r for a given user a on movie i\n",
    "\n",
    "Pai = Argmin from r=1 to 5(Sum of (P(n|a,i) * |r-n|) from n=1 to 5)\n",
    "```"
   ]
  },
  {
   "cell_type": "code",
   "execution_count": 80,
   "metadata": {
    "collapsed": false
   },
   "outputs": [
    {
     "name": "stdout",
     "output_type": "stream",
     "text": [
      "[((255, 2571), 0), ((3336, 1784), 0)]\n",
      "100150\n"
     ]
    }
   ],
   "source": [
    "# TODO: fix this the same as argmax\n",
    "\n",
    "def calculate_bayes_mae(value):\n",
    "    sumOfProductList = []\n",
    "    for rating, bayes_prob in value:\n",
    "        sumOfProduct = 0.\n",
    "        for i in range(1, 6):\n",
    "            sumOfProduct += bayes_prob * abs(rating - i)\n",
    "        sumOfProductList.append(sumOfProduct)\n",
    "        \n",
    "    argmin = sumOfProductList.index(min(sumOfProductList))\n",
    "\n",
    "    return argmin\n",
    "\n",
    "predicted_bayes_mae = um_allBayesProb.mapValues(calculate_bayes_mae)\n",
    "print predicted_bayes_mae.take(2)\n",
    "print predicted_bayes_mae.count()"
   ]
  },
  {
   "cell_type": "markdown",
   "metadata": {},
   "source": [
    "[((4335, 1588), 4), ((4728, 1894), 2)]\n",
    "\n",
    "100234"
   ]
  },
  {
   "cell_type": "code",
   "execution_count": 81,
   "metadata": {
    "collapsed": false
   },
   "outputs": [
    {
     "name": "stdout",
     "output_type": "stream",
     "text": [
      "[((1496, 3740), (4.0, 2)), ((1810, 3072), (4.0, 3))]\n",
      "100150\n"
     ]
    }
   ],
   "source": [
    "# [(test_user_id, test_movie_id), (predicted_rating, actual_rating)]\n",
    "tmp_a = umr_test.map(lambda (user_id, movie_id, rating): ((user_id, movie_id), rating))\n",
    "tmp_b = predicted_bayes_map\n",
    "um_testBayesMae = tmp_a.join(tmp_b)\n",
    "print um_testBayesMae.take(2)\n",
    "print um_testBayesMae.count()"
   ]
  },
  {
   "cell_type": "markdown",
   "metadata": {},
   "source": [
    "[((1120, 1654), (4.0, 2)), ((4169, 2723), (3.0, 3))]\n",
    "\n",
    "100234"
   ]
  },
  {
   "cell_type": "code",
   "execution_count": 82,
   "metadata": {
    "collapsed": false
   },
   "outputs": [
    {
     "name": "stdout",
     "output_type": "stream",
     "text": [
      "actual:\n",
      "[(1496, 3740, 2), (1810, 3072, 3), (2485, 307, 3), (588, 1900, 4), (2718, 1610, 3)]\n",
      "predicted:\n",
      "[(366, 3196, 5.0), (1810, 3072, 4.0), (2485, 307, 3.0), (2718, 1610, 2.0), (474, 1580, 4.0)]\n",
      "rmse =  1.33451063018\n",
      "mae =  1.06974538193\n"
     ]
    }
   ],
   "source": [
    "# calculate RMSE and MAE\n",
    "\n",
    "from src.algorithms import performance_metrics as pm\n",
    "\n",
    "# convert into two vectors where\n",
    "# one vector describes the actual ratings in the format [(user_id, movie_id, actual_rating)]\n",
    "# second vector describes the predicted ratings in the format [(user_id, movie_id, predicted_rating)]\n",
    "actual =  um_testBayesMae.map(\n",
    "    lambda((test_user_id, test_movie_id), (predicted_rating, actual_rating)): (test_user_id, test_movie_id, actual_rating)\n",
    "    )\n",
    "predicted = um_testBayesMae.map(\n",
    "    lambda((test_user_id, test_movie_id), (predicted_rating, actual_rating)): (test_user_id, test_movie_id, predicted_rating)\n",
    "    )\n",
    "\n",
    "print \"actual:\\n\", actual.take(5)\n",
    "print \"predicted:\\n\", predicted.take(5)\n",
    "\n",
    "rmse = pm.calculate_rmse_using_rdd(actual, predicted)\n",
    "print \"rmse = \", rmse\n",
    "\n",
    "mae = pm.calculate_mae_using_rdd(actual, predicted)\n",
    "print \"mae = \", mae"
   ]
  },
  {
   "cell_type": "markdown",
   "metadata": {},
   "source": [
    "actual:\n",
    "[(1120, 1654, 2), (4169, 2723, 3), (4271, 3671, 3), (2259, 1213, 1), (1820, 3101, 4)]\n",
    "\n",
    "predicted:\n",
    "[(1120, 1654, 4.0), (4439, 3005, 3.0), (4271, 3671, 5.0), (2259, 1213, 5.0), (1820, 3101, 5.0)]\n",
    "\n",
    "rmse =  2.39828498227\n",
    "\n",
    "mae =  1.95142366862"
   ]
  },
  {
   "cell_type": "code",
   "execution_count": null,
   "metadata": {
    "collapsed": false
   },
   "outputs": [],
   "source": [
    "# y_test\n",
    "y_test =  um_testBayesMae.map(\n",
    "    lambda((test_user_id, test_movie_id), (predicted_rating, actual_rating)): (test_user_id, test_movie_id, actual_rating)\n",
    ")\n",
    "\n",
    "# y_train\n",
    "tmp_a = umr_train.map(lambda (user_id, movie_id, rating): ((user_id, movie_id), rating))\n",
    "tmp_b = predicted_bayes_mae\n",
    "um_trainBayesMae = tmp_a.join(tmp_b)\n",
    "y_train =  um_trainBayesMae.map(\n",
    "    lambda((test_user_id, test_movie_id), (predicted_rating, actual_rating)): (test_user_id, test_movie_id, actual_rating)\n",
    ")\n",
    "\n",
    "# y_predicted\n",
    "y_predicted = um_testBayesMae.map(\n",
    "    lambda((test_user_id, test_movie_id), (predicted_rating, actual_rating)): (test_user_id, test_movie_id, predicted_rating)\n",
    ")\n",
    "\n",
    "pm_results_bayes_mae = get_results(y_test, y_train, y_predicted, content_array, sqlCtx)"
   ]
  },
  {
   "cell_type": "code",
   "execution_count": null,
   "metadata": {
    "collapsed": true
   },
   "outputs": [],
   "source": [
    "pprint(pm_results_bayes_mae)"
   ]
  },
  {
   "cell_type": "code",
   "execution_count": null,
   "metadata": {
    "collapsed": true
   },
   "outputs": [],
   "source": []
  }
 ],
 "metadata": {
  "kernelspec": {
   "display_name": "Python 2",
   "language": "python",
   "name": "python2"
  },
  "language_info": {
   "codemirror_mode": {
    "name": "ipython",
    "version": 2
   },
   "file_extension": ".py",
   "mimetype": "text/x-python",
   "name": "python",
   "nbconvert_exporter": "python",
   "pygments_lexer": "ipython2",
   "version": "2.7.11"
  }
 },
 "nbformat": 4,
 "nbformat_minor": 0
}
